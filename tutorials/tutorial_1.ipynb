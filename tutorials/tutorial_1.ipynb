{
 "cells": [
  {
   "cell_type": "markdown",
   "metadata": {
    "toc": true
   },
   "source": [
    "<h1>Table of Contents<span class=\"tocSkip\"></span></h1>\n",
    "<div class=\"toc\"><ul class=\"toc-item\"><li><span><a href=\"#Building-a-ROS-package\" data-toc-modified-id=\"Building-a-ROS-package-1\"><span class=\"toc-item-num\">1&nbsp;&nbsp;</span>Building a ROS package</a></span><ul class=\"toc-item\"><li><span><a href=\"#Conceptual-Overview\" data-toc-modified-id=\"Conceptual-Overview-1.1\"><span class=\"toc-item-num\">1.1&nbsp;&nbsp;</span>Conceptual Overview</a></span><ul class=\"toc-item\"><li><span><a href=\"#ROS-Packages\" data-toc-modified-id=\"ROS-Packages-1.1.1\"><span class=\"toc-item-num\">1.1.1&nbsp;&nbsp;</span>ROS Packages</a></span></li><li><span><a href=\"#Catkin\" data-toc-modified-id=\"Catkin-1.1.2\"><span class=\"toc-item-num\">1.1.2&nbsp;&nbsp;</span>Catkin</a></span></li></ul></li><li><span><a href=\"#Creating-a-Catkin-Workspace\" data-toc-modified-id=\"Creating-a-Catkin-Workspace-1.2\"><span class=\"toc-item-num\">1.2&nbsp;&nbsp;</span>Creating a Catkin Workspace</a></span></li><li><span><a href=\"#Creating-a-catkin-Package\" data-toc-modified-id=\"Creating-a-catkin-Package-1.3\"><span class=\"toc-item-num\">1.3&nbsp;&nbsp;</span>Creating a catkin Package</a></span></li></ul></li><li><span><a href=\"#Building-a-ROS-package.\" data-toc-modified-id=\"Building-a-ROS-package.-2\"><span class=\"toc-item-num\">2&nbsp;&nbsp;</span>Building a ROS package.</a></span><ul class=\"toc-item\"><li><span><a href=\"#Publisher\" data-toc-modified-id=\"Publisher-2.1\"><span class=\"toc-item-num\">2.1&nbsp;&nbsp;</span>Publisher</a></span></li><li><span><a href=\"#Subscriber\" data-toc-modified-id=\"Subscriber-2.2\"><span class=\"toc-item-num\">2.2&nbsp;&nbsp;</span>Subscriber</a></span></li></ul></li><li><span><a href=\"#Running-a-ROS-package\" data-toc-modified-id=\"Running-a-ROS-package-3\"><span class=\"toc-item-num\">3&nbsp;&nbsp;</span>Running a ROS package</a></span></li><li><span><a href=\"#ROS-Commands\" data-toc-modified-id=\"ROS-Commands-4\"><span class=\"toc-item-num\">4&nbsp;&nbsp;</span>ROS Commands</a></span></li><li><span><a href=\"#ROS-Parameters\" data-toc-modified-id=\"ROS-Parameters-5\"><span class=\"toc-item-num\">5&nbsp;&nbsp;</span>ROS Parameters</a></span></li><li><span><a href=\"#Launch-Files\" data-toc-modified-id=\"Launch-Files-6\"><span class=\"toc-item-num\">6&nbsp;&nbsp;</span>Launch Files</a></span></li></ul></div>"
   ]
  },
  {
   "cell_type": "code",
   "execution_count": 29,
   "metadata": {},
   "outputs": [
    {
     "name": "stdout",
     "output_type": "stream",
     "text": [
      "The autoreload extension is already loaded. To reload it, use:\n",
      "  %reload_ext autoreload\n"
     ]
    }
   ],
   "source": [
    "%load_ext autoreload\n",
    "%autoreload 2"
   ]
  },
  {
   "cell_type": "markdown",
   "metadata": {},
   "source": [
    "# Building a ROS package"
   ]
  },
  {
   "cell_type": "markdown",
   "metadata": {},
   "source": [
    "## Conceptual Overview"
   ]
  },
  {
   "cell_type": "markdown",
   "metadata": {},
   "source": [
    "### ROS Packages\n",
    "\n",
    " - Software in ROS is organised in **packages**.\n",
    "  - Loosely speaking, a ROS package corresponds to a folder contains\n",
    "    source code for example, in a C++ project .\n",
    "  - In practice, a ROS package contains ROS nodes, a ROS-independent library, a dataset,\n",
    "    configuration files, a third-party piece of software, or anything\n",
    "    else that logically constitutes a useful module.\n",
    "  - The goal of these packages it to provide useful functionality\n",
    "    in an easy-to-consume manner so that software can be easily\n",
    "    reused.\n",
    "  - We can build a ROS package manually or using `catkin`."
   ]
  },
  {
   "cell_type": "markdown",
   "metadata": {},
   "source": [
    "###  Catkin\n",
    "\n",
    "- catkin is the official build system of ROS\n",
    "  - catkin combines CMake macros and Python scripts to provide some\n",
    "    functionality on top of CMake's normal workflow.\n",
    "  - The name catkin comes from the tail-shaped flower cluster found on\n",
    "    willow trees\n",
    "  - A build system is responsible for generating 'targets' from raw source code\n",
    "  - targets may be in the form of libraries, executable programs, generated scripts, exported interfaces (e.g. C++ header files) or anything else that is not static code.\n",
    "  - To build targets, the build system needs information such as the\n",
    "    locations of tool chain components (e.g. C++ compiler), source\n",
    "    code locations, code dependencies, external dependencies, where\n",
    "    those dependencies are located, which targets should be built,\n",
    "    where targets should be built, and where they should be\n",
    "    installed. This is typically expressed in some set of\n",
    "    configuration files read by the build system. In an IDE, this\n",
    "    information is typically stored as part of the workspace/project\n",
    "    meta-information (e.g. Visual C++ project file). With CMake, it is\n",
    "    specified in a file typically called 'CMakeLists.txt' and with GNU\n",
    "    Make it is within a file typically called 'Makefile'. The build\n",
    "    system utilizes this information to process and build source code\n",
    "    in the appropriate order to generate targets.\n",
    "- Why catkin ?\n",
    "    - For development of single software projects, existing tools like Autotools, CMake, and the build systems included with IDEs tend to be sufficient. However, these tools can be difficult to use on their own with large, complex, and/or highly heterogeneous code ecosystems -- mainly because of the sheer number of dependencies, complex code organization, and custom build rules a particular target could have. \n",
    "    - As these tools are very general and designed to be used by software developers, they also tend to be difficult to use by those without a software development background.\n",
    "    - ROS is a very large collection of loosely federated packages.\n",
    "    -  catkin specifically tries to improve development on large sets of related packages in a consistent and conventional way. \n",
    "- Workspaces\n",
    "    - catkin packages can be built as a standalone project\n",
    "    - But catkin also provides the concept of **workspaces**, where you can build multiple, interdependent packages together all at once.\n",
    "    - A catkin workspace is a folder where you modify, build, and install catkin packages.\n",
    "    - A typical catkin workspace layout is shown below:\n",
    "    "
   ]
  },
  {
   "cell_type": "markdown",
   "metadata": {},
   "source": [
    "```\n",
    "            workspace_folder/         -- WORKSPACE\n",
    "              src/                    -- SOURCE SPACE\n",
    "                CMakeLists.txt        -- The 'toplevel' CMake file\n",
    "                package_1/\n",
    "                  CMakeLists.txt\n",
    "                  package.xml\n",
    "                  ...\n",
    "                package_n/\n",
    "                  CATKIN_IGNORE       -- Optional empty file to exclude package_n from being processed\n",
    "                  CMakeLists.txt\n",
    "                  package.xml\n",
    "                  ...\n",
    "              build/                  -- BUILD SPACE\n",
    "                CATKIN_IGNORE         -- Keeps catkin from walking this directory\n",
    "              devel/                  -- DEVELOPMENT SPACE (set by CATKIN_DEVEL_PREFIX)\n",
    "                bin/\n",
    "                etc/\n",
    "                include/\n",
    "                lib/\n",
    "                share/\n",
    "                .catkin\n",
    "                env.bash\n",
    "                setup.bash\n",
    "                setup.sh\n",
    "                ...\n",
    "              install/                -- INSTALL SPACE (set by CMAKE_INSTALL_PREFIX)\n",
    "                bin/\n",
    "                etc/\n",
    "                include/\n",
    "                lib/\n",
    "                share/\n",
    "                .catkin             \n",
    "                env.bash\n",
    "                setup.bash\n",
    "                setup.sh\n",
    "                ...\n",
    "```"
   ]
  },
  {
   "cell_type": "markdown",
   "metadata": {},
   "source": [
    "## Creating a Catkin Workspace"
   ]
  },
  {
   "cell_type": "code",
   "execution_count": 1,
   "metadata": {},
   "outputs": [
    {
     "name": "stdout",
     "output_type": "stream",
     "text": [
      "/home/samrat/projects/ROS_workshop\n",
      "/home/samrat/projects/ROS_workshop/workspace\n",
      "Base path: /home/samrat/projects/ROS_workshop/workspace\n",
      "Source space: /home/samrat/projects/ROS_workshop/workspace/src\n",
      "Build space: /home/samrat/projects/ROS_workshop/workspace/build\n",
      "Devel space: /home/samrat/projects/ROS_workshop/workspace/devel\n",
      "Install space: /home/samrat/projects/ROS_workshop/workspace/install\n",
      "\u001b[34m####\u001b[0m\n",
      "\u001b[34m#### Running command: \u001b[1m\"make cmake_check_build_system\"\u001b[0m\u001b[34m in \u001b[1m\"/home/samrat/projects/ROS_workshop/workspace/build\"\u001b[0m\n",
      "\u001b[34m####\u001b[0m\n",
      "\u001b[34m####\u001b[0m\n",
      "\u001b[34m#### Running command: \u001b[1m\"make -j4 -l4\"\u001b[0m\u001b[34m in \u001b[1m\"/home/samrat/projects/ROS_workshop/workspace/build\"\u001b[0m\n",
      "\u001b[34m####\u001b[0m\n"
     ]
    }
   ],
   "source": [
    "%cd ~/projects/ROS_workshop/\n",
    "%mkdir -p workspace/src\n",
    "%cd workspace\n",
    "!catkin_make"
   ]
  },
  {
   "cell_type": "code",
   "execution_count": 12,
   "metadata": {},
   "outputs": [
    {
     "name": "stdout",
     "output_type": "stream",
     "text": [
      "/home/samrat/projects/ROS_workshop/workspace/src:/home/samrat/ros_ws/src/ethzasl_xsens_driver:/home/samrat/ros_ws/install_isolated/share:/opt/ros/kinetic/share\n"
     ]
    }
   ],
   "source": [
    "%%bash\n",
    "source devel/setup.bash\n",
    "echo $ROS_PACKAGE_PATH"
   ]
  },
  {
   "cell_type": "code",
   "execution_count": 13,
   "metadata": {},
   "outputs": [
    {
     "name": "stdout",
     "output_type": "stream",
     "text": [
      "/home/samrat/ros_ws/src/ethzasl_xsens_driver:/home/samrat/ros_ws/install_isolated/share:/opt/ros/kinetic/share\n"
     ]
    }
   ],
   "source": [
    "!echo $ROS_PACKAGE_PATH"
   ]
  },
  {
   "cell_type": "markdown",
   "metadata": {},
   "source": [
    "## Creating a catkin Package"
   ]
  },
  {
   "cell_type": "code",
   "execution_count": 2,
   "metadata": {},
   "outputs": [
    {
     "name": "stdout",
     "output_type": "stream",
     "text": [
      "/home/samrat/projects/ROS_workshop/workspace/src\n"
     ]
    }
   ],
   "source": [
    "cd ~/projects/ROS_workshop/workspace/src"
   ]
  },
  {
   "cell_type": "code",
   "execution_count": 3,
   "metadata": {},
   "outputs": [
    {
     "name": "stdout",
     "output_type": "stream",
     "text": [
      "usage: catkin_create_pkg [-h] [--meta] [-s [SYS_DEPS [SYS_DEPS ...]]]\r\n",
      "                         [-b [BOOST_COMPS [BOOST_COMPS ...]]] [-V PKG_VERSION]\r\n",
      "                         [-D DESCRIPTION] [-l LICENSE] [-a AUTHOR]\r\n",
      "                         [-m MAINTAINER] [--rosdistro ROSDISTRO]\r\n",
      "                         name [dependencies [dependencies ...]]\r\n",
      "catkin_create_pkg: error: File exists: /home/samrat/projects/ROS_workshop/workspace/src/workshop_tutorials/CMakeLists.txt\r\n"
     ]
    }
   ],
   "source": [
    "!catkin_create_pkg workshop_tutorials std_msgs rospy"
   ]
  },
  {
   "cell_type": "code",
   "execution_count": null,
   "metadata": {},
   "outputs": [],
   "source": [
    "!rosls workshop_tutorial"
   ]
  },
  {
   "cell_type": "markdown",
   "metadata": {},
   "source": [
    "# Building a ROS package."
   ]
  },
  {
   "cell_type": "code",
   "execution_count": 5,
   "metadata": {},
   "outputs": [
    {
     "name": "stdout",
     "output_type": "stream",
     "text": [
      "mkdir: cannot create directory ‘workshop_tutorials/scripts’: File exists\n"
     ]
    }
   ],
   "source": [
    "%mkdir workshop_tutorials/scripts"
   ]
  },
  {
   "cell_type": "markdown",
   "metadata": {},
   "source": [
    "For this tutorial we have already created a couple of python scripts. We are going to copy them over to the scripts folder created in the previous step. "
   ]
  },
  {
   "cell_type": "code",
   "execution_count": 24,
   "metadata": {},
   "outputs": [],
   "source": [
    "%cp /home/samrat/projects/ROS_workshop/tutorials/scripts/talker.py /home/samrat/projects/ROS_workshop/workspace/src/workshop_tutorials/scripts/\n",
    "%cp /home/samrat/projects/ROS_workshop/tutorials/scripts/listener.py /home/samrat/projects/ROS_workshop/workspace/src/workshop_tutorials/scripts/"
   ]
  },
  {
   "cell_type": "markdown",
   "metadata": {},
   "source": [
    "Next, we make the scripts executable. Normal files are not executable in Linux. We need to make them executable. "
   ]
  },
  {
   "cell_type": "code",
   "execution_count": 25,
   "metadata": {},
   "outputs": [],
   "source": [
    "!chmod +x /home/samrat/projects/ROS_workshop/workspace/src/workshop_tutorials/scripts/*"
   ]
  },
  {
   "cell_type": "code",
   "execution_count": 26,
   "metadata": {},
   "outputs": [
    {
     "name": "stdout",
     "output_type": "stream",
     "text": [
      "/home/samrat/projects/ROS_workshop/workspace\n",
      "Base path: /home/samrat/projects/ROS_workshop/workspace\n",
      "Source space: /home/samrat/projects/ROS_workshop/workspace/src\n",
      "Build space: /home/samrat/projects/ROS_workshop/workspace/build\n",
      "Devel space: /home/samrat/projects/ROS_workshop/workspace/devel\n",
      "Install space: /home/samrat/projects/ROS_workshop/workspace/install\n",
      "\u001b[34m####\u001b[0m\n",
      "\u001b[34m#### Running command: \u001b[1m\"make cmake_check_build_system\"\u001b[0m\u001b[34m in \u001b[1m\"/home/samrat/projects/ROS_workshop/workspace/build\"\u001b[0m\n",
      "\u001b[34m####\u001b[0m\n",
      "\u001b[34m####\u001b[0m\n",
      "\u001b[34m#### Running command: \u001b[1m\"make -j4 -l4\"\u001b[0m\u001b[34m in \u001b[1m\"/home/samrat/projects/ROS_workshop/workspace/build\"\u001b[0m\n",
      "\u001b[34m####\u001b[0m\n"
     ]
    }
   ],
   "source": [
    "%cd ~/projects/ROS_workshop/workspace/\n",
    "!catkin_make"
   ]
  },
  {
   "cell_type": "markdown",
   "metadata": {},
   "source": [
    "## Publisher"
   ]
  },
  {
   "cell_type": "code",
   "execution_count": null,
   "metadata": {},
   "outputs": [],
   "source": [
    "# %load src/workshop_tutorials/scripts/talker.py\n",
    "#!/usr/bin/env python\n",
    "# license removed for brevity\n",
    "import rospy\n",
    "from std_msgs.msg import String\n",
    "\n",
    "\n",
    "def talker():\n",
    "    msg = rospy.get_param(\"message\", \"Hello world!\")\n",
    "    pub = rospy.Publisher('chatter', String, queue_size=10)\n",
    "    rospy.init_node('talker', anonymous=True)\n",
    "    rate = rospy.Rate(10)  # 10hz\n",
    "    while not rospy.is_shutdown():\n",
    "        hello_str = \"{}\".format(msg)\n",
    "        rospy.loginfo(hello_str)\n",
    "        pub.publish(hello_str)\n",
    "        rate.sleep()\n",
    "\n",
    "\n",
    "if __name__ == '__main__':\n",
    "    try:\n",
    "        talker()\n",
    "    except rospy.ROSInterruptException:\n",
    "        pass\n"
   ]
  },
  {
   "cell_type": "markdown",
   "metadata": {},
   "source": [
    "## Subscriber"
   ]
  },
  {
   "cell_type": "code",
   "execution_count": null,
   "metadata": {
    "scrolled": true
   },
   "outputs": [],
   "source": [
    "# %load src/workshop_tutorials/scripts/listener.py\n",
    "#!/usr/bin/env python\n",
    "import rospy\n",
    "from std_msgs.msg import String\n",
    "\n",
    "\n",
    "def callback(data):\n",
    "    rospy.loginfo(rospy.get_caller_id() + \"I heard %s\", data.data)\n",
    "\n",
    "\n",
    "def listener():\n",
    "\n",
    "    # In ROS, nodes are uniquely named. If two nodes with the same\n",
    "    # node are launched, the previous one is kicked off. The\n",
    "    # anonymous=True flag means that rospy will choose a unique\n",
    "    # name for our 'listener' node so that multiple listeners can\n",
    "    # run simultaneously.\n",
    "    rospy.init_node('listener', anonymous=True)\n",
    "\n",
    "    rospy.Subscriber(\"chatter\", String, callback)\n",
    "\n",
    "    # spin() simply keeps python from exiting until this node is stopped\n",
    "    rospy.spin()\n",
    "\n",
    "\n",
    "if __name__ == '__main__':\n",
    "    listener()\n"
   ]
  },
  {
   "cell_type": "markdown",
   "metadata": {},
   "source": [
    "# Running a ROS package"
   ]
  },
  {
   "cell_type": "markdown",
   "metadata": {},
   "source": [
    "# ROS Commands"
   ]
  },
  {
   "cell_type": "code",
   "execution_count": 16,
   "metadata": {},
   "outputs": [
    {
     "name": "stdout",
     "output_type": "stream",
     "text": [
      "/bin/sh: 1: roscd: not found\r\n"
     ]
    }
   ],
   "source": [
    "!roscd"
   ]
  },
  {
   "cell_type": "code",
   "execution_count": 15,
   "metadata": {},
   "outputs": [
    {
     "name": "stdout",
     "output_type": "stream",
     "text": [
      "Usage: rosrun [--prefix cmd] [--debug] PACKAGE EXECUTABLE [ARGS]\r\n",
      "  rosrun will locate PACKAGE and try to find\r\n",
      "  an executable named EXECUTABLE in the PACKAGE tree.\r\n",
      "  If it finds it, it will run it with ARGS.\r\n"
     ]
    }
   ],
   "source": [
    "!rosrun"
   ]
  },
  {
   "cell_type": "code",
   "execution_count": 17,
   "metadata": {},
   "outputs": [
    {
     "name": "stdout",
     "output_type": "stream",
     "text": [
      "rostopic is a command-line tool for printing information about ROS Topics.\r\n",
      "\r\n",
      "Commands:\r\n",
      "\trostopic bw\tdisplay bandwidth used by topic\r\n",
      "\trostopic delay\tdisplay delay of topic from timestamp in header\r\n",
      "\trostopic echo\tprint messages to screen\r\n",
      "\trostopic find\tfind topics by type\r\n",
      "\trostopic hz\tdisplay publishing rate of topic    \r\n",
      "\trostopic info\tprint information about active topic\r\n",
      "\trostopic list\tlist active topics\r\n",
      "\trostopic pub\tpublish data to topic\r\n",
      "\trostopic type\tprint topic or field type\r\n",
      "\r\n",
      "Type rostopic <command> -h for more detailed usage, e.g. 'rostopic echo -h'\r\n",
      "\r\n"
     ]
    }
   ],
   "source": [
    "!rostopic"
   ]
  },
  {
   "cell_type": "code",
   "execution_count": 18,
   "metadata": {},
   "outputs": [
    {
     "name": "stdout",
     "output_type": "stream",
     "text": [
      "rosnode is a command-line tool for printing information about ROS Nodes.\r\n",
      "\r\n",
      "Commands:\r\n",
      "\trosnode ping\ttest connectivity to node\r\n",
      "\trosnode list\tlist active nodes\r\n",
      "\trosnode info\tprint information about node\r\n",
      "\trosnode machine\tlist nodes running on a particular machine or list machines\r\n",
      "\trosnode kill\tkill a running node\r\n",
      "\trosnode cleanup\tpurge registration information of unreachable nodes\r\n",
      "\r\n",
      "Type rosnode <command> -h for more detailed usage, e.g. 'rosnode ping -h'\r\n",
      "\r\n"
     ]
    }
   ],
   "source": [
    "!rosnode"
   ]
  },
  {
   "cell_type": "code",
   "execution_count": 20,
   "metadata": {},
   "outputs": [
    {
     "name": "stdout",
     "output_type": "stream",
     "text": [
      "Usage: roslaunch [options] [package] <filename> [arg_name:=value...]\r\n",
      "       roslaunch [options] <filename> [<filename>...] [arg_name:=value...]\r\n",
      "\r\n",
      "If <filename> is a single dash ('-'), launch XML is read from standard input.\r\n",
      "\r\n",
      "roslaunch: error: you must specify at least one input file\r\n"
     ]
    }
   ],
   "source": [
    "!roslaunch"
   ]
  },
  {
   "cell_type": "markdown",
   "metadata": {},
   "source": [
    "- roscd\n",
    "- rosrun\n",
    "- rostopic\n",
    "- rosnode\n",
    "- roslauch"
   ]
  },
  {
   "cell_type": "markdown",
   "metadata": {},
   "source": [
    "# ROS Parameters"
   ]
  },
  {
   "cell_type": "code",
   "execution_count": 11,
   "metadata": {},
   "outputs": [],
   "source": [
    "!rosparam set /message \"Hello mama!\""
   ]
  },
  {
   "cell_type": "markdown",
   "metadata": {},
   "source": [
    "# Launch Files"
   ]
  }
 ],
 "metadata": {
  "kernelspec": {
   "display_name": "Python 2",
   "language": "python",
   "name": "python2"
  },
  "language_info": {
   "codemirror_mode": {
    "name": "ipython",
    "version": 2
   },
   "file_extension": ".py",
   "mimetype": "text/x-python",
   "name": "python",
   "nbconvert_exporter": "python",
   "pygments_lexer": "ipython2",
   "version": "2.7.14"
  },
  "toc": {
   "nav_menu": {},
   "number_sections": true,
   "sideBar": true,
   "skip_h1_title": false,
   "title_cell": "Table of Contents",
   "title_sidebar": "Contents",
   "toc_cell": true,
   "toc_position": {},
   "toc_section_display": true,
   "toc_window_display": false
  }
 },
 "nbformat": 4,
 "nbformat_minor": 2
}
