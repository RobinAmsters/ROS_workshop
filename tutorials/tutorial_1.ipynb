{
 "cells": [
  {
   "cell_type": "markdown",
   "metadata": {
    "toc": true
   },
   "source": [
    "<h1>Table of Contents<span class=\"tocSkip\"></span></h1>\n",
    "<div class=\"toc\"><ul class=\"toc-item\"><li><span><a href=\"#Building-a-ROS-package\" data-toc-modified-id=\"Building-a-ROS-package-1\"><span class=\"toc-item-num\">1&nbsp;&nbsp;</span>Building a ROS package</a></span><ul class=\"toc-item\"><li><span><a href=\"#Conceptual-Overview\" data-toc-modified-id=\"Conceptual-Overview-1.1\"><span class=\"toc-item-num\">1.1&nbsp;&nbsp;</span>Conceptual Overview</a></span><ul class=\"toc-item\"><li><span><a href=\"#ROS-Packages\" data-toc-modified-id=\"ROS-Packages-1.1.1\"><span class=\"toc-item-num\">1.1.1&nbsp;&nbsp;</span>ROS Packages</a></span></li><li><span><a href=\"#Catkin\" data-toc-modified-id=\"Catkin-1.1.2\"><span class=\"toc-item-num\">1.1.2&nbsp;&nbsp;</span>Catkin</a></span></li></ul></li><li><span><a href=\"#Creating-a-Catkin-Workspace\" data-toc-modified-id=\"Creating-a-Catkin-Workspace-1.2\"><span class=\"toc-item-num\">1.2&nbsp;&nbsp;</span>Creating a Catkin Workspace</a></span></li><li><span><a href=\"#Creating-a-catkin-Package\" data-toc-modified-id=\"Creating-a-catkin-Package-1.3\"><span class=\"toc-item-num\">1.3&nbsp;&nbsp;</span>Creating a catkin Package</a></span></li></ul></li><li><span><a href=\"#Building-a-ROS-package.\" data-toc-modified-id=\"Building-a-ROS-package.-2\"><span class=\"toc-item-num\">2&nbsp;&nbsp;</span>Building a ROS package.</a></span><ul class=\"toc-item\"><li><span><a href=\"#Publisher\" data-toc-modified-id=\"Publisher-2.1\"><span class=\"toc-item-num\">2.1&nbsp;&nbsp;</span>Publisher</a></span></li><li><span><a href=\"#Subscriber\" data-toc-modified-id=\"Subscriber-2.2\"><span class=\"toc-item-num\">2.2&nbsp;&nbsp;</span>Subscriber</a></span></li></ul></li><li><span><a href=\"#Running-a-ROS-package\" data-toc-modified-id=\"Running-a-ROS-package-3\"><span class=\"toc-item-num\">3&nbsp;&nbsp;</span>Running a ROS package</a></span></li><li><span><a href=\"#ROS-Commands\" data-toc-modified-id=\"ROS-Commands-4\"><span class=\"toc-item-num\">4&nbsp;&nbsp;</span>ROS Commands</a></span></li><li><span><a href=\"#Launch-Files\" data-toc-modified-id=\"Launch-Files-5\"><span class=\"toc-item-num\">5&nbsp;&nbsp;</span>Launch Files</a></span><ul class=\"toc-item\"><li><span><a href=\"#Executing-launch-files\" data-toc-modified-id=\"Executing-launch-files-5.1\"><span class=\"toc-item-num\">5.1&nbsp;&nbsp;</span>Executing launch files</a></span><ul class=\"toc-item\"><li><span><a href=\"#Executing-a-launch-file\" data-toc-modified-id=\"Executing-a-launch-file-5.1.1\"><span class=\"toc-item-num\">5.1.1&nbsp;&nbsp;</span>Executing a launch file</a></span></li></ul></li><li><span><a href=\"#Writing-launch-files\" data-toc-modified-id=\"Writing-launch-files-5.2\"><span class=\"toc-item-num\">5.2&nbsp;&nbsp;</span>Writing launch files</a></span><ul class=\"toc-item\"><li><span><a href=\"#An-example-launch-file\" data-toc-modified-id=\"An-example-launch-file-5.2.1\"><span class=\"toc-item-num\">5.2.1&nbsp;&nbsp;</span>An example launch file</a></span><ul class=\"toc-item\"><li><span><a href=\"#Lauch-file-breakdown\" data-toc-modified-id=\"Lauch-file-breakdown-5.2.1.1\"><span class=\"toc-item-num\">5.2.1.1&nbsp;&nbsp;</span>Lauch file breakdown</a></span></li></ul></li></ul></li><li><span><a href=\"#Some-roslaunch-options\" data-toc-modified-id=\"Some-roslaunch-options-5.3\"><span class=\"toc-item-num\">5.3&nbsp;&nbsp;</span>Some <code>roslaunch</code> options</a></span><ul class=\"toc-item\"><li><ul class=\"toc-item\"><li><span><a href=\"#Force-output-to-screen\" data-toc-modified-id=\"Force-output-to-screen-5.3.0.1\"><span class=\"toc-item-num\">5.3.0.1&nbsp;&nbsp;</span>Force output to screen</a></span></li><li><span><a href=\"#Viewing-nodes-that-are-contained-in-a-launch-file\" data-toc-modified-id=\"Viewing-nodes-that-are-contained-in-a-launch-file-5.3.0.2\"><span class=\"toc-item-num\">5.3.0.2&nbsp;&nbsp;</span>Viewing nodes that are contained in a launch file</a></span></li><li><span><a href=\"#Viewing-all-options-accepted-by-roslaunch\" data-toc-modified-id=\"Viewing-all-options-accepted-by-roslaunch-5.3.0.3\"><span class=\"toc-item-num\">5.3.0.3&nbsp;&nbsp;</span>Viewing all options accepted by <code>roslaunch</code></a></span></li></ul></li></ul></li></ul></li><li><span><a href=\"#ROS-Parameters\" data-toc-modified-id=\"ROS-Parameters-6\"><span class=\"toc-item-num\">6&nbsp;&nbsp;</span>ROS Parameters</a></span></li></ul></div>"
   ]
  },
  {
   "cell_type": "code",
   "execution_count": 29,
   "metadata": {},
   "outputs": [
    {
     "name": "stdout",
     "output_type": "stream",
     "text": [
      "The autoreload extension is already loaded. To reload it, use:\n",
      "  %reload_ext autoreload\n"
     ]
    }
   ],
   "source": [
    "%load_ext autoreload\n",
    "%autoreload 2"
   ]
  },
  {
   "cell_type": "markdown",
   "metadata": {},
   "source": [
    "# Building a ROS package"
   ]
  },
  {
   "cell_type": "markdown",
   "metadata": {
    "heading_collapsed": true
   },
   "source": [
    "## Conceptual Overview"
   ]
  },
  {
   "cell_type": "markdown",
   "metadata": {
    "hidden": true
   },
   "source": [
    "### ROS Packages\n",
    "\n",
    " - Software in ROS is organised in **packages**.\n",
    "  - Loosely speaking, a ROS package corresponds to a folder contains\n",
    "    source code for example, in a C++ project .\n",
    "  - In practice, a ROS package contains ROS nodes, a ROS-independent library, a dataset,\n",
    "    configuration files, a third-party piece of software, or anything\n",
    "    else that logically constitutes a useful module.\n",
    "  - The goal of these packages it to provide useful functionality\n",
    "    in an easy-to-consume manner so that software can be easily\n",
    "    reused.\n",
    "  - We can build a ROS package manually or using `catkin`."
   ]
  },
  {
   "cell_type": "markdown",
   "metadata": {
    "hidden": true
   },
   "source": [
    "###  Catkin\n",
    "\n",
    "- catkin is the official build system of ROS\n",
    "  - catkin combines CMake macros and Python scripts to provide some\n",
    "    functionality on top of CMake's normal workflow.\n",
    "  - The name catkin comes from the tail-shaped flower cluster found on\n",
    "    willow trees\n",
    "  - A build system is responsible for generating 'targets' from raw source code\n",
    "  - targets may be in the form of libraries, executable programs, generated scripts, exported interfaces (e.g. C++ header files) or anything else that is not static code.\n",
    "  - To build targets, the build system needs information such as the\n",
    "    locations of tool chain components (e.g. C++ compiler), source\n",
    "    code locations, code dependencies, external dependencies, where\n",
    "    those dependencies are located, which targets should be built,\n",
    "    where targets should be built, and where they should be\n",
    "    installed. This is typically expressed in some set of\n",
    "    configuration files read by the build system. In an IDE, this\n",
    "    information is typically stored as part of the workspace/project\n",
    "    meta-information (e.g. Visual C++ project file). With CMake, it is\n",
    "    specified in a file typically called 'CMakeLists.txt' and with GNU\n",
    "    Make it is within a file typically called 'Makefile'. The build\n",
    "    system utilizes this information to process and build source code\n",
    "    in the appropriate order to generate targets.\n",
    "- Why catkin ?\n",
    "    - For development of single software projects, existing tools like Autotools, CMake, and the build systems included with IDEs tend to be sufficient. However, these tools can be difficult to use on their own with large, complex, and/or highly heterogeneous code ecosystems -- mainly because of the sheer number of dependencies, complex code organization, and custom build rules a particular target could have. \n",
    "    - As these tools are very general and designed to be used by software developers, they also tend to be difficult to use by those without a software development background.\n",
    "    - ROS is a very large collection of loosely federated packages.\n",
    "    -  catkin specifically tries to improve development on large sets of related packages in a consistent and conventional way. \n",
    "- Workspaces\n",
    "    - catkin packages can be built as a standalone project\n",
    "    - But catkin also provides the concept of **workspaces**, where you can build multiple, interdependent packages together all at once.\n",
    "    - A catkin workspace is a folder where you modify, build, and install catkin packages.\n",
    "    - A typical catkin workspace layout is shown below:\n",
    "    "
   ]
  },
  {
   "cell_type": "markdown",
   "metadata": {
    "hidden": true
   },
   "source": [
    "```\n",
    "            workspace_folder/         -- WORKSPACE\n",
    "              src/                    -- SOURCE SPACE\n",
    "                CMakeLists.txt        -- The 'toplevel' CMake file\n",
    "                package_1/\n",
    "                  CMakeLists.txt\n",
    "                  package.xml\n",
    "                  ...\n",
    "                package_n/\n",
    "                  CATKIN_IGNORE       -- Optional empty file to exclude package_n from being processed\n",
    "                  CMakeLists.txt\n",
    "                  package.xml\n",
    "                  ...\n",
    "              build/                  -- BUILD SPACE\n",
    "                CATKIN_IGNORE         -- Keeps catkin from walking this directory\n",
    "              devel/                  -- DEVELOPMENT SPACE (set by CATKIN_DEVEL_PREFIX)\n",
    "                bin/\n",
    "                etc/\n",
    "                include/\n",
    "                lib/\n",
    "                share/\n",
    "                .catkin\n",
    "                env.bash\n",
    "                setup.bash\n",
    "                setup.sh\n",
    "                ...\n",
    "              install/                -- INSTALL SPACE (set by CMAKE_INSTALL_PREFIX)\n",
    "                bin/\n",
    "                etc/\n",
    "                include/\n",
    "                lib/\n",
    "                share/\n",
    "                .catkin             \n",
    "                env.bash\n",
    "                setup.bash\n",
    "                setup.sh\n",
    "                ...\n",
    "```"
   ]
  },
  {
   "cell_type": "markdown",
   "metadata": {
    "heading_collapsed": true
   },
   "source": [
    "## Creating a Catkin Workspace"
   ]
  },
  {
   "cell_type": "code",
   "execution_count": 1,
   "metadata": {
    "hidden": true
   },
   "outputs": [
    {
     "name": "stdout",
     "output_type": "stream",
     "text": [
      "/home/samrat/projects/ROS_workshop\n",
      "/home/samrat/projects/ROS_workshop/workspace\n",
      "Base path: /home/samrat/projects/ROS_workshop/workspace\n",
      "Source space: /home/samrat/projects/ROS_workshop/workspace/src\n",
      "Build space: /home/samrat/projects/ROS_workshop/workspace/build\n",
      "Devel space: /home/samrat/projects/ROS_workshop/workspace/devel\n",
      "Install space: /home/samrat/projects/ROS_workshop/workspace/install\n",
      "\u001b[34m####\u001b[0m\n",
      "\u001b[34m#### Running command: \u001b[1m\"make cmake_check_build_system\"\u001b[0m\u001b[34m in \u001b[1m\"/home/samrat/projects/ROS_workshop/workspace/build\"\u001b[0m\n",
      "\u001b[34m####\u001b[0m\n",
      "\u001b[34m####\u001b[0m\n",
      "\u001b[34m#### Running command: \u001b[1m\"make -j4 -l4\"\u001b[0m\u001b[34m in \u001b[1m\"/home/samrat/projects/ROS_workshop/workspace/build\"\u001b[0m\n",
      "\u001b[34m####\u001b[0m\n"
     ]
    }
   ],
   "source": [
    "%cd ~/projects/ROS_workshop/\n",
    "%mkdir -p workspace/src\n",
    "%cd workspace\n",
    "!catkin_make"
   ]
  },
  {
   "cell_type": "code",
   "execution_count": 12,
   "metadata": {
    "hidden": true
   },
   "outputs": [
    {
     "name": "stdout",
     "output_type": "stream",
     "text": [
      "/home/samrat/projects/ROS_workshop/workspace/src:/home/samrat/ros_ws/src/ethzasl_xsens_driver:/home/samrat/ros_ws/install_isolated/share:/opt/ros/kinetic/share\n"
     ]
    }
   ],
   "source": [
    "%%bash\n",
    "source devel/setup.bash\n",
    "echo $ROS_PACKAGE_PATH"
   ]
  },
  {
   "cell_type": "code",
   "execution_count": 13,
   "metadata": {
    "hidden": true
   },
   "outputs": [
    {
     "name": "stdout",
     "output_type": "stream",
     "text": [
      "/home/samrat/ros_ws/src/ethzasl_xsens_driver:/home/samrat/ros_ws/install_isolated/share:/opt/ros/kinetic/share\n"
     ]
    }
   ],
   "source": [
    "!echo $ROS_PACKAGE_PATH"
   ]
  },
  {
   "cell_type": "markdown",
   "metadata": {
    "heading_collapsed": true
   },
   "source": [
    "## Creating a catkin Package"
   ]
  },
  {
   "cell_type": "code",
   "execution_count": 2,
   "metadata": {
    "hidden": true
   },
   "outputs": [
    {
     "name": "stdout",
     "output_type": "stream",
     "text": [
      "/home/samrat/projects/ROS_workshop/workspace/src\n"
     ]
    }
   ],
   "source": [
    "cd ~/projects/ROS_workshop/workspace/src"
   ]
  },
  {
   "cell_type": "code",
   "execution_count": 3,
   "metadata": {
    "hidden": true
   },
   "outputs": [
    {
     "name": "stdout",
     "output_type": "stream",
     "text": [
      "usage: catkin_create_pkg [-h] [--meta] [-s [SYS_DEPS [SYS_DEPS ...]]]\r\n",
      "                         [-b [BOOST_COMPS [BOOST_COMPS ...]]] [-V PKG_VERSION]\r\n",
      "                         [-D DESCRIPTION] [-l LICENSE] [-a AUTHOR]\r\n",
      "                         [-m MAINTAINER] [--rosdistro ROSDISTRO]\r\n",
      "                         name [dependencies [dependencies ...]]\r\n",
      "catkin_create_pkg: error: File exists: /home/samrat/projects/ROS_workshop/workspace/src/workshop_tutorials/CMakeLists.txt\r\n"
     ]
    }
   ],
   "source": [
    "!catkin_create_pkg workshop_tutorials std_msgs rospy"
   ]
  },
  {
   "cell_type": "code",
   "execution_count": null,
   "metadata": {
    "hidden": true
   },
   "outputs": [],
   "source": [
    "!rosls workshop_tutorial"
   ]
  },
  {
   "cell_type": "markdown",
   "metadata": {},
   "source": [
    "# Building a ROS package."
   ]
  },
  {
   "cell_type": "markdown",
   "metadata": {},
   "source": [
    "For this workshop we have already created example content for the ROS package. We are going to put them in our newly created package"
   ]
  },
  {
   "cell_type": "code",
   "execution_count": 2,
   "metadata": {},
   "outputs": [],
   "source": [
    "%cp -R /home/samrat/projects/ROS_workshop/tutorials/workshop_examples/* /home/samrat/projects/ROS_workshop/workspace/src/workshop_tutorials"
   ]
  },
  {
   "cell_type": "markdown",
   "metadata": {},
   "source": [
    "Let us confirm if all files have been copied over"
   ]
  },
  {
   "cell_type": "code",
   "execution_count": 5,
   "metadata": {},
   "outputs": [
    {
     "name": "stdout",
     "output_type": "stream",
     "text": [
      "../workspace/src/workshop_tutorials/:\r\n",
      "CMakeLists.txt  \u001b[0m\u001b[01;34mlaunch\u001b[0m/  package.xml  \u001b[01;34mscripts\u001b[0m/  \u001b[01;34msrc\u001b[0m/\r\n",
      "\r\n",
      "../workspace/src/workshop_tutorials/launch:\r\n",
      "tutorial_1.launch\r\n",
      "\r\n",
      "../workspace/src/workshop_tutorials/scripts:\r\n",
      "listener.py  talker.py\r\n",
      "\r\n",
      "../workspace/src/workshop_tutorials/src:\r\n"
     ]
    }
   ],
   "source": [
    "%ls -LR ../workspace/src/workshop_tutorials/"
   ]
  },
  {
   "cell_type": "markdown",
   "metadata": {},
   "source": [
    "Next, we make the scripts executable. Python scripts are not executable by default in Linux. We need to make them executable. "
   ]
  },
  {
   "cell_type": "code",
   "execution_count": 25,
   "metadata": {},
   "outputs": [],
   "source": [
    "!chmod +x /home/samrat/projects/ROS_workshop/workspace/src/workshop_tutorials/scripts/*"
   ]
  },
  {
   "cell_type": "code",
   "execution_count": 26,
   "metadata": {},
   "outputs": [
    {
     "name": "stdout",
     "output_type": "stream",
     "text": [
      "/home/samrat/projects/ROS_workshop/workspace\n",
      "Base path: /home/samrat/projects/ROS_workshop/workspace\n",
      "Source space: /home/samrat/projects/ROS_workshop/workspace/src\n",
      "Build space: /home/samrat/projects/ROS_workshop/workspace/build\n",
      "Devel space: /home/samrat/projects/ROS_workshop/workspace/devel\n",
      "Install space: /home/samrat/projects/ROS_workshop/workspace/install\n",
      "\u001b[34m####\u001b[0m\n",
      "\u001b[34m#### Running command: \u001b[1m\"make cmake_check_build_system\"\u001b[0m\u001b[34m in \u001b[1m\"/home/samrat/projects/ROS_workshop/workspace/build\"\u001b[0m\n",
      "\u001b[34m####\u001b[0m\n",
      "\u001b[34m####\u001b[0m\n",
      "\u001b[34m#### Running command: \u001b[1m\"make -j4 -l4\"\u001b[0m\u001b[34m in \u001b[1m\"/home/samrat/projects/ROS_workshop/workspace/build\"\u001b[0m\n",
      "\u001b[34m####\u001b[0m\n"
     ]
    }
   ],
   "source": [
    "%cd ~/projects/ROS_workshop/workspace/\n",
    "!catkin_make"
   ]
  },
  {
   "cell_type": "markdown",
   "metadata": {},
   "source": [
    "## Publisher"
   ]
  },
  {
   "cell_type": "code",
   "execution_count": null,
   "metadata": {},
   "outputs": [],
   "source": [
    "# %load src/workshop_tutorials/scripts/talker.py\n",
    "#!/usr/bin/env python\n",
    "# license removed for brevity\n",
    "import rospy\n",
    "from std_msgs.msg import String\n",
    "\n",
    "\n",
    "def talker():\n",
    "    msg = rospy.get_param(\"message\", \"Hello world!\")\n",
    "    pub = rospy.Publisher('chatter', String, queue_size=10)\n",
    "    rospy.init_node('talker', anonymous=True)\n",
    "    rate = rospy.Rate(10)  # 10hz\n",
    "    while not rospy.is_shutdown():\n",
    "        hello_str = \"{}\".format(msg)\n",
    "        rospy.loginfo(hello_str)\n",
    "        pub.publish(hello_str)\n",
    "        rate.sleep()\n",
    "\n",
    "\n",
    "if __name__ == '__main__':\n",
    "    try:\n",
    "        talker()\n",
    "    except rospy.ROSInterruptException:\n",
    "        pass\n"
   ]
  },
  {
   "cell_type": "markdown",
   "metadata": {},
   "source": [
    "## Subscriber"
   ]
  },
  {
   "cell_type": "code",
   "execution_count": null,
   "metadata": {
    "scrolled": true
   },
   "outputs": [],
   "source": [
    "# %load src/workshop_tutorials/scripts/listener.py\n",
    "#!/usr/bin/env python\n",
    "import rospy\n",
    "from std_msgs.msg import String\n",
    "\n",
    "\n",
    "def callback(data):\n",
    "    rospy.loginfo(rospy.get_caller_id() + \"I heard %s\", data.data)\n",
    "\n",
    "\n",
    "def listener():\n",
    "\n",
    "    # In ROS, nodes are uniquely named. If two nodes with the same\n",
    "    # node are launched, the previous one is kicked off. The\n",
    "    # anonymous=True flag means that rospy will choose a unique\n",
    "    # name for our 'listener' node so that multiple listeners can\n",
    "    # run simultaneously.\n",
    "    rospy.init_node('listener', anonymous=True)\n",
    "\n",
    "    rospy.Subscriber(\"chatter\", String, callback)\n",
    "\n",
    "    # spin() simply keeps python from exiting until this node is stopped\n",
    "    rospy.spin()\n",
    "\n",
    "\n",
    "if __name__ == '__main__':\n",
    "    listener()\n"
   ]
  },
  {
   "cell_type": "markdown",
   "metadata": {
    "heading_collapsed": true
   },
   "source": [
    "# Running a ROS package"
   ]
  },
  {
   "cell_type": "markdown",
   "metadata": {
    "heading_collapsed": true
   },
   "source": [
    "# ROS Commands"
   ]
  },
  {
   "cell_type": "code",
   "execution_count": 16,
   "metadata": {
    "hidden": true
   },
   "outputs": [
    {
     "name": "stdout",
     "output_type": "stream",
     "text": [
      "/bin/sh: 1: roscd: not found\r\n"
     ]
    }
   ],
   "source": [
    "!roscd"
   ]
  },
  {
   "cell_type": "code",
   "execution_count": 15,
   "metadata": {
    "hidden": true
   },
   "outputs": [
    {
     "name": "stdout",
     "output_type": "stream",
     "text": [
      "Usage: rosrun [--prefix cmd] [--debug] PACKAGE EXECUTABLE [ARGS]\r\n",
      "  rosrun will locate PACKAGE and try to find\r\n",
      "  an executable named EXECUTABLE in the PACKAGE tree.\r\n",
      "  If it finds it, it will run it with ARGS.\r\n"
     ]
    }
   ],
   "source": [
    "!rosrun"
   ]
  },
  {
   "cell_type": "code",
   "execution_count": 17,
   "metadata": {
    "hidden": true
   },
   "outputs": [
    {
     "name": "stdout",
     "output_type": "stream",
     "text": [
      "rostopic is a command-line tool for printing information about ROS Topics.\r\n",
      "\r\n",
      "Commands:\r\n",
      "\trostopic bw\tdisplay bandwidth used by topic\r\n",
      "\trostopic delay\tdisplay delay of topic from timestamp in header\r\n",
      "\trostopic echo\tprint messages to screen\r\n",
      "\trostopic find\tfind topics by type\r\n",
      "\trostopic hz\tdisplay publishing rate of topic    \r\n",
      "\trostopic info\tprint information about active topic\r\n",
      "\trostopic list\tlist active topics\r\n",
      "\trostopic pub\tpublish data to topic\r\n",
      "\trostopic type\tprint topic or field type\r\n",
      "\r\n",
      "Type rostopic <command> -h for more detailed usage, e.g. 'rostopic echo -h'\r\n",
      "\r\n"
     ]
    }
   ],
   "source": [
    "!rostopic"
   ]
  },
  {
   "cell_type": "code",
   "execution_count": 18,
   "metadata": {
    "hidden": true
   },
   "outputs": [
    {
     "name": "stdout",
     "output_type": "stream",
     "text": [
      "rosnode is a command-line tool for printing information about ROS Nodes.\r\n",
      "\r\n",
      "Commands:\r\n",
      "\trosnode ping\ttest connectivity to node\r\n",
      "\trosnode list\tlist active nodes\r\n",
      "\trosnode info\tprint information about node\r\n",
      "\trosnode machine\tlist nodes running on a particular machine or list machines\r\n",
      "\trosnode kill\tkill a running node\r\n",
      "\trosnode cleanup\tpurge registration information of unreachable nodes\r\n",
      "\r\n",
      "Type rosnode <command> -h for more detailed usage, e.g. 'rosnode ping -h'\r\n",
      "\r\n"
     ]
    }
   ],
   "source": [
    "!rosnode"
   ]
  },
  {
   "cell_type": "markdown",
   "metadata": {
    "hidden": true
   },
   "source": [
    "- roscd\n",
    "- rosrun\n",
    "- rostopic\n",
    "- rosnode"
   ]
  },
  {
   "cell_type": "markdown",
   "metadata": {},
   "source": [
    "# Launch Files\n",
    "\n",
    "- A ROS package may contain more than one or two nodes\n",
    "- It is frustrating to open terminals for each node, also a separate one for `roscore` everytime\n",
    "- ROS provides **launchfiles** to start multiple nodes and `roscore` at the same time.\n",
    "- Recommend using launchfiles for large projects\n",
    "- Launch files can also be used to configure nodes\n",
    "- We will explain launch files and the `roslaunch` tool."
   ]
  },
  {
   "cell_type": "markdown",
   "metadata": {},
   "source": [
    "## Executing launch files\n",
    "\n",
    "Before we explain the nity gritties of a launch file, let us see how we can use a launch file. To start multiple nodes we will use the `roslaunch` tool which will take a launch file as input. For this tutorial we have provided a launch file that we will copy into our __workshop_tutorial__ package. "
   ]
  },
  {
   "cell_type": "code",
   "execution_count": 18,
   "metadata": {},
   "outputs": [
    {
     "name": "stdout",
     "output_type": "stream",
     "text": [
      "/home/samrat/projects/ROS_workshop/workspace/src/workshop_tutorials\n"
     ]
    }
   ],
   "source": [
    "%cd ~/projects/ROS_workshop/workspace/src/workshop_tutorials"
   ]
  },
  {
   "cell_type": "code",
   "execution_count": 24,
   "metadata": {},
   "outputs": [
    {
     "name": "stdout",
     "output_type": "stream",
     "text": [
      "mkdir: cannot create directory ‘launch’: File exists\n",
      "tutorial_1.launch\n"
     ]
    }
   ],
   "source": [
    "%mkdir launch\n",
    "%cp /home/samrat/projects/ROS_workshop/tutorials/launch/tutorial_1.launch /home/samrat/projects/ROS_workshop/workspace/src/workshop_tutorials/launch\n",
    "%ls launch"
   ]
  },
  {
   "cell_type": "markdown",
   "metadata": {},
   "source": [
    "### Executing a launch file\n",
    "\n",
    "To execute a launch file we use the `roslaunch` tool. Put the cursor in the following cell and use `Ctrl-Enter` to see the usage of the tool."
   ]
  },
  {
   "cell_type": "code",
   "execution_count": 34,
   "metadata": {},
   "outputs": [
    {
     "name": "stdout",
     "output_type": "stream",
     "text": [
      "Usage: roslaunch [options] [package] <filename> [arg_name:=value...]\r\n",
      "       roslaunch [options] <filename> [<filename>...] [arg_name:=value...]\r\n",
      "\r\n",
      "If <filename> is a single dash ('-'), launch XML is read from standard input.\r\n",
      "\r\n",
      "roslaunch: error: you must specify at least one input file\r\n"
     ]
    }
   ],
   "source": [
    "!roslaunch"
   ]
  },
  {
   "cell_type": "markdown",
   "metadata": {},
   "source": [
    "For the current example we execute the launch file as follows.\n",
    "1. Open a Jupyter Notebook terminal\n",
    "2. Type or copy/paste the following command\n",
    "```\n",
    "roslaunch workshop_tutorial tutorial_1.launch\n",
    "```\n",
    "\n",
    "To terminate a `roslaucnh` process, use `Ctrl-C`."
   ]
  },
  {
   "cell_type": "code",
   "execution_count": 8,
   "metadata": {},
   "outputs": [
    {
     "name": "stdout",
     "output_type": "stream",
     "text": [
      "\u001b[31m[tutorial_1.launch] is neither a launch file in package [workshop_tutorial] nor is [workshop_tutorial] a launch file name\u001b[0m\r\n",
      "\u001b[31mThe traceback for the exception was written to the log file\u001b[0m\r\n"
     ]
    }
   ],
   "source": [
    "!roslaunch workshop_tutorial tutorial_1.launch"
   ]
  },
  {
   "cell_type": "markdown",
   "metadata": {
    "heading_collapsed": true
   },
   "source": [
    "## Writing launch files\n",
    "\n",
    "Typically launch files associated with a package are given names that end with the file extension _.launch_. You can store launch files directly inside a package directory. When `roslaunch` searches for a launch file, it will look through all subdirectories. For the sake of better organisation, we store launch files inside a _launch_ folder. The contents of the example launch file is shown below."
   ]
  },
  {
   "cell_type": "markdown",
   "metadata": {
    "heading_collapsed": true,
    "hidden": true
   },
   "source": [
    "### An example launch file\n",
    "\n",
    "The listing below shows the contents of the launch file that was executed above. "
   ]
  },
  {
   "cell_type": "code",
   "execution_count": null,
   "metadata": {
    "hidden": true
   },
   "outputs": [],
   "source": [
    "# %load /home/samrat/projects/ROS_workshop/workspace/src/workshop_tutorials/launch/tutorial_1.launch\n",
    "<launch>\n",
    "  <arg name=\"pkgName\" default=\"workshop_tutorials\"/>\n",
    "  <node pkg=\"$(arg pkgName)\" type=\"talker.py\" name=\"talker\"/>\n",
    "  <node pkg=\"$(arg pkgName)\" type=\"listener.py\" name=\"listener\" output=\"screen\"/>\n",
    "</launch>\n"
   ]
  },
  {
   "cell_type": "markdown",
   "metadata": {
    "hidden": true
   },
   "source": [
    "#### Lauch file breakdown\n",
    "\n",
    "Let us examine the elements of the launch file. A launch file is a XML document and contains XML elements. An XML element is everything from (including) the element's start tag to (including) the element's end tag. Unlike HTML, XML tags are all user defined. For example the following is a XML element with tag _tagName_,\n",
    "```\n",
    "<tagName someAtrribute=\"value\">Some text</tagName>\n",
    "```\n",
    "An XML element can contain:\n",
    "- text \n",
    "- attributes\n",
    "- other elements\n",
    "- mix of above\n",
    "\n",
    "In the example above, _<tagName>_ has **text content**, \"Some text\". It also has an attribute, _someAttribute_ with value,\"value\". Let us examine the elements of the launch file.\n",
    "    \n",
    "##### Root element\n",
    "\n",
    "XML documents must contain one **root** element that is the **parent** of all other elements. In the case of launch files the root element is `<launch>`. Every other element **must** be enclosed between these tags.\n",
    "\n",
    "##### Node element\n",
    "\n",
    "The main element of a launch file is a collection of node elements, each of which\n",
    "\"launches\" a single node. For example, \n",
    "```\n",
    "<node pkg=\"workshop_tutorials\" type=\"talker.py\" name=\"talker\"/>\n",
    "```\n",
    "A node element has three required attribute\n",
    "   - `pkg` Identifies the package which ROS should run to start this node\n",
    "   - `type` Identifies the executable which should be executed.\n",
    "   - `name` Assigns a name to the node.\n",
    "\n",
    "##### Arg element\n",
    "\n",
    "You might have noticed the `arg` element in the lisiting of the launch file above. The `arg` element allows us to define arguments that can be used later in the launch file. The <arg> tag allows you to create more re-usable and configurable launch files by specifying values that are passed via the command line, passing in via an <include>, or declared for higher-level files."
   ]
  },
  {
   "cell_type": "markdown",
   "metadata": {
    "heading_collapsed": true
   },
   "source": [
    "## Some `roslaunch` options"
   ]
  },
  {
   "cell_type": "markdown",
   "metadata": {
    "hidden": true
   },
   "source": [
    "#### Force output to screen\n",
    "\n",
    "Even if the nodes donot have the `output=\"screen\"` attribute, we can force `roslaunch` to output to screen using the following command. "
   ]
  },
  {
   "cell_type": "code",
   "execution_count": 31,
   "metadata": {
    "hidden": true
   },
   "outputs": [
    {
     "name": "stdout",
     "output_type": "stream",
     "text": [
      "\u001b[31m[tutorial_1.launch] is neither a launch file in package [workshop_tutorials] nor is [workshop_tutorials] a launch file name\u001b[0m\r\n",
      "\u001b[31mThe traceback for the exception was written to the log file\u001b[0m\r\n"
     ]
    }
   ],
   "source": [
    "!roslaunch --screen workshop_tutorials tutorial_1.launch"
   ]
  },
  {
   "cell_type": "markdown",
   "metadata": {
    "hidden": true
   },
   "source": [
    "#### Viewing nodes that are contained in a launch file"
   ]
  },
  {
   "cell_type": "code",
   "execution_count": 29,
   "metadata": {
    "hidden": true
   },
   "outputs": [
    {
     "name": "stdout",
     "output_type": "stream",
     "text": [
      "/talker\r\n",
      "/listener\r\n"
     ]
    }
   ],
   "source": [
    "!roslaunch --nodes /home/samrat/projects/ROS_workshop/workspace/src/workshop_tutorials/launch/tutorial_1.launch"
   ]
  },
  {
   "cell_type": "markdown",
   "metadata": {
    "hidden": true
   },
   "source": [
    "#### Viewing all options accepted by `roslaunch`\n",
    "\n",
    "To view all options accepted by roslaunch use the following command."
   ]
  },
  {
   "cell_type": "code",
   "execution_count": 33,
   "metadata": {
    "hidden": true
   },
   "outputs": [
    {
     "name": "stdout",
     "output_type": "stream",
     "text": [
      "Usage: roslaunch [options] [package] <filename> [arg_name:=value...]\r\n",
      "       roslaunch [options] <filename> [<filename>...] [arg_name:=value...]\r\n",
      "\r\n",
      "If <filename> is a single dash ('-'), launch XML is read from standard input.\r\n",
      "\r\n",
      "Options:\r\n",
      "  -h, --help            show this help message and exit\r\n",
      "  --files               Print list files loaded by launch file, including\r\n",
      "                        launch file itself\r\n",
      "  --args=NODE_NAME      Print command-line arguments for node\r\n",
      "  --nodes               Print list of node names in launch file\r\n",
      "  --find-node=NODE_NAME\r\n",
      "                        Find launch file that node is defined in\r\n",
      "  -c NAME, --child=NAME\r\n",
      "                        Run as child service 'NAME'. Required with -u\r\n",
      "  --local               Do not launch remote nodes\r\n",
      "  --screen              Force output of all local nodes to screen\r\n",
      "  -u URI, --server_uri=URI\r\n",
      "                        URI of server. Required with -c\r\n",
      "  --run_id=RUN_ID       run_id of session. Required with -c\r\n",
      "  --wait                wait for master to start before launching\r\n",
      "  -p PORT, --port=PORT  master port. Only valid if master is launched\r\n",
      "  --core                Launch core services only\r\n",
      "  --pid=PID_FN          write the roslaunch pid to filename\r\n",
      "  -v                    verbose printing\r\n",
      "  --dump-params         Dump parameters of all roslaunch files to stdout\r\n",
      "  --skip-log-check      skip check size of log folder\r\n",
      "  --ros-args            Display command-line arguments for this launch file\r\n",
      "  --disable-title       Disable setting of terminal title\r\n",
      "  -w NUM_WORKERS, --numworkers=NUM_WORKERS\r\n",
      "                        override number of worker threads. Only valid for core\r\n",
      "                        services.\r\n",
      "  -t TIMEOUT, --timeout=TIMEOUT\r\n",
      "                        override the socket connection timeout (in seconds).\r\n",
      "                        Only valid for core services.\r\n"
     ]
    }
   ],
   "source": [
    "!roslaunch --help"
   ]
  },
  {
   "cell_type": "markdown",
   "metadata": {
    "heading_collapsed": true
   },
   "source": [
    "# ROS Parameters"
   ]
  },
  {
   "cell_type": "code",
   "execution_count": 11,
   "metadata": {
    "hidden": true
   },
   "outputs": [],
   "source": [
    "!rosparam set /message \"Hello mama!\""
   ]
  }
 ],
 "metadata": {
  "kernelspec": {
   "display_name": "Python 2",
   "language": "python",
   "name": "python2"
  },
  "language_info": {
   "codemirror_mode": {
    "name": "ipython",
    "version": 2
   },
   "file_extension": ".py",
   "mimetype": "text/x-python",
   "name": "python",
   "nbconvert_exporter": "python",
   "pygments_lexer": "ipython2",
   "version": "2.7.14"
  },
  "toc": {
   "nav_menu": {
    "height": "432px",
    "width": "402px"
   },
   "number_sections": true,
   "sideBar": true,
   "skip_h1_title": false,
   "title_cell": "Table of Contents",
   "title_sidebar": "Contents",
   "toc_cell": true,
   "toc_position": {},
   "toc_section_display": true,
   "toc_window_display": false
  }
 },
 "nbformat": 4,
 "nbformat_minor": 2
}
