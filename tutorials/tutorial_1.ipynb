{
 "cells": [
  {
   "cell_type": "markdown",
   "metadata": {
    "toc": true
   },
   "source": [
    "<h1>Table of Contents<span class=\"tocSkip\"></span></h1>\n",
    "<div class=\"toc\"><ul class=\"toc-item\"><li><span><a href=\"#Creating-a-ROS-package\" data-toc-modified-id=\"Creating-a-ROS-package-1\"><span class=\"toc-item-num\">1&nbsp;&nbsp;</span>Creating a ROS package</a></span><ul class=\"toc-item\"><li><span><a href=\"#Conceptual-overview\" data-toc-modified-id=\"Conceptual-overview-1.1\"><span class=\"toc-item-num\">1.1&nbsp;&nbsp;</span>Conceptual overview</a></span><ul class=\"toc-item\"><li><span><a href=\"#ROS-Packages\" data-toc-modified-id=\"ROS-Packages-1.1.1\"><span class=\"toc-item-num\">1.1.1&nbsp;&nbsp;</span>ROS Packages</a></span></li><li><span><a href=\"#Catkin\" data-toc-modified-id=\"Catkin-1.1.2\"><span class=\"toc-item-num\">1.1.2&nbsp;&nbsp;</span>Catkin</a></span></li></ul></li><li><span><a href=\"#Creating-a-catkin-workspace\" data-toc-modified-id=\"Creating-a-catkin-workspace-1.2\"><span class=\"toc-item-num\">1.2&nbsp;&nbsp;</span>Creating a catkin workspace</a></span></li><li><span><a href=\"#Creating-a-catkin-package\" data-toc-modified-id=\"Creating-a-catkin-package-1.3\"><span class=\"toc-item-num\">1.3&nbsp;&nbsp;</span>Creating a catkin package</a></span><ul class=\"toc-item\"><li><span><a href=\"#The-contents-of-an-catkin-package\" data-toc-modified-id=\"The-contents-of-an-catkin-package-1.3.1\"><span class=\"toc-item-num\">1.3.1&nbsp;&nbsp;</span>The contents of an <code>catkin</code> package</a></span></li></ul></li></ul></li><li><span><a href=\"#Building-a-ROS-package.\" data-toc-modified-id=\"Building-a-ROS-package.-2\"><span class=\"toc-item-num\">2&nbsp;&nbsp;</span>Building a ROS package.</a></span></li><li><span><a href=\"#Running-a-ROS-package\" data-toc-modified-id=\"Running-a-ROS-package-3\"><span class=\"toc-item-num\">3&nbsp;&nbsp;</span>Running a ROS package</a></span><ul class=\"toc-item\"><li><span><a href=\"#Start-ROS-core\" data-toc-modified-id=\"Start-ROS-core-3.1\"><span class=\"toc-item-num\">3.1&nbsp;&nbsp;</span>Start ROS core</a></span></li><li><span><a href=\"#Start-the-talker-node\" data-toc-modified-id=\"Start-the-talker-node-3.2\"><span class=\"toc-item-num\">3.2&nbsp;&nbsp;</span>Start the talker node</a></span></li><li><span><a href=\"#Start-the-listener-node\" data-toc-modified-id=\"Start-the-listener-node-3.3\"><span class=\"toc-item-num\">3.3&nbsp;&nbsp;</span>Start the listener node</a></span></li></ul></li><li><span><a href=\"#Interacting-with-a-live-ROS-system\" data-toc-modified-id=\"Interacting-with-a-live-ROS-system-4\"><span class=\"toc-item-num\">4&nbsp;&nbsp;</span>Interacting with a live ROS system</a></span><ul class=\"toc-item\"><li><span><a href=\"#rosrun\" data-toc-modified-id=\"rosrun-4.1\"><span class=\"toc-item-num\">4.1&nbsp;&nbsp;</span>rosrun</a></span></li><li><span><a href=\"#rosnode\" data-toc-modified-id=\"rosnode-4.2\"><span class=\"toc-item-num\">4.2&nbsp;&nbsp;</span>rosnode</a></span><ul class=\"toc-item\"><li><span><a href=\"#Listing-nodes\" data-toc-modified-id=\"Listing-nodes-4.2.1\"><span class=\"toc-item-num\">4.2.1&nbsp;&nbsp;</span>Listing nodes</a></span></li><li><span><a href=\"#Getting-information-about-a-node\" data-toc-modified-id=\"Getting-information-about-a-node-4.2.2\"><span class=\"toc-item-num\">4.2.2&nbsp;&nbsp;</span>Getting information about a node</a></span></li><li><span><a href=\"#Checking-if-a-node-is-alive\" data-toc-modified-id=\"Checking-if-a-node-is-alive-4.2.3\"><span class=\"toc-item-num\">4.2.3&nbsp;&nbsp;</span>Checking if a node is alive</a></span></li></ul></li><li><span><a href=\"#rostopic\" data-toc-modified-id=\"rostopic-4.3\"><span class=\"toc-item-num\">4.3&nbsp;&nbsp;</span>rostopic</a></span><ul class=\"toc-item\"><li><span><a href=\"#Listing-available-topics\" data-toc-modified-id=\"Listing-available-topics-4.3.1\"><span class=\"toc-item-num\">4.3.1&nbsp;&nbsp;</span>Listing available topics</a></span></li><li><span><a href=\"#Echoing-a-topic\" data-toc-modified-id=\"Echoing-a-topic-4.3.2\"><span class=\"toc-item-num\">4.3.2&nbsp;&nbsp;</span>Echoing a topic</a></span></li><li><span><a href=\"#Getting-information-about-a-topic\" data-toc-modified-id=\"Getting-information-about-a-topic-4.3.3\"><span class=\"toc-item-num\">4.3.3&nbsp;&nbsp;</span>Getting information about a topic</a></span></li></ul></li></ul></li><li><span><a href=\"#Launch-Files\" data-toc-modified-id=\"Launch-Files-5\"><span class=\"toc-item-num\">5&nbsp;&nbsp;</span>Launch Files</a></span><ul class=\"toc-item\"><li><span><a href=\"#Executing-launch-files\" data-toc-modified-id=\"Executing-launch-files-5.1\"><span class=\"toc-item-num\">5.1&nbsp;&nbsp;</span>Executing launch files</a></span><ul class=\"toc-item\"><li><span><a href=\"#Executing-a-launch-file\" data-toc-modified-id=\"Executing-a-launch-file-5.1.1\"><span class=\"toc-item-num\">5.1.1&nbsp;&nbsp;</span>Executing a launch file</a></span></li></ul></li><li><span><a href=\"#Writing-launch-files\" data-toc-modified-id=\"Writing-launch-files-5.2\"><span class=\"toc-item-num\">5.2&nbsp;&nbsp;</span>Writing launch files</a></span><ul class=\"toc-item\"><li><span><a href=\"#An-example-launch-file\" data-toc-modified-id=\"An-example-launch-file-5.2.1\"><span class=\"toc-item-num\">5.2.1&nbsp;&nbsp;</span>An example launch file</a></span><ul class=\"toc-item\"><li><span><a href=\"#Lauch-file-breakdown\" data-toc-modified-id=\"Lauch-file-breakdown-5.2.1.1\"><span class=\"toc-item-num\">5.2.1.1&nbsp;&nbsp;</span>Lauch file breakdown</a></span></li></ul></li></ul></li><li><span><a href=\"#Some-roslaunch-options\" data-toc-modified-id=\"Some-roslaunch-options-5.3\"><span class=\"toc-item-num\">5.3&nbsp;&nbsp;</span>Some <code>roslaunch</code> options</a></span><ul class=\"toc-item\"><li><ul class=\"toc-item\"><li><span><a href=\"#Force-output-to-screen\" data-toc-modified-id=\"Force-output-to-screen-5.3.0.1\"><span class=\"toc-item-num\">5.3.0.1&nbsp;&nbsp;</span>Force output to screen</a></span></li><li><span><a href=\"#Viewing-nodes-that-are-contained-in-a-launch-file\" data-toc-modified-id=\"Viewing-nodes-that-are-contained-in-a-launch-file-5.3.0.2\"><span class=\"toc-item-num\">5.3.0.2&nbsp;&nbsp;</span>Viewing nodes that are contained in a launch file</a></span></li><li><span><a href=\"#Viewing-all-options-accepted-by-roslaunch\" data-toc-modified-id=\"Viewing-all-options-accepted-by-roslaunch-5.3.0.3\"><span class=\"toc-item-num\">5.3.0.3&nbsp;&nbsp;</span>Viewing all options accepted by <code>roslaunch</code></a></span></li></ul></li></ul></li></ul></li><li><span><a href=\"#Parameters\" data-toc-modified-id=\"Parameters-6\"><span class=\"toc-item-num\">6&nbsp;&nbsp;</span>Parameters</a></span><ul class=\"toc-item\"><li><span><a href=\"#Accessing-parameters-from-command-line\" data-toc-modified-id=\"Accessing-parameters-from-command-line-6.1\"><span class=\"toc-item-num\">6.1&nbsp;&nbsp;</span>Accessing parameters from command line</a></span></li><li><span><a href=\"#Setting-parameters-in-a-Launch-file\" data-toc-modified-id=\"Setting-parameters-in-a-Launch-file-6.2\"><span class=\"toc-item-num\">6.2&nbsp;&nbsp;</span>Setting parameters in a Launch file</a></span></li></ul></li><li><span><a href=\"#Appendix\" data-toc-modified-id=\"Appendix-7\"><span class=\"toc-item-num\">7&nbsp;&nbsp;</span>Appendix</a></span><ul class=\"toc-item\"><li><span><a href=\"#Publisher-code-listing\" data-toc-modified-id=\"Publisher-code-listing-7.1\"><span class=\"toc-item-num\">7.1&nbsp;&nbsp;</span>Publisher code listing</a></span></li><li><span><a href=\"#Subscriber-code-listing\" data-toc-modified-id=\"Subscriber-code-listing-7.2\"><span class=\"toc-item-num\">7.2&nbsp;&nbsp;</span>Subscriber code listing</a></span></li></ul></li></ul></div>"
   ]
  },
  {
   "cell_type": "code",
   "execution_count": null,
   "metadata": {},
   "outputs": [],
   "source": [
    "%load_ext autoreload\n",
    "%autoreload 2"
   ]
  },
  {
   "cell_type": "markdown",
   "metadata": {},
   "source": [
    "# Creating a ROS package"
   ]
  },
  {
   "cell_type": "markdown",
   "metadata": {},
   "source": [
    "## Conceptual overview"
   ]
  },
  {
   "cell_type": "markdown",
   "metadata": {},
   "source": [
    "### ROS Packages\n",
    "\n",
    " - Software in ROS is organised in **packages**.\n",
    "  - The goal of a ROS package is it to provide useful functionality\n",
    "    in an easy-to-consume manner so that software can be easily\n",
    "    reused.\n",
    "  - A ROS package often contains ROS nodes, ROS-independent libraries, datasets,\n",
    "    configuration files, a third-party piece of software, or anything\n",
    "    else that logically constitutes a useful module.\n",
    "  - A ROS package can be built manually or using `catkin`."
   ]
  },
  {
   "cell_type": "markdown",
   "metadata": {},
   "source": [
    "###  Catkin\n",
    "\n",
    "- `catkin` is the official build system of ROS\n",
    "  - catkin combines CMake macros and Python scripts to provide some\n",
    "    functionality on top of CMake's normal workflow.\n",
    "  - The name catkin comes from the tail-shaped flower cluster found on\n",
    "    willow trees\n",
    "  - A build system is responsible for generating 'targets' from raw source code\n",
    "  - targets may be in the form of libraries, executable programs, generated scripts, exported interfaces (e.g. C++ header files) or anything else that is not static code.\n",
    "  - To build targets, the build system needs information such as the\n",
    "    locations of tool chain components (e.g. C++ compiler), source\n",
    "    code locations, code dependencies, external dependencies, where\n",
    "    those dependencies are located, which targets should be built,\n",
    "    where targets should be built, and where they should be\n",
    "    installed. This is typically expressed in some set of\n",
    "    configuration files read by the build system. In an IDE, this\n",
    "    information is typically stored as part of the workspace/project\n",
    "    meta-information (e.g. Visual C++ project file). With CMake, it is\n",
    "    specified in a file typically called 'CMakeLists.txt' and with GNU\n",
    "    Make it is within a file typically called 'Makefile'. The build\n",
    "    system utilizes this information to process and build source code\n",
    "    in the appropriate order to generate targets.\n",
    "- Why catkin ?\n",
    "    - For development of single software projects, existing tools like Autotools, CMake, and the build systems included with IDEs tend to be sufficient. However, these tools can be difficult to use on their own with large, complex, and/or highly heterogeneous code ecosystems -- mainly because of the sheer number of dependencies, complex code organization, and custom build rules a particular target could have. \n",
    "    - As these tools are very general and designed to be used by software developers, they also tend to be difficult to use by those without a software development background.\n",
    "    - ROS is a very large collection of loosely federated packages.\n",
    "    -  catkin specifically tries to improve development on large sets of related packages in a consistent and conventional way. \n",
    "- Workspaces\n",
    "    - catkin packages can be built as a standalone project\n",
    "    - But catkin also provides the concept of **workspaces**, where you can build multiple, interdependent packages together all at once.\n",
    "    - A catkin workspace is a folder where you modify, build, and install catkin packages.\n",
    "    - A typical catkin workspace layout is shown below:\n",
    "    "
   ]
  },
  {
   "cell_type": "markdown",
   "metadata": {},
   "source": [
    "```\n",
    "            workspace_folder/         -- WORKSPACE\n",
    "              src/                    -- SOURCE SPACE\n",
    "                CMakeLists.txt        -- The 'toplevel' CMake file\n",
    "                package_1/\n",
    "                  CMakeLists.txt\n",
    "                  package.xml\n",
    "                  ...\n",
    "                package_n/\n",
    "                  CATKIN_IGNORE       -- Optional empty file to exclude package_n from being processed\n",
    "                  CMakeLists.txt\n",
    "                  package.xml\n",
    "                  ...\n",
    "              build/                  -- BUILD SPACE\n",
    "                CATKIN_IGNORE         -- Keeps catkin from walking this directory\n",
    "              devel/                  -- DEVELOPMENT SPACE (set by CATKIN_DEVEL_PREFIX)\n",
    "                bin/\n",
    "                etc/\n",
    "                include/\n",
    "                lib/\n",
    "                share/\n",
    "                .catkin\n",
    "                env.bash\n",
    "                setup.bash\n",
    "                setup.sh\n",
    "                ...\n",
    "              install/                -- INSTALL SPACE (set by CMAKE_INSTALL_PREFIX)\n",
    "                bin/\n",
    "                etc/\n",
    "                include/\n",
    "                lib/\n",
    "                share/\n",
    "                .catkin             \n",
    "                env.bash\n",
    "                setup.bash\n",
    "                setup.sh\n",
    "                ...\n",
    "```"
   ]
  },
  {
   "cell_type": "markdown",
   "metadata": {},
   "source": [
    "## Creating a catkin workspace"
   ]
  },
  {
   "cell_type": "code",
   "execution_count": null,
   "metadata": {},
   "outputs": [],
   "source": [
    "cd ~/ROS_workshop/"
   ]
  },
  {
   "cell_type": "markdown",
   "metadata": {},
   "source": [
    "We change our working directory to `ROS_workshop` directory. This can be any folder; we have chosen to create the workspace under the `ROS_workshop` folder. "
   ]
  },
  {
   "cell_type": "code",
   "execution_count": null,
   "metadata": {},
   "outputs": [],
   "source": [
    "mkdir -p workspace/src\n",
    "cd workspace\n",
    "!catkin_make"
   ]
  },
  {
   "cell_type": "markdown",
   "metadata": {},
   "source": [
    "Let us examine the the above commands.\n",
    "\n",
    "- The `catkin_make` command is a convenience tool for working with catkin workspaces. \n",
    "- Running it the first time in your workspace, it will create a CMakeLists.txt link in your 'src' folder. \n",
    "- Additionally, if you look in your current directory you should now have a 'build' and 'devel' folder. \n",
    "- Inside the 'devel' folder you can see that there are now several setup.\\*sh files. \n",
    "- Sourcing any of these files will overlay this workspace on top of your environment. "
   ]
  },
  {
   "cell_type": "code",
   "execution_count": null,
   "metadata": {},
   "outputs": [],
   "source": [
    "%%bash\n",
    "source ~/ROS_workshop/workspace/devel/setup.bash\n",
    "echo $ROS_PACKAGE_PATH"
   ]
  },
  {
   "cell_type": "markdown",
   "metadata": {},
   "source": [
    "## Creating a catkin package"
   ]
  },
  {
   "cell_type": "markdown",
   "metadata": {},
   "source": [
    "### The contents of an `catkin` package\n",
    "\n",
    "A catkin package must meet the following requirements\n",
    "- It **must** contain a `catkin` complaint `package.xml` file.\n",
    "- It **must** contain a `CMakeLists.txt` which uses `catkin`.\n",
    "- It **must** be contained in its own folder.\n",
    "\n",
    "A simple `catkin` package has the following structure\n",
    "```\n",
    "package_name/\n",
    "    CMakeLists.txt\n",
    "    package.xml\n",
    "```\n",
    "\n",
    "While it is possible to create an catkin package by hand, ROS comes with a handy package for working with packages called `catkin_pkg`.\n",
    "We are going to illustrate how to create a new catkin package using the `catkin_create_pkg` script from the `catkin_pkg`. "
   ]
  },
  {
   "cell_type": "markdown",
   "metadata": {},
   "source": [
    "First change directory into the source space directory that you made in the previous section. "
   ]
  },
  {
   "cell_type": "code",
   "execution_count": null,
   "metadata": {},
   "outputs": [],
   "source": [
    "cd ~/ROS_workshop/workspace/src"
   ]
  },
  {
   "cell_type": "markdown",
   "metadata": {},
   "source": [
    "Now use the catkin_create_pkg script to create a new package called 'workshop_tutorials' which depends on std_msgs, and rospy:"
   ]
  },
  {
   "cell_type": "code",
   "execution_count": null,
   "metadata": {},
   "outputs": [],
   "source": [
    "!catkin_create_pkg workshop_tutorials std_msgs rospy"
   ]
  },
  {
   "cell_type": "markdown",
   "metadata": {},
   "source": [
    "This will create a workshop_tutorials folder which contains a package.xml and a CMakeLists.txt, which have been partially filled out with the information you gave catkin_create_pkg."
   ]
  },
  {
   "cell_type": "code",
   "execution_count": null,
   "metadata": {},
   "outputs": [],
   "source": [
    "!ls -lR workshop_tutorials"
   ]
  },
  {
   "cell_type": "markdown",
   "metadata": {},
   "source": [
    "# Building a ROS package."
   ]
  },
  {
   "cell_type": "markdown",
   "metadata": {},
   "source": [
    "For this workshop we have already created example content for the ROS package. We are going to put them in our newly created package"
   ]
  },
  {
   "cell_type": "code",
   "execution_count": null,
   "metadata": {},
   "outputs": [],
   "source": [
    "cp -R ~/ROS_workshop/tutorials/workshop_examples/* /home/samrat/ROS_workshop/workspace/src/workshop_tutorials"
   ]
  },
  {
   "cell_type": "markdown",
   "metadata": {},
   "source": [
    "Let us confirm if all files have been copied over"
   ]
  },
  {
   "cell_type": "code",
   "execution_count": null,
   "metadata": {},
   "outputs": [],
   "source": [
    "ls -LR ~/ROS_workshop/workspace/src/workshop_tutorials/"
   ]
  },
  {
   "cell_type": "markdown",
   "metadata": {},
   "source": [
    "Next, we make the scripts executable. Python scripts are not executable by default in Linux. We need to make them executable. "
   ]
  },
  {
   "cell_type": "code",
   "execution_count": null,
   "metadata": {},
   "outputs": [],
   "source": [
    "!chmod +x ~/ROS_workshop/workspace/src/workshop_tutorials/scripts/*"
   ]
  },
  {
   "cell_type": "markdown",
   "metadata": {},
   "source": [
    "Finally, we need to build the project and load the environment variables."
   ]
  },
  {
   "cell_type": "code",
   "execution_count": null,
   "metadata": {},
   "outputs": [],
   "source": [
    "%cd ~/ROS_workshop/workspace/\n",
    "!catkin_make\n",
    "%source ~/ROS_workshop/workspace/devel/setup.bash"
   ]
  },
  {
   "cell_type": "markdown",
   "metadata": {},
   "source": [
    "# Running a ROS package\n",
    "\n",
    "Befor we can start using ROS we need to start `roscore`. `roscore` is a pre-requisite for using ROS; it allows ROS nodes to communicate with each other. \n",
    "\n",
    "## Start ROS core\n",
    "\n",
    "1. Open a Jupyter notebook terminal\n",
    "2. Type in `roscore`\n",
    "\n",
    "## Start the talker node\n",
    "\n",
    "1. Open a Jupyter notebook terminal\n",
    "1. Type in `source workshop/devel/setup.bash`\n",
    "2. Type in `rosrun workshop_tutorial talker.py`\n",
    "\n",
    "## Start the listener node\n",
    "\n",
    "1. Open a Jupyter notebook terminal\n",
    "1. Type in `source workshop/devel/setup.bash`\n",
    "2. Type in `rosrun workshop_tutorial listener.py`"
   ]
  },
  {
   "cell_type": "markdown",
   "metadata": {},
   "source": [
    "# Interacting with a live ROS system\n",
    "\n",
    "Let us look at some of the commands that allows us to interact with a ROS system. We start with `rosrun` that you have meet in the last section. \n",
    "\n",
    "## rosrun\n",
    "\n",
    "ROS package paths can get very long and difficult to remember.  `rosrun` allows you to use the package name to directly run a node within a package."
   ]
  },
  {
   "cell_type": "code",
   "execution_count": null,
   "metadata": {},
   "outputs": [],
   "source": [
    "!rosrun -h"
   ]
  },
  {
   "cell_type": "markdown",
   "metadata": {},
   "source": [
    "## rosnode\n",
    "\n",
    "You can get information about currently running ROS nodes by making use of the `rosnode` command. Executing the following cell will show all options accepted by the command. We will look at the most used actions in details below."
   ]
  },
  {
   "cell_type": "code",
   "execution_count": null,
   "metadata": {},
   "outputs": [],
   "source": [
    "!rosnode -h"
   ]
  },
  {
   "cell_type": "markdown",
   "metadata": {},
   "source": [
    "### Listing nodes\n",
    "\n",
    "The following command will list all running ROS nodes."
   ]
  },
  {
   "cell_type": "code",
   "execution_count": null,
   "metadata": {
    "scrolled": true
   },
   "outputs": [],
   "source": [
    "!rosnode list"
   ]
  },
  {
   "cell_type": "markdown",
   "metadata": {},
   "source": [
    "### Getting information about a node\n",
    "\n",
    "You can get information about a running node by using the `info` option."
   ]
  },
  {
   "cell_type": "code",
   "execution_count": null,
   "metadata": {},
   "outputs": [],
   "source": [
    "!rosnode info /talker_12131_1521553572009"
   ]
  },
  {
   "cell_type": "markdown",
   "metadata": {},
   "source": [
    "### Checking if a node is alive"
   ]
  },
  {
   "cell_type": "code",
   "execution_count": null,
   "metadata": {
    "scrolled": true
   },
   "outputs": [],
   "source": [
    "!rosnode ping /talker_12131_1521553572009"
   ]
  },
  {
   "cell_type": "markdown",
   "metadata": {},
   "source": [
    "## rostopic\n",
    "\n",
    "The `rostopic` tool allows you to get information about ROS topics.\n",
    "You can use the help option to get the available sub-commands for rostopic."
   ]
  },
  {
   "cell_type": "code",
   "execution_count": null,
   "metadata": {},
   "outputs": [],
   "source": [
    "!rostopic -h"
   ]
  },
  {
   "cell_type": "markdown",
   "metadata": {},
   "source": [
    "We again take a look at some of the more used sub-commands below"
   ]
  },
  {
   "cell_type": "markdown",
   "metadata": {},
   "source": [
    "### Listing available topics\n",
    "\n",
    "You get a list of all topics that are available by using the `list` subcommand. Executing the cell below will show you the topics which are active at the moment."
   ]
  },
  {
   "cell_type": "code",
   "execution_count": null,
   "metadata": {},
   "outputs": [],
   "source": [
    "!rostopic list"
   ]
  },
  {
   "cell_type": "markdown",
   "metadata": {},
   "source": [
    "### Echoing a topic\n",
    "\n",
    "It is often the case that we want to check the output of a ROS node without having to write or instantiate a subscriber. The `echo` subcommand allows us to view the output of a published topic from command line. Executing the following cell will print out the message from the `chatter` topic from the `talker` node. It will keep on printing until interrupted. You can interrupt or stop the printing by clicking on the interrupt kernel button on the tool bar. "
   ]
  },
  {
   "cell_type": "code",
   "execution_count": null,
   "metadata": {},
   "outputs": [],
   "source": [
    "!rostopic echo /chatter"
   ]
  },
  {
   "cell_type": "markdown",
   "metadata": {},
   "source": [
    "Donot forget to stop executing the above process before contnuing. "
   ]
  },
  {
   "cell_type": "markdown",
   "metadata": {},
   "source": [
    "### Getting information about a topic\n",
    "\n",
    "You can get more information about a topic by using the `info` sub-command. Executing the cell below will show the type of the message, who is publishing to it and who is the subscriber."
   ]
  },
  {
   "cell_type": "code",
   "execution_count": null,
   "metadata": {},
   "outputs": [],
   "source": [
    "!rostopic info /chatter"
   ]
  },
  {
   "cell_type": "markdown",
   "metadata": {},
   "source": [
    "You can get the rate messages are being published to a topic by using the `hz` subcommand.  "
   ]
  },
  {
   "cell_type": "code",
   "execution_count": null,
   "metadata": {},
   "outputs": [],
   "source": [
    "!rostopic hz /chatter"
   ]
  },
  {
   "cell_type": "markdown",
   "metadata": {},
   "source": [
    "Donot forget to interrupt the above process by clicking on interrup the kernel before continuing. \n",
    "\n",
    "You can also get the total bandwidth used by the topic by making use of the `bw` subcommand."
   ]
  },
  {
   "cell_type": "code",
   "execution_count": null,
   "metadata": {},
   "outputs": [],
   "source": [
    "!rostopic bw /chatter"
   ]
  },
  {
   "cell_type": "markdown",
   "metadata": {},
   "source": [
    "Donot forget to interrupt the above process by clicking on interrup the kernel before continuing."
   ]
  },
  {
   "cell_type": "markdown",
   "metadata": {},
   "source": [
    "# Launch Files\n",
    "\n",
    "- A ROS package may contain more than one or two nodes\n",
    "- It is frustrating to open terminals for each node, and an additional one for `roscore` everytime\n",
    "- ROS provides **launchfiles** to start multiple nodes and `roscore` at the same time.\n",
    "- Using launchfiles for large projects is a must\n",
    "- Launch files can also be used to configure nodes\n",
    "- We will explain launch files and the `roslaunch` tool."
   ]
  },
  {
   "cell_type": "markdown",
   "metadata": {},
   "source": [
    "## Executing launch files\n",
    "\n",
    "Before we explain the nity gritties of a launch file, let us see how we can use a launch file. To start multiple nodes we will use the `roslaunch` tool which will take a launch file as input. For this tutorial we have provided a launch file that we will copy into our __workshop_tutorial__ package. "
   ]
  },
  {
   "cell_type": "markdown",
   "metadata": {},
   "source": [
    "### Executing a launch file\n",
    "\n",
    "To execute a launch file we use the `roslaunch` tool. Put the cursor in the following cell and use `Ctrl-Enter` to see the usage of the tool."
   ]
  },
  {
   "cell_type": "code",
   "execution_count": null,
   "metadata": {},
   "outputs": [],
   "source": [
    "!roslaunch"
   ]
  },
  {
   "cell_type": "markdown",
   "metadata": {},
   "source": [
    "For the current example we execute the launch file as follows.\n",
    "1. Open a Jupyter Notebook terminal\n",
    "2. Type or copy/paste the following command\n",
    "```\n",
    "roslaunch workshop_tutorial tutorial_1.launch\n",
    "```\n",
    "\n",
    "To terminate a `roslaunch` process, use `Ctrl-C`."
   ]
  },
  {
   "cell_type": "markdown",
   "metadata": {},
   "source": [
    "## Writing launch files\n",
    "\n",
    "Typically launch files associated with a package are given names that end with the file extension _.launch_. You can store launch files directly inside a package directory. When `roslaunch` searches for a launch file, it will look through all subdirectories. For the sake of better organisation, we store launch files inside a _launch_ folder. The contents of the example launch file are shown below."
   ]
  },
  {
   "cell_type": "markdown",
   "metadata": {},
   "source": [
    "### An example launch file\n",
    "\n",
    "The listing below shows the contents of the launch file that was executed above. "
   ]
  },
  {
   "cell_type": "code",
   "execution_count": null,
   "metadata": {},
   "outputs": [],
   "source": [
    "# %load ~/ROS_workshop/workspace/src/workshop_tutorials/launch/tutorial_1.launch\n",
    "<launch>\n",
    "  <node pkg=\"workshop_tutorials\" type=\"talker.py\" name=\"talker\"/>\n",
    "  <node pkg=\"workshop_tutorials\" type=\"listener.py\" name=\"listener\"/>\n",
    "</launch>\n"
   ]
  },
  {
   "cell_type": "markdown",
   "metadata": {},
   "source": [
    "#### Lauch file breakdown\n",
    "\n",
    "Let us examine the elements of the launch file. A launch file is an XML document and contains XML elements. An XML element is everything from (including) the element's start tag to (including) the element's end tag. Unlike HTML, XML tags are all user defined. For example the following is an XML element with tag _tagName_,\n",
    "```\n",
    "<tagName someAtrribute=\"value\">Some text</tagName>\n",
    "```\n",
    "An XML element can contain:\n",
    "- text \n",
    "- attributes\n",
    "- other elements\n",
    "- mix of above\n",
    "\n",
    "In the example above, _<tagName>_ has **text content**, \"Some text\". It also has an attribute, _someAttribute_ with value,\"value\". Let us examine the elements of the launch file.\n",
    "    \n",
    "##### Root element\n",
    "\n",
    "XML documents must contain one **root** element that is the **parent** of all other elements. In the case of launch files the root element is `<launch>`. Every other element **must** be enclosed between these tags.\n",
    "\n",
    "##### Node element\n",
    "\n",
    "The main element of a launch file is a collection of node elements, each of which\n",
    "\"launches\" a single node. For example, \n",
    "```\n",
    "<node pkg=\"workshop_tutorials\" type=\"talker.py\" name=\"talker\"/>\n",
    "```\n",
    "A node element has three required attribute\n",
    "   - `pkg` Identifies the package which ROS should run to start this node\n",
    "   - `type` Identifies the executable which should be executed.\n",
    "   - `name` Assigns a name to the node.\n",
    "\n",
    "##### Arg element\n",
    "\n",
    "You might have noticed the `arg` element in the lisiting of the launch file above. The `arg` element allows us to define arguments that can be used later in the launch file. The <arg> tag allows you to create more re-usable and configurable launch files by specifying values that are passed via the command line, passing in via an <include>, or declared for higher-level files."
   ]
  },
  {
   "cell_type": "markdown",
   "metadata": {},
   "source": [
    "## Some `roslaunch` options"
   ]
  },
  {
   "cell_type": "markdown",
   "metadata": {},
   "source": [
    "#### Force output to screen\n",
    "\n",
    "Even if the nodes do not have the `output=\"screen\"` attribute, we can force `roslaunch` to output to screen using the following command. "
   ]
  },
  {
   "cell_type": "code",
   "execution_count": null,
   "metadata": {},
   "outputs": [],
   "source": [
    "!roslaunch --screen workshop_tutorials tutorial_1.launch"
   ]
  },
  {
   "cell_type": "markdown",
   "metadata": {},
   "source": [
    "#### Viewing nodes that are contained in a launch file"
   ]
  },
  {
   "cell_type": "code",
   "execution_count": null,
   "metadata": {},
   "outputs": [],
   "source": [
    "!roslaunch --nodes ~/ROS_workshop/workspace/src/workshop_tutorials/launch/tutorial_1.launch"
   ]
  },
  {
   "cell_type": "markdown",
   "metadata": {},
   "source": [
    "#### Viewing all options accepted by `roslaunch`\n",
    "\n",
    "To view all options accepted by roslaunch use the following command."
   ]
  },
  {
   "cell_type": "code",
   "execution_count": null,
   "metadata": {},
   "outputs": [],
   "source": [
    "!roslaunch --help"
   ]
  },
  {
   "cell_type": "markdown",
   "metadata": {},
   "source": [
    "# Parameters\n",
    "\n",
    "- Editing code to change parameters for nodes is not very efficient.\n",
    "- ROS allows configuaration of nodes using the **parameter server**.\n",
    "- The parameter server keeps track of a collection of values.\n",
    "- The values are identified by a short string.\n",
    "- The **parameter server** is part of master and is started by `roscore` or `roslaunch` automatically."
   ]
  },
  {
   "cell_type": "markdown",
   "metadata": {},
   "source": [
    "## Accessing parameters from command line\n",
    "\n",
    "To access parameters from command line we make use of the `rosparam` tool. First open a Jupyter terminal and start `roscore`."
   ]
  },
  {
   "cell_type": "markdown",
   "metadata": {},
   "source": [
    "##### Listing Parameters\n",
    "\n",
    "The following command lists all parameters currently available in the **parameter server**."
   ]
  },
  {
   "cell_type": "code",
   "execution_count": null,
   "metadata": {},
   "outputs": [],
   "source": [
    "!rosparam list"
   ]
  },
  {
   "cell_type": "markdown",
   "metadata": {},
   "source": [
    "##### Querying Parameters\n",
    "\n",
    "The following command allows us to query the server for a parameter value. In this example, we are listing the currently installed version of ROS."
   ]
  },
  {
   "cell_type": "code",
   "execution_count": null,
   "metadata": {},
   "outputs": [],
   "source": [
    "!rosparam get /rosversion"
   ]
  },
  {
   "cell_type": "markdown",
   "metadata": {},
   "source": [
    "We can also retrieve all parameter values in a namespace together."
   ]
  },
  {
   "cell_type": "code",
   "execution_count": null,
   "metadata": {},
   "outputs": [],
   "source": [
    "!rosparam get /"
   ]
  },
  {
   "cell_type": "markdown",
   "metadata": {},
   "source": [
    "##### Setting Parameters\n",
    "\n",
    "We can set parameter values using the next command."
   ]
  },
  {
   "cell_type": "code",
   "execution_count": null,
   "metadata": {},
   "outputs": [],
   "source": [
    "!rosparam set /message \"This is a different message.\""
   ]
  },
  {
   "cell_type": "markdown",
   "metadata": {},
   "source": [
    "You can confirm that the parameter has been added to the server and return its value by using the previous command. Try it! Then try changing the value in the previous cell and check if it has been updated."
   ]
  },
  {
   "cell_type": "code",
   "execution_count": null,
   "metadata": {
    "scrolled": true
   },
   "outputs": [],
   "source": [
    "# Return the value of the message parameter\n",
    "!rosparam get /"
   ]
  },
  {
   "cell_type": "markdown",
   "metadata": {},
   "source": [
    "##### Creating and loading Parameter files\n",
    "\n",
    "To get a snapshot of current parameter values (say for debugging) we can make use of the following command"
   ]
  },
  {
   "cell_type": "code",
   "execution_count": null,
   "metadata": {},
   "outputs": [],
   "source": [
    "!rosparam dump current_params.yaml /"
   ]
  },
  {
   "cell_type": "markdown",
   "metadata": {},
   "source": [
    "The YAML file should have been created in the current folder. To view it, go to Home tab in the browser and click on \"current_params.yaml\" from the file list. \n",
    "\n",
    "To load a parameter file we make use of the following command."
   ]
  },
  {
   "cell_type": "code",
   "execution_count": null,
   "metadata": {},
   "outputs": [],
   "source": [
    "!rosparam load current_params.yaml"
   ]
  },
  {
   "cell_type": "markdown",
   "metadata": {},
   "source": [
    "Change the message value in the YAML file, load it and check if the message has been updated."
   ]
  },
  {
   "cell_type": "code",
   "execution_count": null,
   "metadata": {},
   "outputs": [],
   "source": [
    "!rosparam get /"
   ]
  },
  {
   "cell_type": "markdown",
   "metadata": {},
   "source": [
    "For this workshop, the string published by talker node is set to the \"message\" parameter. Use the commands discussed in section 3 to check if the talker and listener are showing the updated message.  "
   ]
  },
  {
   "cell_type": "markdown",
   "metadata": {},
   "source": [
    "## Setting parameters in a Launch file\n",
    "\n",
    "Another method for setting parameters is using a launch file. To set parameters in the launch file we make use of the param element\n",
    "```\n",
    "<param name=\"param-name\" value=\"param-value\"/>\n",
    "```\n",
    "Let us set this in the example launch file for this tutorial.\n",
    "- copy the example launch file listing given in the '*writing launch files*' section.\n",
    "- After line 2 enter the following line\n",
    "```\n",
    "<param name=\"message\" value=\"This is set in the launch file\"/>\n",
    "```\n",
    "- Use `Ctrl-Enter` to write the file.\n",
    "- Open a new Jupyter Notebook Terminal.\n",
    "- Execute `source workspace/devel/setup.bash`\n",
    "- Use the `roslaunch` with `--screen` option to execute the launch file.\n",
    "- If you get the correct output you can use `Ctrl-C` to exit the process."
   ]
  },
  {
   "cell_type": "code",
   "execution_count": null,
   "metadata": {},
   "outputs": [],
   "source": [
    "%%writefile ~/ROS_workshop/workspace/src/workshop_tutorials/launch/tutorial_1.launch\n",
    "<launch>\n",
    "    <param name=\"message\" value=\"This is set in the launch file\"/>\n",
    "    <node pkg=\"workshop_tutorials\" type=\"talker.py\" name=\"talker\"/>\n",
    "    <node pkg=\"workshop_tutorials\" type=\"listener.py\" name=\"listener\"/>\n",
    "</launch>"
   ]
  },
  {
   "cell_type": "markdown",
   "metadata": {},
   "source": [
    "You can also load in parameters stored in an external YAML file in the following way.\n",
    "```\n",
    "<rosparam command=\"load\"  file=\"$(find package-name)/param-file\" />\n",
    "```"
   ]
  },
  {
   "cell_type": "markdown",
   "metadata": {},
   "source": [
    "# Appendix"
   ]
  },
  {
   "cell_type": "markdown",
   "metadata": {},
   "source": [
    "## Publisher code listing"
   ]
  },
  {
   "cell_type": "code",
   "execution_count": null,
   "metadata": {},
   "outputs": [],
   "source": [
    "# %load src/workshop_tutorials/scripts/talker.py\n",
    "#!/usr/bin/env python\n",
    "# license removed for brevity\n",
    "import rospy\n",
    "from std_msgs.msg import String\n",
    "\n",
    "\n",
    "def talker():\n",
    "    msg = rospy.get_param(\"message\", \"Hello world!\")\n",
    "    pub = rospy.Publisher('chatter', String, queue_size=10)\n",
    "    rospy.init_node('talker', anonymous=True)\n",
    "    rate = rospy.Rate(10)  # 10hz\n",
    "    while not rospy.is_shutdown():\n",
    "        hello_str = \"{}\".format(msg)\n",
    "        rospy.loginfo(hello_str)\n",
    "        pub.publish(hello_str)\n",
    "        rate.sleep()\n",
    "\n",
    "\n",
    "if __name__ == '__main__':\n",
    "    try:\n",
    "        talker()\n",
    "    except rospy.ROSInterruptException:\n",
    "        pass\n"
   ]
  },
  {
   "cell_type": "markdown",
   "metadata": {},
   "source": [
    "## Subscriber code listing"
   ]
  },
  {
   "cell_type": "code",
   "execution_count": null,
   "metadata": {
    "scrolled": true
   },
   "outputs": [],
   "source": [
    "# %load src/workshop_tutorials/scripts/listener.py\n",
    "#!/usr/bin/env python\n",
    "import rospy\n",
    "from std_msgs.msg import String\n",
    "\n",
    "\n",
    "def callback(data):\n",
    "    rospy.loginfo(rospy.get_caller_id() + \"I heard %s\", data.data)\n",
    "\n",
    "\n",
    "def listener():\n",
    "\n",
    "    # In ROS, nodes are uniquely named. If two nodes with the same\n",
    "    # node are launched, the previous one is kicked off. The\n",
    "    # anonymous=True flag means that rospy will choose a unique\n",
    "    # name for our 'listener' node so that multiple listeners can\n",
    "    # run simultaneously.\n",
    "    rospy.init_node('listener', anonymous=True)\n",
    "\n",
    "    rospy.Subscriber(\"chatter\", String, callback)\n",
    "\n",
    "    # spin() simply keeps python from exiting until this node is stopped\n",
    "    rospy.spin()\n",
    "\n",
    "\n",
    "if __name__ == '__main__':\n",
    "    listener()\n"
   ]
  },
  {
   "cell_type": "code",
   "execution_count": null,
   "metadata": {},
   "outputs": [],
   "source": [
    "%cd ROS_workshop/"
   ]
  }
 ],
 "metadata": {
  "kernelspec": {
   "display_name": "Python 2",
   "language": "python",
   "name": "python2"
  },
  "language_info": {
   "codemirror_mode": {
    "name": "ipython",
    "version": 2
   },
   "file_extension": ".py",
   "mimetype": "text/x-python",
   "name": "python",
   "nbconvert_exporter": "python",
   "pygments_lexer": "ipython2",
   "version": "2.7.14"
  },
  "toc": {
   "nav_menu": {
    "height": "432px",
    "width": "402px"
   },
   "number_sections": true,
   "sideBar": true,
   "skip_h1_title": false,
   "title_cell": "Table of Contents",
   "title_sidebar": "Contents",
   "toc_cell": true,
   "toc_position": {},
   "toc_section_display": true,
   "toc_window_display": true
  }
 },
 "nbformat": 4,
 "nbformat_minor": 2
}
