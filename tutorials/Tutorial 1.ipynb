{
 "cells": [
  {
   "cell_type": "markdown",
   "metadata": {},
   "source": [
    "# Building a ROS package"
   ]
  },
  {
   "cell_type": "markdown",
   "metadata": {},
   "source": [
    "## Building a Catkin Workspace"
   ]
  },
  {
   "cell_type": "code",
   "execution_count": 1,
   "metadata": {},
   "outputs": [
    {
     "name": "stdout",
     "output_type": "stream",
     "text": [
      "/home/samrat/projects/ROS_workshop\n",
      "/home/samrat/projects/ROS_workshop/workspace\n",
      "Base path: /home/samrat/projects/ROS_workshop/workspace\n",
      "Source space: /home/samrat/projects/ROS_workshop/workspace/src\n",
      "Build space: /home/samrat/projects/ROS_workshop/workspace/build\n",
      "Devel space: /home/samrat/projects/ROS_workshop/workspace/devel\n",
      "Install space: /home/samrat/projects/ROS_workshop/workspace/install\n",
      "\u001b[34m####\u001b[0m\n",
      "\u001b[34m#### Running command: \u001b[1m\"make cmake_check_build_system\"\u001b[0m\u001b[34m in \u001b[1m\"/home/samrat/projects/ROS_workshop/workspace/build\"\u001b[0m\n",
      "\u001b[34m####\u001b[0m\n",
      "\u001b[34m####\u001b[0m\n",
      "\u001b[34m#### Running command: \u001b[1m\"make -j4 -l4\"\u001b[0m\u001b[34m in \u001b[1m\"/home/samrat/projects/ROS_workshop/workspace/build\"\u001b[0m\n",
      "\u001b[34m####\u001b[0m\n"
     ]
    }
   ],
   "source": [
    "%cd ~/projects/ROS_workshop/\n",
    "%mkdir -p workspace/src\n",
    "%cd workspace\n",
    "!catkin_make"
   ]
  },
  {
   "cell_type": "code",
   "execution_count": 12,
   "metadata": {},
   "outputs": [
    {
     "name": "stdout",
     "output_type": "stream",
     "text": [
      "/home/samrat/projects/ROS_workshop/workspace/src:/home/samrat/ros_ws/src/ethzasl_xsens_driver:/home/samrat/ros_ws/install_isolated/share:/opt/ros/kinetic/share\n"
     ]
    }
   ],
   "source": [
    "%%bash\n",
    "source devel/setup.bash\n",
    "echo $ROS_PACKAGE_PATH"
   ]
  },
  {
   "cell_type": "code",
   "execution_count": 13,
   "metadata": {},
   "outputs": [
    {
     "name": "stdout",
     "output_type": "stream",
     "text": [
      "/home/samrat/ros_ws/src/ethzasl_xsens_driver:/home/samrat/ros_ws/install_isolated/share:/opt/ros/kinetic/share\r\n"
     ]
    }
   ],
   "source": [
    "!echo $ROS_PACKAGE_PATH"
   ]
  },
  {
   "cell_type": "markdown",
   "metadata": {},
   "source": [
    "## Creating a catkin Package"
   ]
  },
  {
   "cell_type": "code",
   "execution_count": 3,
   "metadata": {},
   "outputs": [
    {
     "name": "stdout",
     "output_type": "stream",
     "text": [
      "/home/samrat/projects/ROS_workshop/workspace/src\n"
     ]
    }
   ],
   "source": [
    "cd ~/projects/ROS_workshop/workspace/src"
   ]
  },
  {
   "cell_type": "code",
   "execution_count": 4,
   "metadata": {},
   "outputs": [
    {
     "name": "stdout",
     "output_type": "stream",
     "text": [
      "usage: catkin_create_pkg [-h] [--meta] [-s [SYS_DEPS [SYS_DEPS ...]]]\r\n",
      "                         [-b [BOOST_COMPS [BOOST_COMPS ...]]] [-V PKG_VERSION]\r\n",
      "                         [-D DESCRIPTION] [-l LICENSE] [-a AUTHOR]\r\n",
      "                         [-m MAINTAINER] [--rosdistro ROSDISTRO]\r\n",
      "                         name [dependencies [dependencies ...]]\r\n",
      "catkin_create_pkg: error: File exists: /home/samrat/projects/ROS_workshop/workspace/src/workshop_tutorials/CMakeLists.txt\r\n"
     ]
    }
   ],
   "source": [
    "!catkin_create_pkg workshop_tutorials std_msgs rospy"
   ]
  },
  {
   "cell_type": "markdown",
   "metadata": {},
   "source": [
    "# Subscriber and Publisher"
   ]
  },
  {
   "cell_type": "code",
   "execution_count": 5,
   "metadata": {},
   "outputs": [
    {
     "name": "stdout",
     "output_type": "stream",
     "text": [
      "mkdir: cannot create directory ‘workshop_tutorials/scripts’: File exists\r\n"
     ]
    }
   ],
   "source": [
    "%mkdir workshop_tutorials/scripts"
   ]
  },
  {
   "cell_type": "code",
   "execution_count": 6,
   "metadata": {},
   "outputs": [],
   "source": [
    "%cp /home/samrat/projects/ROS_workshop/tutorials/scripts/talker.py /home/samrat/projects/ROS_workshop/workspace/src/workshop_tutorials/scripts/\n",
    "%cp /home/samrat/projects/ROS_workshop/tutorials/scripts/listener.py /home/samrat/projects/ROS_workshop/workspace/src/workshop_tutorials/scripts/"
   ]
  },
  {
   "cell_type": "code",
   "execution_count": 7,
   "metadata": {},
   "outputs": [],
   "source": [
    "!chmod +x workshop_tutorials/scripts/*"
   ]
  },
  {
   "cell_type": "code",
   "execution_count": 8,
   "metadata": {},
   "outputs": [
    {
     "name": "stdout",
     "output_type": "stream",
     "text": [
      "/home/samrat/projects/ROS_workshop/workspace\n",
      "Base path: /home/samrat/projects/ROS_workshop/workspace\n",
      "Source space: /home/samrat/projects/ROS_workshop/workspace/src\n",
      "Build space: /home/samrat/projects/ROS_workshop/workspace/build\n",
      "Devel space: /home/samrat/projects/ROS_workshop/workspace/devel\n",
      "Install space: /home/samrat/projects/ROS_workshop/workspace/install\n",
      "\u001b[34m####\u001b[0m\n",
      "\u001b[34m#### Running command: \u001b[1m\"make cmake_check_build_system\"\u001b[0m\u001b[34m in \u001b[1m\"/home/samrat/projects/ROS_workshop/workspace/build\"\u001b[0m\n",
      "\u001b[34m####\u001b[0m\n",
      "\u001b[34m####\u001b[0m\n",
      "\u001b[34m#### Running command: \u001b[1m\"make -j4 -l4\"\u001b[0m\u001b[34m in \u001b[1m\"/home/samrat/projects/ROS_workshop/workspace/build\"\u001b[0m\n",
      "\u001b[34m####\u001b[0m\n"
     ]
    }
   ],
   "source": [
    "%cd ~/projects/ROS_workshop/workspace/\n",
    "!catkin_make"
   ]
  },
  {
   "cell_type": "markdown",
   "metadata": {},
   "source": [
    "## Publisher"
   ]
  },
  {
   "cell_type": "code",
   "execution_count": null,
   "metadata": {},
   "outputs": [],
   "source": [
    "# %load src/workshop_tutorials/scripts/talker.py\n",
    "#!/usr/bin/env python\n",
    "# license removed for brevity\n",
    "import rospy\n",
    "from std_msgs.msg import String\n",
    "\n",
    "\n",
    "def talker():\n",
    "    pub = rospy.Publisher('chatter', String, queue_size=10)\n",
    "    rospy.init_node('talker', anonymous=True)\n",
    "    rate = rospy.Rate(10)  # 10hz\n",
    "    while not rospy.is_shutdown():\n",
    "        hello_str = \"hello world %s\" % rospy.get_time()\n",
    "        rospy.loginfo(hello_str)\n",
    "        pub.publish(hello_str)\n",
    "        rate.sleep()\n",
    "\n",
    "\n",
    "if __name__ == '__main__':\n",
    "    try:\n",
    "        talker()\n",
    "    except rospy.ROSInterruptException:\n",
    "        pass\n"
   ]
  },
  {
   "cell_type": "markdown",
   "metadata": {},
   "source": [
    "## Subscriber"
   ]
  },
  {
   "cell_type": "code",
   "execution_count": null,
   "metadata": {},
   "outputs": [],
   "source": [
    "# %load src/workshop_tutorials/scripts/listener.py\n",
    "#!/usr/bin/env python\n",
    "import rospy\n",
    "from std_msgs.msg import String\n",
    "\n",
    "\n",
    "def callback(data):\n",
    "    rospy.loginfo(rospy.get_caller_id() + \"I heard %s\", data.data)\n",
    "\n",
    "\n",
    "def listener():\n",
    "\n",
    "    # In ROS, nodes are uniquely named. If two nodes with the same\n",
    "    # node are launched, the previous one is kicked off. The\n",
    "    # anonymous=True flag means that rospy will choose a unique\n",
    "    # name for our 'listener' node so that multiple listeners can\n",
    "    # run simultaneously.\n",
    "    rospy.init_node('listener', anonymous=True)\n",
    "\n",
    "    rospy.Subscriber(\"chatter\", String, callback)\n",
    "\n",
    "    # spin() simply keeps python from exiting until this node is stopped\n",
    "    rospy.spin()\n",
    "\n",
    "\n",
    "if __name__ == '__main__':\n",
    "    listener()\n"
   ]
  },
  {
   "cell_type": "markdown",
   "metadata": {},
   "source": [
    "# ROS Commands"
   ]
  },
  {
   "cell_type": "markdown",
   "metadata": {},
   "source": [
    "# Parameters"
   ]
  }
 ],
 "metadata": {
  "kernelspec": {
   "display_name": "Python 2",
   "language": "python",
   "name": "python2"
  },
  "language_info": {
   "codemirror_mode": {
    "name": "ipython",
    "version": 2
   },
   "file_extension": ".py",
   "mimetype": "text/x-python",
   "name": "python",
   "nbconvert_exporter": "python",
   "pygments_lexer": "ipython2",
   "version": "2.7.14"
  }
 },
 "nbformat": 4,
 "nbformat_minor": 2
}
