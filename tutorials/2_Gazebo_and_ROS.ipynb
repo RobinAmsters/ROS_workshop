{
 "cells": [
  {
   "cell_type": "markdown",
   "metadata": {
    "toc": true
   },
   "source": [
    "<h1>Table of Contents<span class=\"tocSkip\"></span></h1>\n",
    "<div class=\"toc\"><ul class=\"toc-item\"><li><span><a href=\"#What-is-Gazebo\" data-toc-modified-id=\"What-is-Gazebo-1\"><span class=\"toc-item-num\">1&nbsp;&nbsp;</span>What is Gazebo</a></span><ul class=\"toc-item\"><li><span><a href=\"#Mobile-robot-in-a-Gazebo-environment\" data-toc-modified-id=\"Mobile-robot-in-a-Gazebo-environment-1.1\"><span class=\"toc-item-num\">1.1&nbsp;&nbsp;</span><u>Mobile robot in a Gazebo environment</u></a></span></li></ul></li><li><span><a href=\"#Linking-Gazebo-and-ROS\" data-toc-modified-id=\"Linking-Gazebo-and-ROS-2\"><span class=\"toc-item-num\">2&nbsp;&nbsp;</span>Linking Gazebo and ROS</a></span><ul class=\"toc-item\"><li><span><a href=\"#Overview-of-Gazebo-ROS-packages\" data-toc-modified-id=\"Overview-of-Gazebo-ROS-packages-2.1\"><span class=\"toc-item-num\">2.1&nbsp;&nbsp;</span><u>Overview of Gazebo ROS packages</u></a></span></li></ul></li><li><span><a href=\"#Universal-Robotic-Description-Format-(URDF)\" data-toc-modified-id=\"Universal-Robotic-Description-Format-(URDF)-3\"><span class=\"toc-item-num\">3&nbsp;&nbsp;</span>Universal Robotic Description Format (URDF)</a></span></li><li><span><a href=\"#Simulate-differential-drive-mobile-robot-in-Gazebo-and-ROS\" data-toc-modified-id=\"Simulate-differential-drive-mobile-robot-in-Gazebo-and-ROS-4\"><span class=\"toc-item-num\">4&nbsp;&nbsp;</span>Simulate differential drive mobile robot in Gazebo and ROS</a></span></li><li><span><a href=\"#Creating-your-Gazebo-Launch-File\" data-toc-modified-id=\"Creating-your-Gazebo-Launch-File-5\"><span class=\"toc-item-num\">5&nbsp;&nbsp;</span>Creating your Gazebo Launch File</a></span></li><li><span><a href=\"#Creating-your-own-Robot-Model\" data-toc-modified-id=\"Creating-your-own-Robot-Model-6\"><span class=\"toc-item-num\">6&nbsp;&nbsp;</span>Creating your own Robot Model</a></span></li><li><span><a href=\"#XACRO-Concepts\" data-toc-modified-id=\"XACRO-Concepts-7\"><span class=\"toc-item-num\">7&nbsp;&nbsp;</span>XACRO Concepts</a></span></li><li><span><a href=\"#Connect-your-Robot-to-ROS\" data-toc-modified-id=\"Connect-your-Robot-to-ROS-8\"><span class=\"toc-item-num\">8&nbsp;&nbsp;</span>Connect your Robot to ROS</a></span></li><li><span><a href=\"#Let's-Add-a-Sensor\" data-toc-modified-id=\"Let's-Add-a-Sensor-9\"><span class=\"toc-item-num\">9&nbsp;&nbsp;</span>Let's Add a Sensor</a></span></li><li><span><a href=\"#Autonomous-Operation-of-Simulated-Differential-Wheeled-Robot\" data-toc-modified-id=\"Autonomous-Operation-of-Simulated-Differential-Wheeled-Robot-10\"><span class=\"toc-item-num\">10&nbsp;&nbsp;</span>Autonomous Operation of Simulated Differential Wheeled Robot</a></span></li></ul></div>"
   ]
  },
  {
   "cell_type": "markdown",
   "metadata": {},
   "source": [
    "<h1><strong><u>Gazebo and ROS</strong></u></h1>\n",
    "\n",
    "<h2>What is Gazebo</h2>\n",
    "\n",
    "<p>Gazebo is a 3D dynamic simulator with the ability to accurately and efficiently simulate populations of robots in complex indoor and outdoor environments. While similar to game engines, Gazebo offers physics simulation at a much higher degree of fidelity, a suite of sensors, and interfaces for both users and programs.</p>\n",
    "\n",
    "<p>Typical uses of Gazebo include:</p>\n",
    "\n",
    "<ul>\n",
    "    <li>testing robotics algorithms</li>\n",
    "    <li>designing robots</li>\n",
    "    <li>performing regression testing with realistic scenarios</li>\n",
    "</ul>\n",
    "    \n",
    "<p>A few key features of Gazebo include:</p>\n",
    "\n",
    "<ul>\n",
    "    <li>multiple physics engines</li>\n",
    "    <li>a rich library of robot models and environments</li>\n",
    "    <li>a wide variety of sensors</li>\n",
    "    <li>convenient programmatic and graphical interfaces</li>\n",
    "</ul>\n",
    "\n",
    "<img src=\"http://www.pirobot.org/wordpress/wp-content/uploads/2014/09/gazebo_kinect_challenge.png\" alt=\"\">\n",
    "<h3 style=\"padding-left:32%\"><u>Mobile Robot in a Gazebo environment</u></h3>\n",
    "\n",
    "\n",
    "<h2>Linking Gazebo and ROS</h2>\n",
    "\n",
    "<p>To achieve ROS integration with stand-alone Gazebo, a set of ROS packages named gazebo_ros_pkgs provides wrappers around the stand-alone Gazebo. They provide the necessary interfaces to simulate a robot in Gazebo using ROS messages, services and dynamic reconfigure.</p>\n",
    "\n",
    "<img src=\"https://bitbucket.org/osrf/gazebo_tutorials/raw/default/ros_overview/figs/775px-Gazebo_ros_api.png\">\n",
    "<h3 style=\"padding-left:32%\"><u>Overview of Gazebo ROS packages</u></h3>\n",
    "\n",
    "<h2>Universal Robotic Description Format (URDF)</h2>\n",
    "<p>The Universal Robotic Description Format (URDF) is an XML file format used in ROS to describe all elements of a robot. To use a URDF file in Gazebo, some additional simulation-specific tags must be added to work properly with Gazebo. This tutorial explains the necessary steps to successfully use your URDF-based robot in Gazebo, saving you from having to create a separate Simulation Description Format (SDF) file from scratch and duplicating description formats. Under the hood, Gazebo will then convert the URDF to SDF automatically. Xacro (XML Macros) is an XML macro language. It is very useful to make shorter and clearer robot descriptions.</p>\n",
    "\n",
    "<h2>Simulate differential drive mobile robot in Gazebo and ROS</h2>\n",
    "<p>In this section you are going to learn:\n",
    "\n",
    "<ul>\n",
    "    <li>How to build a simple differential drive simulation in Gazebo simulator</li>\n",
    "    <li>How to add a plugin to the model to allow ROS commands to the robot</li>\n",
    "    <li>How to move the robot through ROS topics</li>\n",
    "</ul>    \n",
    "</p>\n",
    "\n",
    "\n",
    "<p>first we need to create our mybot package and create the urdf subfolder and the description file in our catkin workspace folder</p>\n",
    "\n"
   ]
  },
  {
   "cell_type": "code",
   "execution_count": null,
   "metadata": {},
   "outputs": [],
   "source": [
    "cd catkin_ws/src"
   ]
  },
  {
   "cell_type": "code",
   "execution_count": null,
   "metadata": {},
   "outputs": [],
   "source": [
    "catkin_create_pkg diff_wheeled_robot_description\n"
   ]
  },
  {
   "cell_type": "code",
   "execution_count": null,
   "metadata": {},
   "outputs": [],
   "source": [
    "catkin_create_pkg diff_wheeled_robot_gazebo\n"
   ]
  },
  {
   "cell_type": "markdown",
   "metadata": {},
   "source": [
    "<h2>Creating your Gazebo Launch File</h2>\n",
    "\n",
    "<p>Let’s start with the gazebo package, go in there and create the following subfolders:</p>"
   ]
  },
  {
   "cell_type": "code",
   "execution_count": null,
   "metadata": {},
   "outputs": [],
   "source": [
    "roscd diff_wheeled_robot_gazebo \n"
   ]
  },
  {
   "cell_type": "code",
   "execution_count": null,
   "metadata": {},
   "outputs": [],
   "source": [
    "mkdir launch \n"
   ]
  },
  {
   "cell_type": "markdown",
   "metadata": {},
   "source": [
    "<p>Create a new file:</p>"
   ]
  },
  {
   "cell_type": "code",
   "execution_count": null,
   "metadata": {},
   "outputs": [],
   "source": [
    "gedit diff_wheeled_gazebo.launch"
   ]
  },
  {
   "cell_type": "markdown",
   "metadata": {},
   "source": [
    "<p>Add an empty world and try it </p>"
   ]
  },
  {
   "cell_type": "code",
   "execution_count": null,
   "metadata": {},
   "outputs": [],
   "source": [
    "<launch>\n",
    "\n",
    "  <!-- these are the arguments you can pass this launch file, for example paused:=true -->\n",
    "  <arg name=\"paused\" default=\"false\"/>\n",
    "  <arg name=\"use_sim_time\" default=\"true\"/>\n",
    "  <arg name=\"gui\" default=\"true\"/>\n",
    "  <arg name=\"headless\" default=\"false\"/>\n",
    "  <arg name=\"debug\" default=\"false\"/>\n",
    "\n",
    "  <!-- We resume the logic in empty_world.launch -->\n",
    "  <include file=\"$(find gazebo_ros)/launch/empty_world.launch\">\n",
    "    <arg name=\"debug\" value=\"$(arg debug)\" />\n",
    "    <arg name=\"gui\" value=\"$(arg gui)\" />\n",
    "    <arg name=\"paused\" value=\"$(arg paused)\"/>\n",
    "    <arg name=\"use_sim_time\" value=\"$(arg use_sim_time)\"/>\n",
    "    <arg name=\"headless\" value=\"$(arg headless)\"/>\n",
    "  </include>\n",
    "</launch>"
   ]
  },
  {
   "cell_type": "code",
   "execution_count": null,
   "metadata": {},
   "outputs": [],
   "source": [
    "roslaunch diff_wheeled_robot_gazebo diff_wheeled_gazebo.launch"
   ]
  },
  {
   "cell_type": "markdown",
   "metadata": {},
   "source": [
    "<p>Now you should see the gazebo server and the gui starting with an empty world that contains a ground plane and a sun (which is not obviously visible without objects).</p>"
   ]
  },
  {
   "cell_type": "markdown",
   "metadata": {},
   "source": [
    "<h2>Creating your own Robot Model</h2>\n",
    "\n",
    "<p>first we need to go into our description package and create the urdf subfolder and the description file:</p>"
   ]
  },
  {
   "cell_type": "code",
   "execution_count": null,
   "metadata": {},
   "outputs": [],
   "source": [
    "roscd diff_wheeled_robot_description"
   ]
  },
  {
   "cell_type": "code",
   "execution_count": null,
   "metadata": {},
   "outputs": [],
   "source": [
    "mkdir urdf"
   ]
  },
  {
   "cell_type": "code",
   "execution_count": null,
   "metadata": {},
   "outputs": [],
   "source": [
    "cd urdf"
   ]
  },
  {
   "cell_type": "code",
   "execution_count": null,
   "metadata": {},
   "outputs": [],
   "source": [
    "gedit diff_wheeled_robot.xacro"
   ]
  },
  {
   "cell_type": "markdown",
   "metadata": {},
   "source": [
    "<h2>XACRO Concepts</h2>\n",
    "\n",
    "<p>\n",
    "<ul>\n",
    "    \n",
    "<li>xacro:include: Import the content from other file. We can divide the content in different xacros and merge them using xacro:include.</li>\n",
    "<li>property: Useful to define constant values. Use it later using ${property_name}</li>\n",
    "\n",
    "<li>xacro:macro: Macro with variable values. Later, we can use this macro from another xacro file, and we specify the required value for the variables. To use a macro, you have to include the file where the macro is, and call it using the macro’s name and filling the required values.</li>\n",
    "\n",
    "<p>This file will be the main description of our robot. Let’s put some basic structure:</p>"
   ]
  },
  {
   "cell_type": "code",
   "execution_count": null,
   "metadata": {},
   "outputs": [],
   "source": [
    "<?xml version=\"1.0\"?>\n",
    "<robot name=\"mybot\" xmlns:xacro=\"http://www.ros.org/wiki/xacro\">\n",
    "        <!-- Put here the robot description -->\n",
    "</robot>"
   ]
  },
  {
   "cell_type": "markdown",
   "metadata": {},
   "source": [
    "<p>The structure is basic for a urdf file. The complete description (links, joints, transmission…) have to be within the robot tag. The xmlns:xacro=\"http://www.ros.org/wiki/xacro\" specifies that this file will use xacro. If you want to use xacro you have to put this.</p>\n",
    "\n",
    "<p>With xacro, you can define parameters. Once again, this make the file clearer. They are usually put at the beginning of the file (within the robot tag, of course).</p>\n",
    "\n",
    "<p>Let’s define some physical and material properties for our robot, mainly the dimensions of the chassis, the caster wheel, the wheels and the range sensor:</p>"
   ]
  },
  {
   "cell_type": "code",
   "execution_count": null,
   "metadata": {},
   "outputs": [],
   "source": [
    "<!-- Defining the colors used in this robot -->\n",
    "  <material name=\"Black\">\n",
    "    <color rgba=\"0.0 0.0 0.0 1.0\"/>\n",
    "  </material>\n",
    "\n",
    "  <material name=\"Red\">\n",
    "    <color rgba=\"0.8 0.0 0.0 1.0\"/>\n",
    "  </material>\n",
    "\n",
    "  <material name=\"White\">\n",
    "    <color rgba=\"1.0 1.0 1.0 1.0\"/>\n",
    "  </material>\n",
    "\n",
    "\n",
    "  <material name=\"Blue\">\n",
    "    <color rgba=\"0.0 0.0 0.8 1.0\"/>\n",
    "  </material>\n",
    "  \n",
    "<!-- PROPERTY LIST -->\n",
    "  <!--All units in m-kg-s-radians unit system -->\n",
    "  <property name=\"M_PI\" value=\"3.1415926535897931\" />\n",
    "  <property name=\"M_PI_2\" value=\"1.570796327\" />\n",
    "  <property name=\"DEG_TO_RAD\" value=\"0.017453293\" />\n",
    "\n",
    "  <!-- Main body radius and height -->\n",
    "  <!-- Main Body Cylinder base   -->\n",
    "  <property name=\"base_height\" value=\"0.02\" /> \n",
    "  <property name=\"base_radius\" value=\"0.15\" /> \n",
    "  <property name=\"base_mass\" value=\"5\" /> <!-- in kg-->\n",
    "\n",
    "\n",
    "\n",
    "  <!-- caster wheel radius and height -->\n",
    "  <!-- caster wheel mass -->\n",
    "  <property name=\"caster_f_height\" value=\"0.04\" /> \n",
    "  <property name=\"caster_f_radius\" value=\"0.025\" /> \n",
    "  <property name=\"caster_f_mass\" value=\"0.5\" /> <!-- in kg-->\n",
    "\n",
    "\n",
    "\n",
    "  <!-- caster wheel radius and height -->\n",
    "  <!-- caster wheel mass -->\n",
    "  <property name=\"caster_b_height\" value=\"0.04\" /> \n",
    "  <property name=\"caster_b_radius\" value=\"0.025\" /> \n",
    "  <property name=\"caster_b_mass\" value=\"0.5\" /> <!-- in kg-->\n"
   ]
  },
  {
   "cell_type": "markdown",
   "metadata": {},
   "source": [
    "<p>We will also create and include 1 file</p>"
   ]
  },
  {
   "cell_type": "code",
   "execution_count": null,
   "metadata": {},
   "outputs": [],
   "source": [
    "  <xacro:include filename=\"$(find mastering_ros_robot_description_pkg)/urdf/wheel.urdf.xacro\" /> "
   ]
  },
  {
   "cell_type": "markdown",
   "metadata": {},
   "source": [
    "<p>These correspond respectively to:</p>\n",
    "\n",
    "<ul>\n",
    "    <li>all the gazebo-specific aspects of our robot</li>\n",
    "    <li>definition of the materials used (mostly colors)</li>\n",
    "<li>definitions of some macros for easier description of the robot</li>\n",
    "</ul>\n",
    "\n",
    "<p>Every file has to contain the robot tag and everything we put in them should be in this tag.</p>\n",
    "\n",
    "<p>Now we want to add a circular base for our robot. Insert this within the robot tag of mybox.xacro:</p>"
   ]
  },
  {
   "cell_type": "code",
   "execution_count": null,
   "metadata": {},
   "outputs": [],
   "source": [
    "<!-- BASE-LINK -->\n",
    "  <!--Actual body/chassis of the robot-->\n",
    "  <link name=\"base_link\">\n",
    "    <inertial>\n",
    "      <mass value=\"${base_mass}\" />\n",
    "      <origin xyz=\"0 0 0\" />\n",
    "      <!--The 3x3 rotational inertia matrix. -->\n",
    "        <cylinder_inertia  m=\"${base_mass}\" r=\"${base_radius}\" h=\"${base_height}\" />\n",
    "\n",
    "    </inertial>    \n",
    "    <visual>\n",
    "      <origin xyz=\"0 0 0\" rpy=\"0 0 0\" />\n",
    "      <geometry>\n",
    "\n",
    "\n",
    "          <cylinder length=\"${base_height}\" radius=\"${base_radius}\" />\n",
    "\n",
    "\n",
    "      </geometry>\n",
    "      <material name=\"White\" />\n",
    "    </visual>  \n",
    "    <collision>\n",
    "      <origin xyz=\"0 0 0\" rpy=\"0 0 0 \" />\n",
    "      <geometry>\n",
    "\n",
    "          <cylinder length=\"${base_height}\" radius=\"${base_radius}\" />\n",
    "\n",
    "      </geometry>\n",
    "    </collision>     \n",
    "  </link>\n",
    "  <gazebo reference=\"base_link\">\n",
    "    <material>Gazebo/White</material>\n",
    "    <turnGravityOff>false</turnGravityOff>\n",
    "  </gazebo>"
   ]
  },
  {
   "cell_type": "markdown",
   "metadata": {},
   "source": [
    "<p>We define a cylinder with Length x radius x meters and mass chassisMasskg.</p>\n",
    "\n",
    "<p>As you can see, we have three tags for this one box, where one is used to the collision detection engine, one to the visual rendering engine and the last to the physic engine. Most of the time they are the same, except when you have complicated and beautiful visual meshes.</p>\n",
    "\n",
    "<p>As they don’t need to be that complicated for collision detection you could use a simple model for the collision. The material element in the visual tag refer to a color that must be defined </p>"
   ]
  },
  {
   "cell_type": "code",
   "execution_count": null,
   "metadata": {},
   "outputs": [],
   "source": [
    "  <gazebo reference=\"base_link\">\n",
    "    <material>Gazebo/White</material>\n",
    "    <turnGravityOff>false</turnGravityOff>\n",
    "  </gazebo>"
   ]
  },
  {
   "cell_type": "markdown",
   "metadata": {},
   "source": [
    "<p>As you can see, we add more than just the color we wanted, this is for convenience. Now, we can leave this file alone and use any color we want.</p>\n"
   ]
  },
  {
   "cell_type": "markdown",
   "metadata": {},
   "source": [
    "<p>Once again, we add more than we needed. We will use the others later. The inertia tag is a convention of the inertial tag in a link.</p>\n",
    "\n",
    "<p>The physic engine does not accept a base_link with inertia. It is then useful to add a simple link without inertia and make a joint between it and the chassis. Add this before the base_link in the diff_wheeled_robot.xacro file:</p>"
   ]
  },
  {
   "cell_type": "code",
   "execution_count": null,
   "metadata": {},
   "outputs": [],
   "source": [
    "<!-- BASE-FOOTPRINT -->\n",
    "  <!-- base_footprint is a fictitious link(frame) that is on the ground right below base_link origin -->\n",
    "  <link name=\"base_footprint\">\n",
    "    <inertial>\n",
    "      <mass value=\"0.0001\" />\n",
    "      <origin xyz=\"0 0 0\" />\n",
    "      <inertia ixx=\"0.0001\" ixy=\"0.0\" ixz=\"0.0\"\n",
    "          iyy=\"0.0001\" iyz=\"0.0\" \n",
    "          izz=\"0.0001\" />\n",
    "    </inertial>\n",
    "    <visual>\n",
    "        <origin xyz=\"0 0 0\" rpy=\"0 0 0\" />\n",
    "        <geometry>\n",
    "            <box size=\"0.001 0.001 0.001\" />\n",
    "        </geometry>\n",
    "    </visual>\n",
    "  </link>\n",
    "\n",
    "  <gazebo reference=\"base_footprint\">\n",
    "    <turnGravityOff>false</turnGravityOff>\n",
    "  </gazebo>\n",
    "\n",
    "  <joint name=\"base_footprint_joint\" type=\"fixed\">\n",
    "    <origin xyz=\"0 0 ${wheel_radius - base_z_origin_to_wheel_origin}\" rpy=\"0 0 0\" />\n",
    "    <parent link=\"base_footprint\"/>\n",
    "    <child link=\"base_link\" />\n",
    "  </joint>\n",
    "  "
   ]
  },
  {
   "cell_type": "markdown",
   "metadata": {},
   "source": [
    "<p>As a next step we add a caster wheels to the robot. This is the simplest wheel as we have no axis and no friction. We can simply approximate the caster wheels with a ball. Add this after the chassis link in the main urdf file:</p>"
   ]
  },
  {
   "cell_type": "code",
   "execution_count": null,
   "metadata": {},
   "outputs": [],
   "source": [
    "<!--Caster front  -->\n",
    "\n",
    "    <link name=\"caster_front_link\">\n",
    "\n",
    "    <visual>\n",
    "      <origin xyz=\"0 0.02 0\" rpy=\"${M_PI/2} 0 0\" />\n",
    "      <geometry>\n",
    "\t<sphere radius=\"${caster_f_radius}\" />\n",
    "      </geometry>\n",
    "      <material name=\"Black\" />\n",
    "    </visual>  \n",
    "\n",
    "\n",
    "\n",
    "      <collision>\n",
    "        <geometry>\n",
    "\n",
    "\t<sphere radius=\"${caster_f_radius}\" />\n",
    "\n",
    "        </geometry>\n",
    "      <origin xyz=\"0 0.02 0\" rpy=\"${M_PI/2} 0 0\" />\n",
    "      </collision>      \n",
    "      <inertial>\n",
    "        <mass value=\"${caster_f_mass}\" />\n",
    "        <origin xyz=\"0 0 0\" />\n",
    "        <inertia ixx=\"0.001\" ixy=\"0.0\" ixz=\"0.0\"\n",
    "                 iyy=\"0.001\" iyz=\"0.0\" \n",
    "                 izz=\"0.001\" />\n",
    "      </inertial>\n",
    "    </link>\n",
    "\n",
    "\n",
    "\n",
    " <joint name=\"caster_front_joint\" type=\"fixed\">\n",
    "      <parent link=\"base_link\"/>\n",
    "      <child link=\"caster_front_link\"/>\n",
    "      <origin xyz=\"0.115 0.0 0.007\" rpy=\"${-M_PI/2} 0 0\"/>\n",
    "    </joint>\n",
    "\n",
    "\n",
    "  <gazebo reference=\"caster_front_link\">\n",
    "    <turnGravityOff>false</turnGravityOff>\n",
    "  </gazebo>\n",
    "    \n",
    "\n",
    "\n",
    "<!--Caster back  -->\n",
    "\n",
    "    <link name=\"caster_back_link\">\n",
    "\n",
    "    <visual>\n",
    "      <origin xyz=\"0.02 0.02 0 \" rpy=\"${M_PI/2} 0 0\" /> \n",
    "\n",
    "      <geometry>\n",
    "\n",
    "\n",
    "\t<sphere radius=\"${caster_b_radius}\" />\n",
    "\n",
    "\n",
    "      </geometry>\n",
    "      <material name=\"Black\" />\n",
    "    </visual>  \n",
    "\n",
    "\n",
    "\n",
    "      <collision>\n",
    "        <geometry>\n",
    "\t\t<sphere radius=\"${caster_b_radius}\" />\n",
    "        </geometry>\n",
    "      <origin xyz=\"0 0.02 0 \" rpy=\"${M_PI/2} 0 0\" /> \n",
    "      </collision>      \n",
    "      <inertial>\n",
    "        <mass value=\"${caster_b_mass}\" />\n",
    "        <origin xyz=\"0 0 0\" />        \n",
    "        <inertia ixx=\"0.001\" ixy=\"0.0\" ixz=\"0.0\"\n",
    "                 iyy=\"0.001\" iyz=\"0.0\" \n",
    "                 izz=\"0.001\" />\n",
    "      </inertial>\n",
    "    </link>\n",
    "\n",
    "    <joint name=\"caster_back_joint\" type=\"fixed\">\n",
    "      <parent link=\"base_link\"/>\n",
    "      <child link=\"caster_back_link\"/>\n",
    "      <origin xyz=\"-0.135 0.0 0.009\" rpy=\"${-M_PI/2} 0 0\"/>\n",
    "    </joint>\n",
    "\n",
    "\n",
    "  <gazebo reference=\"caster_back_link\">\n",
    "    <turnGravityOff>false</turnGravityOff>\n",
    "  </gazebo>\n"
   ]
  },
  {
   "cell_type": "markdown",
   "metadata": {},
   "source": [
    "<p>Last but not least, we want to add some wheels to the robot. lets create another file named wheel.urdf.xacro. Creating a seperate xacro will allow us to write description of wheels only one time. Including this xacro in our main description and passing parametrs of left and right wheel will simplify work</p>\n",
    "\n",
    "<p>Now you can add the wheels to the main file:"
   ]
  },
  {
   "cell_type": "code",
   "execution_count": null,
   "metadata": {},
   "outputs": [],
   "source": [
    "gedit wheel.urdf.xacro"
   ]
  },
  {
   "cell_type": "code",
   "execution_count": null,
   "metadata": {},
   "outputs": [],
   "source": [
    "<?xml version=\"1.0\"?>\n",
    "<robot name=\"wheel\" xmlns:xacro=\"http://www.ros.org/wiki/xacro\">\n",
    "  \n",
    "  <!-- Wheels -->\n",
    "  <property name=\"wheel_radius\" value=\"0.04\" /> \n",
    "  <property name=\"wheel_height\" value=\"0.02\" />\n",
    "  <property name=\"wheel_mass\" value=\"2.5\" /> <!-- in kg-->\n",
    "  \n",
    "  <property name=\"base_x_origin_to_wheel_origin\" value=\"0.25\" />\n",
    "  <property name=\"base_y_origin_to_wheel_origin\" value=\"0.3\" />\n",
    "  <property name=\"base_z_origin_to_wheel_origin\" value=\"0.0\" />\n",
    "  \n",
    "  <macro name=\"cylinder_inertia\" params=\"m r h\">\n",
    "    <inertia  ixx=\"${m*(3*r*r+h*h)/12}\" ixy = \"0\" ixz = \"0\"\n",
    "              iyy=\"${m*(3*r*r+h*h)/12}\" iyz = \"0\"\n",
    "              izz=\"${m*r*r/2}\" /> \n",
    "  </macro>\n",
    "  \n",
    "  <xacro:macro name=\"wheel\" params=\"fb lr parent translateX translateY flipY\"> <!--fb : front, back ; lr: left, right -->\n",
    "    <link name=\"${fb}_${lr}_wheel\">\n",
    "      <visual>\n",
    "        <origin xyz=\"0 0 0\" rpy=\"${flipY*M_PI/2} 0  0 \" /> \n",
    "        <geometry>\n",
    "          <cylinder length=\"${wheel_height}\" radius=\"${wheel_radius}\" />\n",
    "        </geometry>\n",
    "        <material name=\"DarkGray\" />\n",
    "      </visual>\n",
    "      <collision>\n",
    "        <origin xyz=\"0 0 0\" rpy=\"${flipY*M_PI/2} 0 0 \" />\n",
    "        <geometry>\n",
    "          <cylinder length=\"${wheel_height}\" radius=\"${wheel_radius}\" />\n",
    "        </geometry>\n",
    "      </collision>\n",
    "      <inertial>\n",
    "        <mass value=\"${wheel_mass}\" />\n",
    "        <origin xyz=\"0 0 0\" />\n",
    "        <cylinder_inertia  m=\"${wheel_mass}\" r=\"${wheel_radius}\" h=\"${wheel_height}\" />\n",
    "      </inertial>\n",
    "    </link>\n",
    "\n",
    "    <gazebo reference=\"${fb}_${lr}_wheel\">\n",
    "      <mu1 value=\"1.0\"/>\n",
    "      <mu2 value=\"1.0\"/>\n",
    "      <kp  value=\"10000000.0\" />\n",
    "      <kd  value=\"1.0\" />\n",
    "      <fdir1 value=\"1 0 0\"/>\n",
    "      <material>Gazebo/Grey</material>\n",
    "      <turnGravityOff>false</turnGravityOff>\n",
    "    </gazebo>\n",
    "\n",
    "    <joint name=\"${fb}_${lr}_wheel_joint\" type=\"continuous\">\n",
    "      <parent link=\"${parent}\"/>\n",
    "      <child link=\"${fb}_${lr}_wheel\"/>\n",
    "      <origin xyz=\"${translateX * base_x_origin_to_wheel_origin} ${translateY * base_y_origin_to_wheel_origin} ${base_z_origin_to_wheel_origin}\" rpy=\"0 0 0\" /> \n",
    "      <axis xyz=\"0 1 0\" rpy=\"0  0\" />\n",
    "      <limit effort=\"100\" velocity=\"100\"/>\n",
    "      <joint_properties damping=\"0.0\" friction=\"0.0\"/>\n",
    "    </joint>\n",
    "\n",
    "    <!-- Transmission is important to link the joints and the controller -->\n",
    "    <transmission name=\"${fb}_${lr}_wheel_joint_trans\">\n",
    "      <type>transmission_interface/SimpleTransmission</type>\n",
    "      <joint name=\"${fb}_${lr}_wheel_joint\" />\n",
    "      <actuator name=\"${fb}_${lr}_wheel_joint_motor\">\n",
    "        <hardwareInterface>EffortJointInterface</hardwareInterface>\n",
    "        <mechanicalReduction>1</mechanicalReduction>\n",
    "      </actuator>\n",
    "    </transmission>\n",
    "   \n",
    "  </xacro:macro>\n",
    "</robot>"
   ]
  },
  {
   "cell_type": "markdown",
   "metadata": {},
   "source": [
    "<p>Now lets include this macro in our main xacro and add wheel definitions</p>"
   ]
  },
  {
   "cell_type": "code",
   "execution_count": null,
   "metadata": {},
   "outputs": [],
   "source": [
    " <xacro:include filename=\"$(find diff_wheeled_robot_description)/urdf/wheel.urdf.xacro\" /> "
   ]
  },
  {
   "cell_type": "code",
   "execution_count": null,
   "metadata": {},
   "outputs": [],
   "source": [
    "<!-- Wheel Definitions -->\n",
    "\n",
    "  <wheel fb=\"front\" lr=\"right\" parent=\"base_link\" translateX=\"0\" translateY=\"0.5\" flipY=\"1\"/>\n",
    "  <wheel fb=\"front\" lr=\"left\" parent=\"base_link\" translateX=\"0\" translateY=\"-0.5\" flipY=\"1\"/>"
   ]
  },
  {
   "cell_type": "markdown",
   "metadata": {},
   "source": [
    "<p>Note only with two lines and params=\"fb lr parent translateX translateY flipY\", we described both wheels of the robot"
   ]
  },
  {
   "cell_type": "markdown",
   "metadata": {},
   "source": [
    "<h2>Connect your Robot to ROS</h2>\n",
    "\n",
    "<p>Alright, our robot is all nice and has this new car smell, but we can’t do anything with it yet as it has no connection with ROS. In order to add this connection we need to add gazebeo plugins to our model. There are different kinds of plugins:</p>\n",
    "\n",
    "<ul>\n",
    "    <li>World: Dynamic changes to the world, e.g. Physics, like illumination or gravity, inserting models</li>\n",
    "    <li>Model: Manipulation of models (robots), e.g. move the robots</li>\n",
    "    <li>Sensor: Feedback from virtual sensor, like camera, laser scanner</li>\n",
    "    <li>System: Plugins that are loaded by the GUI, like saving images</li>\n",
    "    </ul>\n",
    "<p>First of all we’ll use a controller plugin for differential drive robot. The transmission tags in our wheel xacro will be used by this plugin to define how to link the joints to controllers. To activate the plugin, add the following</p>"
   ]
  },
  {
   "cell_type": "code",
   "execution_count": null,
   "metadata": {},
   "outputs": [],
   "source": [
    "<!-- Differential drive controller  -->\n",
    "  <gazebo>\n",
    "    <plugin name=\"differential_drive_controller\" filename=\"libgazebo_ros_diff_drive.so\">\n",
    "\n",
    "      <rosDebugLevel>Debug</rosDebugLevel>\n",
    "      <publishWheelTF>false</publishWheelTF>\n",
    "      <robotNamespace>/</robotNamespace>\n",
    "      <publishTf>1</publishTf>\n",
    "      <publishWheelJointState>false</publishWheelJointState>\n",
    "      <alwaysOn>true</alwaysOn>\n",
    "      <updateRate>100.0</updateRate>\n",
    "      <leftJoint>front_left_wheel_joint</leftJoint>\n",
    "      <rightJoint>front_right_wheel_joint</rightJoint>\n",
    "      <wheelSeparation>${2*base_radius}</wheelSeparation>\n",
    "      <wheelDiameter>${2*wheel_radius}</wheelDiameter>\n",
    "      <broadcastTF>1</broadcastTF>\n",
    "      <wheelTorque>30</wheelTorque>\n",
    "      <wheelAcceleration>1.8</wheelAcceleration>\n",
    "      <commandTopic>cmd_vel</commandTopic>\n",
    "      <odometryFrame>odom</odometryFrame> \n",
    "      <odometryTopic>odom</odometryTopic> \n",
    "      <robotBaseFrame>base_footprint</robotBaseFrame>\n",
    "\n",
    "\n",
    "    </plugin>\n",
    "  </gazebo> \n"
   ]
  },
  {
   "cell_type": "markdown",
   "metadata": {},
   "source": [
    "<p>With this plugin, we will be able to control the robot.</p>"
   ]
  },
  {
   "cell_type": "markdown",
   "metadata": {},
   "source": [
    "<p>Now we need to create add our robot model in the launch file we created earlier to spawn the model. Add below in the diff_wheeled_gazebo.launch file </p>\n",
    "\n"
   ]
  },
  {
   "cell_type": "code",
   "execution_count": null,
   "metadata": {},
   "outputs": [],
   "source": [
    "<!-- urdf xml robot description loaded on the Parameter Server-->\n",
    "  <param name=\"robot_description\" command=\"$(find xacro)/xacro.py '$(find diff_wheeled_robot_description)/urdf/diff_wheeled_robot.xacro'\" /> \n",
    "\n",
    "\n",
    "  <!-- Run a python script to the send a service call to gazebo_ros to spawn a URDF robot -->\n",
    "  <node name=\"urdf_spawner\" pkg=\"gazebo_ros\" type=\"spawn_model\" respawn=\"false\" output=\"screen\"\n",
    "\targs=\"-urdf -model diff_wheeled_robot -param robot_description\"/> "
   ]
  },
  {
   "cell_type": "markdown",
   "metadata": {},
   "source": [
    "<p>The first tag will first call the xacro script to convert of xacro description into an actual URDF. This URDF is then inserted into a ROS parameter called “robot_description” (this is a standard name used by many ROS tools).</p>\n",
    "\n",
    "<p>The second tag launches a program from the gazebo_ros package that will load the URDF from the parameter “robot_description” and spawn the model into our Gazebo simulator</p>\n",
    "\n",
    "<p>If you launch your project with this launch file, the gazebo client opens and the the chassis should be there. It should also fall because of the physic engine.</p>"
   ]
  },
  {
   "cell_type": "markdown",
   "metadata": {},
   "source": [
    "<p>Now launch your simulations. In a separate terminal, if you do a “rostopic list” you should see the topics being published by gazebo which includes command topics and feedback from the wheel encoders being published odom topic and other </p>"
   ]
  },
  {
   "cell_type": "code",
   "execution_count": null,
   "metadata": {},
   "outputs": [],
   "source": [
    "roslaunch diff_wheeled_robot_gazebo diff_wheeled_gazebo.launch"
   ]
  },
  {
   "cell_type": "markdown",
   "metadata": {},
   "source": [
    "<p>Now lets publish a small command to the robot to move.</p>"
   ]
  },
  {
   "cell_type": "code",
   "execution_count": null,
   "metadata": {},
   "outputs": [],
   "source": [
    "rostopic pub -1 /cmd_vel geometry_msgs/Twist \"linear:\n",
    "  x: 0.1\n",
    "  y: 0.0\n",
    "  z: 0.0\n",
    "angular:\n",
    "  x: 0.0\n",
    "  y: 0.0\n",
    "  z: 0.0\" \n",
    "\n"
   ]
  },
  {
   "cell_type": "markdown",
   "metadata": {},
   "source": [
    "<p>The robot should start moving. Congratulations, you can now control your robot through ROS while simulating in Gazebo ! You can also monitor the robot states by doing:</p>"
   ]
  },
  {
   "cell_type": "code",
   "execution_count": null,
   "metadata": {},
   "outputs": [],
   "source": [
    "rostopic echo /odom"
   ]
  },
  {
   "cell_type": "markdown",
   "metadata": {},
   "source": [
    "<h2>Let's Add a Sensor</h2>\n",
    "\n",
    "<p>Now to avoid collision with the object in front of the object, we need a range sensor. Let's add a sonar sensor to the robot.</p>\n",
    "\n",
    "<p>Lets create a sonar description in diff_wheeled_robot_description/urdf/</p>\n"
   ]
  },
  {
   "cell_type": "code",
   "execution_count": null,
   "metadata": {},
   "outputs": [],
   "source": [
    "roscd diff_wheeled_robot_description/urdf/"
   ]
  },
  {
   "cell_type": "code",
   "execution_count": null,
   "metadata": {},
   "outputs": [],
   "source": [
    "gedit sonar_model.xacro"
   ]
  },
  {
   "cell_type": "markdown",
   "metadata": {},
   "source": [
    "<p>Similar approach is followed for the sensor. We create a small box for sonar sensor. All the parameters ($ { }) will be passed to this file.</p>"
   ]
  },
  {
   "cell_type": "code",
   "execution_count": null,
   "metadata": {},
   "outputs": [],
   "source": [
    "<?xml version=\"1.0\"?>\n",
    "\n",
    "<robot xmlns:xacro=\"http://www.ros.org/wiki/xacro\">\n",
    "  <xacro:macro name=\"sonar_sensor\" params=\"name parent *origin ros_topic update_rate min_range max_range field_of_view ray_count\">\n",
    "    <joint name=\"${name}_joint\" type=\"fixed\">\n",
    "      <xacro:insert_block name=\"origin\" />\n",
    "      <parent link=\"${parent}\"/>\n",
    "      <child link=\"${name}_link\"/>\n",
    "    </joint>\n",
    "\n",
    "    <link name=\"${name}_link\">\n",
    "      <inertial>\n",
    "        <mass value=\"0.001\" />\n",
    "        <origin xyz=\"0 0 0\" rpy=\"0 0 0\" />\n",
    "        <inertia ixx=\"0.000000017\" ixy=\"0\" ixz=\"0\" iyy=\"0.000000017\" iyz=\"0\" izz=\"0.000000017\" />\n",
    "      </inertial>\n",
    "      <visual>\n",
    "        <origin xyz=\"0 0 0\" rpy=\"0 0 0\" />\n",
    "        <geometry>\n",
    "          <box size=\"0.01 0.01 0.01\" /> \n",
    "        </geometry>\n",
    "      </visual>\n",
    "      <collision>\n",
    "        <origin xyz=\"0 0 0\" rpy=\"0 0 0\" />\n",
    "        <geometry>\n",
    "          <box size=\"0.01 0.01 0.01\" />\n",
    "        </geometry>\n",
    "      </collision>\n",
    "    </link>\n",
    "\n",
    "    <gazebo reference=\"${name}_link\">\n",
    "      <sensor type=\"ray\" name=\"${name}\">\n",
    "        <always_on>true</always_on>\n",
    "        <update_rate>${update_rate}</update_rate>\n",
    "        <pose>0 0 0 0 0 0</pose>\n",
    "        <visualize>false</visualize>\n",
    "        <ray>\n",
    "          <scan>\n",
    "            <horizontal>\n",
    "              <samples>${ray_count}</samples>\n",
    "              <resolution>1</resolution>\n",
    "              <min_angle>-${field_of_view/2}</min_angle>\n",
    "              <max_angle> ${field_of_view/2}</max_angle>\n",
    "            </horizontal>\n",
    "            <vertical>\n",
    "              <samples>${ray_count}</samples>\n",
    "              <resolution>1</resolution>\n",
    "              <min_angle>-${field_of_view/2}</min_angle>\n",
    "              <max_angle> ${field_of_view/2}</max_angle>\n",
    "            </vertical>\n",
    "          </scan>\n",
    "          <range>\n",
    "            <min>${min_range}</min>\n",
    "            <max>${max_range}</max>\n",
    "            <resolution>0.01</resolution>\n",
    "          </range>\n",
    "        </ray>\n",
    "\n",
    "        <plugin name=\"gazebo_ros_${name}_controller\" filename=\"libhector_gazebo_ros_sonar.so\">\n",
    "          <gaussianNoise>0.005</gaussianNoise>\n",
    "          <topicName>${ros_topic}</topicName>\n",
    "          <frameId>${name}_link</frameId>\n",
    "        </plugin>\n",
    "      </sensor>\n",
    "    </gazebo>\n",
    "  </xacro:macro>\n",
    "</robot>"
   ]
  },
  {
   "cell_type": "markdown",
   "metadata": {},
   "source": [
    "<p>Plugin tag refers to the plugins of Gazebo used to generate sensory feedback from the environment. We will use hector gazebo plugins for simulating sonar sensor. If you dont have, you can install using the command</p>"
   ]
  },
  {
   "cell_type": "code",
   "execution_count": null,
   "metadata": {},
   "outputs": [],
   "source": [
    "sudo apt-get install ros-kinetic-hector-gazebo-plugins"
   ]
  },
  {
   "cell_type": "markdown",
   "metadata": {},
   "source": [
    "<p>Now lets add this macro to our robot xacro which is diff_wheeled_robot.xacro</p>"
   ]
  },
  {
   "cell_type": "code",
   "execution_count": null,
   "metadata": {},
   "outputs": [],
   "source": [
    "  <xacro:include filename=\"$(find diff_wheeled_robot_description)/urdf/sonar_model.xacro\"/>"
   ]
  },
  {
   "cell_type": "code",
   "execution_count": null,
   "metadata": {},
   "outputs": [],
   "source": [
    "  <!-- SENSORS -->\n",
    "  <sonar_sensor parent=\"base_link\" name=\"differential_wheeled_robot\" ros_topic=\"/distance\" update_rate=\"10\" min_range=\"0.2\" max_range=\"1\" field_of_view=\"25\" ray_count=\"2\" >\n",
    "    <origin xyz=\"0.05 0 0.01\" rpy=\"0 0 0\" />\n",
    "  </sonar_sensor>"
   ]
  },
  {
   "cell_type": "markdown",
   "metadata": {},
   "source": [
    "<p>Now let's launch our robot to visualize the sensor</p>"
   ]
  },
  {
   "cell_type": "code",
   "execution_count": null,
   "metadata": {},
   "outputs": [],
   "source": [
    "roslaunch diff_wheeled_robot_gazebo diff_wheeled_gazebo.launch"
   ]
  },
  {
   "cell_type": "markdown",
   "metadata": {},
   "source": [
    "<h2>Autonomous Operation of Simulated Differential Wheeled Robot</h2>\n",
    "\n",
    "<p>Now we have a differential wheeled robot we can control and we also have sensory feedback from sensor. Let's make our robot operate autonomously. We will write a script in python which will subscribe to the sensor data and decide if it should move or not. The robot will keep moving forward until it detects an object infront.</p>\n"
   ]
  },
  {
   "cell_type": "code",
   "execution_count": null,
   "metadata": {},
   "outputs": [],
   "source": [
    "#!/usr/bin/env python\n",
    "import rospy\n",
    "from geometry_msgs.msg import Twist\n",
    "from sensor_msgs.msg import Range\n",
    "\n",
    "distance=0\n",
    "vel_msg = Twist()\n",
    "vel_msg.linear.x = 0\n",
    "vel_msg.linear.y = 0\n",
    "vel_msg.linear.z = 0\n",
    "vel_msg.angular.x = 0\n",
    "vel_msg.angular.y = 0\n",
    "vel_msg.angular.z = 0\n",
    "\n",
    "def callback(data):\n",
    "    distance=data.range\n",
    "    rospy.loginfo(rospy.get_caller_id() + \"I heard %f\", data.range)\n",
    "    if(distance>0.8):\n",
    "       \tvel_msg.linear.x = 0.1\n",
    "    else:\n",
    "       \tvel_msg.linear.x = 0\n",
    "\n",
    "    #Publish the velocity\n",
    "    velocity_publisher.publish(vel_msg)\n",
    "        \n",
    "if __name__ == '__main__':\n",
    "\n",
    "    # Starts a new node\n",
    "    rospy.init_node('object_detection', anonymous=True)\n",
    "    rospy.Subscriber(\"distance\", Range, callback)\n",
    "    velocity_publisher = rospy.Publisher('/cmd_vel', Twist, queue_size=10)\n",
    "    \n",
    "    rospy.spin()\n"
   ]
  },
  {
   "cell_type": "markdown",
   "metadata": {},
   "source": [
    "<p> Here we wrote a simple publisher and subscriber application in python. Basically, we are subscribing to the \"distance\" topic which is being published by the sonar sensor generating proximity feedback. Once we get the range data, simple if else condition decides if the robot should move or not. These velocity commands are then being published to \"cmd_vel\" topic.</p>"
   ]
  },
  {
   "cell_type": "markdown",
   "metadata": {},
   "source": [
    "<p>Let's try our first autonomous robot. Go ahead and launch the gazebo file and your python node.</p>"
   ]
  },
  {
   "cell_type": "code",
   "execution_count": null,
   "metadata": {},
   "outputs": [],
   "source": [
    "roslaunch diff_wheeled_robot_gazebo diff_wheeled_gazebo.launch"
   ]
  },
  {
   "cell_type": "raw",
   "metadata": {},
   "source": [
    "rosrun diff_wheeled_robot_gazebo object_detection.py"
   ]
  }
 ],
 "metadata": {
  "kernelspec": {
   "display_name": "Python 2",
   "language": "python",
   "name": "python2"
  }
 },
 "nbformat": 4,
 "nbformat_minor": 2
}
