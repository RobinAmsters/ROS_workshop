{
 "cells": [
  {
   "cell_type": "markdown",
   "metadata": {},
   "source": [
    "<h1><strong><u>Gazebo and ROS</strong></u></h1>\n",
    "\n",
    "<h2>What is Gazebo</h2>\n",
    "\n",
    "<p>Gazebo is a 3D dynamic simulator with the ability to accurately and efficiently simulate populations of robots in complex indoor and outdoor environments. While similar to game engines, Gazebo offers physics simulation at a much higher degree of fidelity, a suite of sensors, and interfaces for both users and programs.</p>\n",
    "\n",
    "<p>Typical uses of Gazebo include:</p>\n",
    "\n",
    "<ul>\n",
    "    <li>testing robotics algorithms</li>\n",
    "    <li>designing robots</li>\n",
    "    \n",
    "</ul>\n",
    "    \n",
    "<p>A few key features of Gazebo include:</p>\n",
    "\n",
    "<ul>\n",
    "    <li>multiple physics engines</li>\n",
    "    <li>a rich library of robot models and environments</li>\n",
    "    <li>a wide variety of sensors</li>\n",
    "    <li>convenient programmatic and graphical interfaces</li>\n",
    "</ul>\n",
    "\n",
    "<img src=\"http://www.pirobot.org/wordpress/wp-content/uploads/2014/09/gazebo_kinect_challenge.png\" alt=\"\">\n",
    "<figcaption style=\"text-align:center\">Mobile Robot in a Gazebo environment</figcaption>\n",
    "\n",
    "<h1>User Interface</h1>\n",
    "\n",
    "<p>We will learn the basics of the interface such as the function of the buttons and how to navigate the scene.</p>\n",
    "\n",
    "<p>Make sure Gazebo is <a href=\"http://gazebosim.org/tutorials?cat=guided_b&amp;tut=guided_b1&amp;branch=ftu2\">installed</a> before proceeding.</p>\n",
    "\n",
    "<p>Gazebo can also be opened by pressing the windows key, searching Gazebo and selecting the program. Alternatively, Gazebo can also launched by executing gazebo in a terminal.</p>\n",
    "\n",
    "<h2>GUI</h2>\n",
    "\n",
    "<p>This is what you should see:</p>\n",
    "\n",
    "<p><img src='https://bitbucket.org/osrf/gazebo_tutorials/raw/default/guided_b/files/ftu3-boot-screen.png' width='800px'/></p>\n",
    "\n",
    "<p>Note that the Gazebo interface consists of multiple sections, explained below. </p>\n",
    "\n",
    "<h3>The Scene</h3>\n",
    "\n",
    "<p>The Scene is the main part of the simulator. This is where the simulated objects are placed and interact with the rest of the environment.</p>\n",
    "\n",
    "<p><img src='https://bitbucket.org/osrf/gazebo_tutorials/raw/default/guided_b/files/ftu3-scene.png' width='800px'/></p>\n",
    "\n",
    "<h3>The Panels</h3>\n",
    "\n",
    "<p>Both side panels—right and left—can be displayed, hidden or resized by dragging\n",
    "the bar that separates them from the Scene.</p>\n",
    "\n",
    "<p><img src='https://bitbucket.org/osrf/gazebo_tutorials/raw/default/guided_b/files/ftu3-panels.png' width='800px'/></p>\n",
    "\n",
    "<h4>Left Panel</h4>\n",
    "\n",
    "<p>The left panel appears by default when you launch Gazebo. There are three tabs\n",
    "in the panel:</p>\n",
    "\n",
    "<ul>\n",
    "<li><p><strong>WORLD</strong>: The World tab displays the models that are currently in the\n",
    "scene, and allows you to view and modify model parameters, like their\n",
    "pose. You can also change the camera view angle by expanding the\n",
    "&quot;GUI&quot; option and tweaking the camera pose. </p></li>\n",
    "<li><p><strong>INSERT</strong>: The Insert tab is where you add new objects (models) to the\n",
    "simulation. To see the model list, you may need to click the arrow to expand the \n",
    "folder. Click (and release) on the model you want to insert, and click\n",
    "again in the Scene to add it. </p></li>\n",
    "<li><p><strong>LAYERS</strong>: The Layers tab organizes and displays the different\n",
    "visualization groups that are available in the simulation, if any. A layer\n",
    "may contain one or more models. Toggling a layer on or off will display\n",
    "or hide the models in that layer. This is an optional feature, so this tab will be empty in\n",
    "  most cases. To learn more about Layers, check out the \n",
    "  <a href=\"http://gazebosim.org/tutorials?tut=visual_layers&amp;cat=build_robot\">Visibility Layers</a> \n",
    "  tutorial. </p></li>\n",
    "</ul>\n",
    "\n",
    "<h4>Right Panel (hidden by default)</h4>\n",
    "\n",
    "<p>The right panel is hidden by default. Click and drag the bar to open it. The right panel can \n",
    "be used to interact with the mobile parts of a selected model (the joints). If there are no \n",
    "models selected in the Scene, the panel does not display any information.</p>\n",
    "\n",
    "<h3>The Toolbars</h3>\n",
    "\n",
    "<p>The Gazebo interface has two Toolbars. One is located just above the Scene, and\n",
    "the other is just below.</p>\n",
    "\n",
    "<h4>Upper Toolbar</h4>\n",
    "\n",
    "<p>The main Toolbar includes some of the most-used options for interacting with\n",
    "the simulator, such as buttons to: select, move, rotate, and scale objects;\n",
    "create simple shapes (e.g. cube, sphere, cylinder); and copy/paste. Go ahead and play \n",
    "around with each button to see how it behaves.</p>\n",
    "\n",
    "<p><img src='https://bitbucket.org/osrf/gazebo_tutorials/raw/default/guided_b/files/ftu3-top-toolbar.png' width='1200px'/></p>\n",
    "\n",
    "<p>Select mode: Navigate in the scene</p>\n",
    "\n",
    "<p>Translate mode: Select models you want to move</p>\n",
    "\n",
    "<p>Rotate mode: Select models you want to rotate </p>\n",
    "\n",
    "<p>Scale mode: Select models you want to scale</p>\n",
    "\n",
    "<p>Undo/Redo: Undo/redo actions in the scene</p>\n",
    "\n",
    "<p>Simple shapes: Insert simple shapes into the scene</p>\n",
    "\n",
    "<p>Lights: Add lights to the scene</p>\n",
    "\n",
    "<p>Copy/paste: Copy/paste models in the scene</p>\n",
    "\n",
    "<p>Align: Align models to one another</p>\n",
    "\n",
    "<p>Snap: Snap one model to another</p>\n",
    "\n",
    "<p>Change view: View the scene from various angles</p>\n",
    "\n",
    "<h4>Bottom Toolbar</h4>\n",
    "\n",
    "<p>The Bottom Toolbar displays information about the simulation, like the simulation time and its relation to real time. A simulation can be slower or faster than real time, depending on how much computation is required to run it. &quot;Simulation time&quot; refers to how quickly\n",
    "time is passing in the simulator when a simulation is running.  Simulation can\n",
    "be slower or faster than real time, depending on how much computation is\n",
    "required to run the simulation. </p>\n",
    "\n",
    "<p>&quot;Real time&quot; refers to the actual time that is passing in real life as the\n",
    "simulator runs. The ratio between the simulation time and real time is known as the &quot;real time factor;&qout; (RTF). The RTF is a measure of how fast or slow your simulation is running compared to real time.</p>\n",
    "\n",
    "<p>The state of the world in Gazebo is calculated once per iteration. You can\n",
    "see the number of iterations on the right side of the bottom toolbar. Each\n",
    "iteration advances simulation by a fixed number of seconds, called the step\n",
    "size. By default, the step size is 1 ms. You can press\n",
    "the pause button to pause the simulation and step through a few steps at\n",
    "a time using the step button.</p>\n",
    "\n",
    "<p><img src='https://bitbucket.org/osrf/gazebo_tutorials/raw/default/guided_b/files/ftu3-bottom-toolbar.png' width='1200px'/></p>\n",
    "\n",
    "<h3>The Menu</h3>\n",
    "\n",
    "<p>Like most applications, Gazebo has an application menu up top. Some of the menu\n",
    "options are duplicated in the Toolbars or as right-click context menu options\n",
    "in the Scene. Check out the various menus to familiarize yourself. </p>\n",
    "<img src='https://bitbucket.org/osrf/gazebo_tutorials/raw/default/guided_b/files/ftu3-menu-options.png' width='1200px'/>\n",
    "\n",
    "<p>NOTE: Some Linux desktops hide application menus. If you don&#39;t see the\n",
    "menus, move your cursor to the top of the application window, and the menus\n",
    "should appear. </p>\n",
    "\n",
    "<p><img src='https://bitbucket.org/osrf/gazebo_tutorials/raw/default/guided_b/files/ftu3-gazebo-menu.png' width='1200px'/></p>\n",
    "\n",
    "<h2>Mouse Controls</h2>\n",
    "\n",
    "<p>The mouse is very useful when navigating in the Scene. We highly recommend\n",
    "using a mouse with a scroll wheel.  Below are the basic mouse operations for\n",
    "navigating in the Scene and changing the view angle.</p>\n",
    "\n",
    "<p>Right-clicking on models will open a context menu with various options.\n",
    "Right-click on a model now to see what&#39;s available. </p>\n",
    "\n",
    "<p><img src='https://bitbucket.org/osrf/gazebo_tutorials/raw/default/guided_b/files/ftu3-mouse-controls.png' width='800px'/></p>\n",
    "\n",
    "<h2>Linking Gazebo and ROS</h2>\n",
    "\n",
    "<p>To achieve ROS integration with stand-alone Gazebo, a set of ROS packages named gazebo_ros_pkgs provides wrappers around the stand-alone Gazebo. They provide the necessary interfaces to simulate a robot in Gazebo using ROS messages and services</p>\n",
    "\n",
    "<img src=\"https://bitbucket.org/osrf/gazebo_tutorials/raw/default/ros_overview/figs/775px-Gazebo_ros_api.png\">\n",
    "<figcaption style=\"text-align:center\">Overview of Gazebo ROS packages</figcaption>\n",
    "\n",
    "<h2>TF Package</h2>\n",
    "\n",
    "<p>Before we can start simulating robots, we first need to introduce the concept of 'transfer frames'. A robot typically has several coordinate frames, which can for example be attached to its sensors. Data returned from these sensors is expressed in a local coordinate that moves with the sensor. In order to compare or combine data from multiple sensors, this data needs to be expressed in a central static coordinate frame. This frame is often called the 'base frame' and is usually attached to the center of the robot at ground level. Keeping track of coordinate frames can be quite tedious, therefore the 'tf' package was introduced in ROS. tf maintains the relationship between coordinate frames in a tree structure buffered in time, and lets the user transform points, vectors, etc between any two coordinate frames at any desired point in time. This tutorial will not go into much further detail. Additional information about tf can be found on the <a href=\"http://wiki.ros.org/tf/Tutorials/Introduction%20to%20tf\">tutorials page</a>. A robotic system typically has many 3D coordinate frames that change over time, such as a world frame, base frame, gripper frame, head frame, etc. tf keeps track of all these frames over time, and allows you to ask questions like:</p>\n",
    "<ul>\n",
    "<li>Where was the head frame relative to the world frame, 5 seconds ago?</li>\n",
    "<li>What is the pose of the object in my gripper relative to my base?</li>\n",
    "<li>What is the current pose of the base frame in the map frame?</li>\n",
    "</ul>\n",
    "\n",
    "<p>You can get started on the introduction to tf tutorial. For a complete list of all tf and tf-related <a href=\"http://wiki.ros.org/tf/Tutorials\">tutorials</a> check out the tutorials page.</p>\n",
    "\n",
    "\n",
    "<h2>Universal Robotic Description Format (URDF)</h2>\n",
    "<p>The Universal Robotic Description Format (URDF) is an XML file format used in ROS to describe all elements of a robot. To use a URDF file in Gazebo, some additional simulation-specific tags must be added to work properly with Gazebo. This tutorial explains the necessary steps to successfully use your URDF-based robot in Gazebo. Note that URDF file can used in Gazebo as well as in RViz for Visualization of the robot.</p>\n",
    "\n",
    "<h3>URDF Tags</h3>\n",
    "<p>Main tags we will use in writing our URDF are as follows:</p>\n",
    "<ul>\n",
    "<li><strong><a href=\"http://wiki.ros.org/urdf/XML/link\">link tag:</a></strong> Describes the kinematic and dynamic properties of a link.</li>\n",
    "<li><strong><a href=\"http://wiki.ros.org/urdf/XML/Transmission\">transmission tag:</a></strong> Transmissions link actuators to joints and represents their mechanical coupling</li>\n",
    "<li><strong><a href=\"http://wiki.ros.org/urdf/XML/joint\">joint tag:</a></strong> Describes the kinematic and dynamic properties of a joint.</li>\n",
    "<li><strong><a href=\"http://wiki.ros.org/urdf/XML/Gazebo\">gazebo tag:</a></strong> Describes simulation properties, such as damping, friction, etc</li>\n",
    "<li><strong><a href=\"http://wiki.ros.org/urdf/XML/sensor\">sensor tag:</a></strong> Describes a sensor, such as a camera, ray sensor, etc</li>\n",
    "</ul>\n",
    "\n",
    "<p>First we need to create our myrobot_description and myrobot_gazebo package in our catkin workspace folder.It's a good practice to create a seperate package for Robot URDF which allows easy integration with different multiple control packages.</p>"
   ]
  },
  {
   "cell_type": "code",
   "execution_count": null,
   "metadata": {},
   "outputs": [],
   "source": [
    "cd catkin_ws/src"
   ]
  },
  {
   "cell_type": "code",
   "execution_count": null,
   "metadata": {},
   "outputs": [],
   "source": [
    "catkin_create_pkg diff_wheeled_robot_description\n"
   ]
  },
  {
   "cell_type": "code",
   "execution_count": null,
   "metadata": {},
   "outputs": [],
   "source": [
    "catkin_create_pkg diff_wheeled_robot_gazebo\n"
   ]
  },
  {
   "cell_type": "markdown",
   "metadata": {},
   "source": [
    "<h3>Creating your Gazebo Launch File</h3>\n",
    "\n",
    "<p>Let us begin by creating the launch file in the right folder:</p>"
   ]
  },
  {
   "cell_type": "code",
   "execution_count": null,
   "metadata": {},
   "outputs": [],
   "source": [
    "roscd myrobot_gazebo \n"
   ]
  },
  {
   "cell_type": "code",
   "execution_count": null,
   "metadata": {},
   "outputs": [],
   "source": [
    "mkdir launch \n"
   ]
  },
  {
   "cell_type": "markdown",
   "metadata": {},
   "source": [
    "<p>Create a new file:</p>"
   ]
  },
  {
   "cell_type": "code",
   "execution_count": null,
   "metadata": {},
   "outputs": [],
   "source": [
    "gedit myrobot_gazebo.launch"
   ]
  },
  {
   "cell_type": "markdown",
   "metadata": {},
   "source": [
    "We will include an empty world launch file from gazebo_ros package which will launch gazebo with nothing inside. "
   ]
  },
  {
   "cell_type": "code",
   "execution_count": null,
   "metadata": {},
   "outputs": [],
   "source": [
    "<launch>\n",
    "  <include file=\"$(find gazebo_ros)/launch/empty_world.launch\">\n",
    "  </include>\n",
    "</launch>"
   ]
  },
  {
   "cell_type": "markdown",
   "metadata": {},
   "source": [
    "<p>Open a new terminal and launch the file.</p>"
   ]
  },
  {
   "cell_type": "code",
   "execution_count": null,
   "metadata": {},
   "outputs": [],
   "source": [
    "roslaunch myrobot_gazebo myrobot_gazebo.launch"
   ]
  },
  {
   "cell_type": "markdown",
   "metadata": {},
   "source": [
    "<p>Now you should see the gazebo server and the gui starting with an empty world that contains a ground plane and a sun (which is not obviously visible without objects).</p>"
   ]
  },
  {
   "cell_type": "markdown",
   "metadata": {},
   "source": [
    "<h3>Creating your own Robot Model</h3>\n",
    "\n",
    "<p>The next step is to create a robot description file in the description package.</p>"
   ]
  },
  {
   "cell_type": "code",
   "execution_count": null,
   "metadata": {},
   "outputs": [],
   "source": [
    "roscd myrobot_description"
   ]
  },
  {
   "cell_type": "code",
   "execution_count": null,
   "metadata": {},
   "outputs": [],
   "source": [
    "mkdir urdf"
   ]
  },
  {
   "cell_type": "code",
   "execution_count": null,
   "metadata": {},
   "outputs": [],
   "source": [
    "cd urdf"
   ]
  },
  {
   "cell_type": "code",
   "execution_count": null,
   "metadata": {},
   "outputs": [],
   "source": [
    "gedit myrobot.urdf"
   ]
  },
  {
   "cell_type": "markdown",
   "metadata": {},
   "source": [
    "<p>First, we’re just going to explore one simple shape.</p>"
   ]
  },
  {
   "cell_type": "code",
   "execution_count": null,
   "metadata": {},
   "outputs": [],
   "source": [
    "<?xml version=\"1.0\"?>\n",
    "<robot name=\"mybot\">\n",
    "        <!-- Put here the robot description -->\n",
    "</robot>"
   ]
  },
  {
   "cell_type": "markdown",
   "metadata": {},
   "source": [
    "<p>The above structure is basic for a urdf file. The complete description (links, joints, transmission…) have to be within the robot tag.</p>"
   ]
  },
  {
   "cell_type": "code",
   "execution_count": null,
   "metadata": {},
   "outputs": [],
   "source": [
    "  <!-- BASE-LINK -->\n",
    "  <!--Actual body/chassis of the robot-->\n",
    "  <link name=\"base_link\">\n",
    "    <inertial>\n",
    "      <mass value=\"1\" />\n",
    "      <origin xyz=\"0 0 0\" />\n",
    "         <inertia ixx=\"0.001\" ixy=\"0.0\" ixz=\"0.0\"\n",
    "                 iyy=\"0.001\" iyz=\"0.0\" \n",
    "                 izz=\"0.001\" />\n",
    "\n",
    "    </inertial>    \n",
    "    <visual>\n",
    "      <origin xyz=\"0 0 0\" rpy=\"0 0 0\" />\n",
    "      <geometry>\n",
    "\n",
    "\n",
    "          <cylinder length=\"0.25\" radius=\"0.1\" />\n",
    "\n",
    "\n",
    "      </geometry>\n",
    "\n",
    "    </visual>  \n",
    "    <collision>\n",
    "      <origin xyz=\"0 0 0\" rpy=\"0 0 0 \" />\n",
    "      <geometry>\n",
    "\n",
    "          <cylinder length=\"0.25\" radius=\"0.1\" />\n",
    "\n",
    "      </geometry>\n",
    "    </collision>     \n",
    "  </link>"
   ]
  },
  {
   "cell_type": "markdown",
   "metadata": {},
   "source": [
    "<p>The physic engine does not accept a base_link with inertia. It is then useful to add a simple link without inertia and make a joint between it and the chassis. Add this before the base_link in the diff_wheeled_robot.xacro file:</p>"
   ]
  },
  {
   "cell_type": "code",
   "execution_count": null,
   "metadata": {},
   "outputs": [],
   "source": [
    " <!-- BASE-FOOTPRINT -->\n",
    "  <!-- base_footprint is a fictitious link(frame) that is on the ground right below base_link origin -->\n",
    "  <link name=\"base_footprint\">\n",
    "    <inertial>\n",
    "      <mass value=\"0.0001\" />\n",
    "      <origin xyz=\"0 0 0\" />\n",
    "      <inertia ixx=\"0.0001\" ixy=\"0.0\" ixz=\"0.0\"\n",
    "          iyy=\"0.0001\" iyz=\"0.0\" \n",
    "          izz=\"0.0001\" />\n",
    "    </inertial>\n",
    "    <visual>\n",
    "        <origin xyz=\"0 0 0\" rpy=\"0 0 0\" />\n",
    "        <geometry>\n",
    "            <box size=\"0.001 0.001 0.001\" />\n",
    "        </geometry>\n",
    "    </visual>\n",
    "  </link>\n",
    "\n",
    "  <joint name=\"base_footprint_joint\" type=\"fixed\">\n",
    "    <origin xyz=\"0 0 0\" rpy=\"0 0 0\" />\n",
    "    <parent link=\"base_footprint\"/>\n",
    "    <child link=\"base_link\" />\n",
    "  </joint>\n",
    "  \n",
    "  "
   ]
  },
  {
   "cell_type": "markdown",
   "metadata": {},
   "source": [
    "<ul>\n",
    "    \n",
    "<li>inertial tag (optional): The inertial properties of the link.</li>\n",
    "<ul>\n",
    "<li>origin tag (optional: defaults to identity if not specified): This is the pose of the inertial reference frame, relative to the link reference frame. The origin of the inertial reference frame needs to be at the center of gravity. The axes of the inertial reference frame do not need to be aligned with the principal axes of the inertia.</li>\n",
    "\n",
    "<li>xyz tag (optional: defaults to zero vector): Represents the x,y,z offset.</li>\n",
    "\n",
    "<li>rpy (optional: defaults to identity if not specified): Represents the fixed axis roll, pitch and yaw angles in radians.</li>\n",
    "<li>mass tag: The mass of the link is represented by the value attribute of this element.</li>\n",
    "<li>inertia tag: The 3x3 rotational inertia matrix, represented in the inertia frame. Because the rotational inertia matrix is symmetric, only 6 above-diagonal elements of this matrix are specified here, using the attributes ixx, ixy, ixz, iyy, iyz, izz,</li>\n",
    "</ul>\n",
    "</ul>"
   ]
  },
  {
   "cell_type": "markdown",
   "metadata": {},
   "source": [
    "<ul>\n",
    "\n",
    "<li>visual tag (optional): The visual properties of the link. This element specifies the shape of the object (box, cylinder, etc.) for visualization purposes. Note: multiple instances of visual tags can exist for the same link. The union of the geometry they define forms the visual representation of the link.</li>\n",
    "<ul>\n",
    "<li>name tag (optional): Specifies a name for a part of a link's geometry. This is useful to be able to refer to specific bits of the geometry of a link.</li>\n",
    "<li>origin tag (optional: defaults to identity if not specified): The reference frame of the visual element with respect to the reference frame of the link.</li>\n",
    "<li>xyz tag (optional: defaults to zero vector): Represents the x,y,z offset.</li>\n",
    "\n",
    "<li>rpy tag (optional: defaults to identity if not specified): Represents the fixed axis roll, pitch and yaw angles in radians.</li>\n",
    "<li>geometry tag (required): The shape of the visual object. This can be one of the following:\n",
    "    <ul>\n",
    "        <li>box: size attribute contains the three side lengths of the box. The origin of the box is in its center.</li>\n",
    "        <li>cylinder: Specify the radius and length. The origin of the cylinder is in its center. cylinder_coordinates.png</li>\n",
    "        <li>sphere: Specify the radius. The origin of the sphere is in its center.</li>\n",
    "    </ul>\n",
    "\n",
    "</ul>\n",
    "<li>collision tag(optional): The collision properties of a link. Note that this can be different from the visual properties of a link, for example, simpler collision models are often used to reduce computation time. Note: multiple instances of collision tags can exist for the same link. The union of the geometry they define forms the collision representation of the link.</li>\n",
    "<ul>\n",
    "<li>origin tag (optional: defaults to identity if not specified): The reference frame of the collision element, relative to the reference frame of the link.</li>\n",
    "</ul>\n",
    "</ul>"
   ]
  },
  {
   "cell_type": "markdown",
   "metadata": {},
   "source": [
    "<p>\n",
    "   The joint element has following elements: \n",
    "<ul>\n",
    "<li> origin tag (optional: defaults to identity if not specified): This is the transform from the parent link to the child link. The joint is located at the origin of the child link, as shown in the figure above.</li>\n",
    "<ul>\n",
    "<li>xyz (optional: defaults to zero vector): Represents the x,y,z offset.</li>\n",
    "\n",
    "<li>rpy (optional: defaults 'to zero vector 'if not specified): Represents the rotation around fixed axis: first roll around x, then pitch around y and finally yaw around z. All angles are specified in radians.</li></ul>\n",
    "<li>parent tag (required): Parent link name with mandatory attribute: \n",
    "    <ul>\n",
    "<li>link:The name of the link that is the parent of this link in the robot tree structure.</li></ul>\n",
    "\n",
    "<li> child tag (required): Child link name with mandatory attribute:\n",
    "<ul>\n",
    "    <li>link: The name of the link that is the child link.</li>\n",
    "    </ul>\n",
    "    </ul></p>"
   ]
  },
  {
   "cell_type": "code",
   "execution_count": null,
   "metadata": {},
   "outputs": [],
   "source": [
    "<!-- ARM-LINK -->\n",
    "  <link name=\"arm\">\n",
    "    <inertial>\n",
    "      <mass value=\"1\" />\n",
    "      <origin xyz=\"0 0 0\" />\n",
    "         <inertia ixx=\"0.001\" ixy=\"0.0\" ixz=\"0.0\"\n",
    "                 iyy=\"0.001\" iyz=\"0.0\" \n",
    "                 izz=\"0.001\" />\n",
    "\n",
    "    </inertial>    \n",
    "    <visual>\n",
    "      <origin xyz=\"0 0 0\" rpy=\"0 0 0\" />\n",
    "      <geometry>\n",
    "         <cylinder length=\"0.25\" radius=\"0.01\" />\n",
    "      </geometry>\n",
    "\n",
    "    </visual>  \n",
    "    <collision>\n",
    "      <origin xyz=\"0 0 0\" rpy=\"0 0 0 \" />\n",
    "      <geometry>\n",
    "          <cylinder length=\"0.15\" radius=\"0.01\" />\n",
    "      </geometry>\n",
    "    </collision>     \n",
    "  </link>  \n",
    "  \n",
    "  <joint name=\"arm_joint\" type=\"fixed\">\n",
    "    <origin xyz=\"0 0 0.25\" rpy=\"0 0 0\" />\n",
    "    <parent link=\"base_link\"/>\n",
    "    <child link=\"arm\" />\n",
    "  </joint>"
   ]
  },
  {
   "cell_type": "markdown",
   "metadata": {},
   "source": [
    "<p>Now we need to add our robot model in the launch file we created earlier to spawn the model. Add the lines below to the file: 'myrobot_gazebo.launch'</p>\n"
   ]
  },
  {
   "cell_type": "code",
   "execution_count": null,
   "metadata": {},
   "outputs": [],
   "source": [
    "<!-- urdf xml robot description loaded on the Parameter Server-->\n",
    "  <param name=\"robot_description\" command=\"$(find xacro)/xacro.py '$(find diff_wheeled_robot_description)/urdf/diff_wheeled_robot.xacro'\" /> \n",
    "\n",
    "\n",
    "  <!-- Run a python script to the send a service call to gazebo_ros to spawn a URDF robot -->\n",
    "  <node name=\"urdf_spawner\" pkg=\"gazebo_ros\" type=\"spawn_model\" respawn=\"false\" output=\"screen\"\n",
    "\targs=\"-urdf -model diff_wheeled_robot -param robot_description\"/> "
   ]
  },
  {
   "cell_type": "markdown",
   "metadata": {},
   "source": [
    "<p>The first tag will call the xacro to convert the xacro description into a actual URDF.</p>\n",
    "\n",
    "<p>The second tag launches a program from the gazebo_ros package that will load the URDF from the parameter “robot_description” and spawn the model into our Gazebo simulator</p>\n",
    "\n",
    "<p>If you launch your project with this launch file, the gazebo client opens and the the chassis should be there. It should also fall because of the physics engine.</p>"
   ]
  },
  {
   "cell_type": "markdown",
   "metadata": {},
   "source": [
    "<p>Lets visualize our simple urdf model. Run the command below to visualize.</p>"
   ]
  },
  {
   "cell_type": "code",
   "execution_count": null,
   "metadata": {},
   "outputs": [],
   "source": [
    "roslaunch myrobot_gazebo myrobot_gazebo.launch "
   ]
  },
  {
   "cell_type": "markdown",
   "metadata": {},
   "source": [
    "<h2>Simulating a differential drive mobile robot in Gazebo and ROS</h2>\n",
    "<p>In this section you are going to learn:</p>\n",
    "\n",
    "\n",
    "<ul>\n",
    "    <li>How to build a simple differential drive simulation in Gazebo simulator</li>\n",
    "    <li>How to add a plugin to the model to allow ROS commands to the robot</li>\n",
    "    <li>How to move the robot through ROS topics</li>\n",
    "</ul>    \n",
    "\n",
    "<p>A differential wheeled robot is a mobile robot whose movement is based on two separately driven wheels placed on either side of the robot body. It can thus change its direction by varying the relative rate of rotation of its wheels and hence does not require an additional steering motion.</p>\n",
    "<p><img src='http://42bots.com/wp-content/uploads/2014/01/Differential-Steering-Tutorials-42bots2.png' width='600px'/></p>\n"
   ]
  },
  {
   "cell_type": "markdown",
   "metadata": {},
   "source": [
    "<p>We will use the robot model already built for the simulation. Please see the appendix at the end of the notebook for the details of how to build the robot.</p>\n",
    "<img src=\"robot.png\">\n",
    "<figcaption style=\"text-align:center\">Differential Drive Robot</figcaption>"
   ]
  },
  {
   "cell_type": "markdown",
   "metadata": {},
   "source": [
    "<h2>Connect your Robot to ROS</h2>\n",
    "\n",
    "<p>In order to add this connection we need to add gazebeo plugins to our model. There are different kinds of plugins:</p>\n",
    "\n",
    "<ul>\n",
    "    <li>World: Dynamic changes to the world, e.g. Physics, like illumination or gravity, inserting models</li>\n",
    "    <li>Model: Manipulation of models (robots), e.g. move the robots</li>\n",
    "    <li>Sensor: Feedback from virtual sensor, like camera, laser scanner</li>\n",
    "    <li>System: Plugins that are loaded by the GUI, like saving images</li>\n",
    "    </ul>\n",
    "<p>First of all a controller plugin is for differential drive robot. The transmission tags will be used by this plugin to define how to link the joints to controllers. To activate the plugin, the following lines are added just before closing robot tag. You can view it in the differential drive robot urdf.</p>\n"
   ]
  },
  {
   "cell_type": "markdown",
   "metadata": {},
   "source": [
    "<p>With this plugin, we will be able to control the robot.</p>"
   ]
  },
  {
   "cell_type": "code",
   "execution_count": null,
   "metadata": {},
   "outputs": [],
   "source": [
    "<!-- Differential drive controller  -->\n",
    "  <gazebo>\n",
    "    <plugin name=\"differential_drive_controller\" filename=\"libgazebo_ros_diff_drive.so\">\n",
    "\n",
    "      <rosDebugLevel>Debug</rosDebugLevel>\n",
    "      <publishWheelTF>false</publishWheelTF>\n",
    "      <robotNamespace>/</robotNamespace>\n",
    "      <publishTf>1</publishTf>\n",
    "      <publishWheelJointState>false</publishWheelJointState>\n",
    "      <alwaysOn>true</alwaysOn>\n",
    "      <updateRate>100.0</updateRate>\n",
    "      <leftJoint>front_left_wheel_joint</leftJoint>\n",
    "      <rightJoint>front_right_wheel_joint</rightJoint>\n",
    "      <wheelSeparation>${2*base_radius}</wheelSeparation>\n",
    "      <wheelDiameter>${2*wheel_radius}</wheelDiameter>\n",
    "      <broadcastTF>1</broadcastTF>\n",
    "      <wheelTorque>30</wheelTorque>\n",
    "      <wheelAcceleration>1.8</wheelAcceleration>\n",
    "      <commandTopic>cmd_vel</commandTopic>\n",
    "      <odometryFrame>odom</odometryFrame> \n",
    "      <odometryTopic>odom</odometryTopic> \n",
    "      <robotBaseFrame>base_footprint</robotBaseFrame>\n",
    "\n",
    "\n",
    "    </plugin>\n",
    "  </gazebo> "
   ]
  },
  {
   "cell_type": "markdown",
   "metadata": {},
   "source": [
    "<p>Now launch your simulations. In a separate terminal, if you do a “rostopic list” you should see the topics being published by gazebo which includes command topics and feedback from the wheel encoders being published on odom topic.</p>"
   ]
  },
  {
   "cell_type": "code",
   "execution_count": null,
   "metadata": {},
   "outputs": [],
   "source": [
    "roslaunch diff_wheeled_robot_gazebo diff_wheeled_gazebo.launch"
   ]
  },
  {
   "cell_type": "markdown",
   "metadata": {},
   "source": [
    "<p>Now lets publish a small command to the robot to move.</p>"
   ]
  },
  {
   "cell_type": "code",
   "execution_count": null,
   "metadata": {},
   "outputs": [],
   "source": [
    "rostopic pub -1 /cmd_vel geometry_msgs/Twist \"linear:\n",
    "  x: 0.1\n",
    "  y: 0.0\n",
    "  z: 0.0\n",
    "angular:\n",
    "  x: 0.0\n",
    "  y: 0.0\n",
    "  z: 0.0\" \n",
    "\n"
   ]
  },
  {
   "cell_type": "markdown",
   "metadata": {},
   "source": [
    "<p>The robot should start moving. Congratulations, you can now control your robot through ROS while simulating in Gazebo ! You can also monitor the robot pose by doing:</p>"
   ]
  },
  {
   "cell_type": "code",
   "execution_count": null,
   "metadata": {},
   "outputs": [],
   "source": [
    "rostopic echo /odom"
   ]
  },
  {
   "cell_type": "markdown",
   "metadata": {},
   "source": [
    "<h2>Let's Add a Sensor</h2>\n",
    "\n",
    "<p>To enable our robot to detect obstacles, a range sensor is included.</p>"
   ]
  },
  {
   "cell_type": "code",
   "execution_count": null,
   "metadata": {},
   "outputs": [],
   "source": [
    "roscd diff_wheeled_robot_description/urdf/"
   ]
  },
  {
   "cell_type": "code",
   "execution_count": null,
   "metadata": {},
   "outputs": [],
   "source": [
    "gedit sonar_model.xacro"
   ]
  },
  {
   "cell_type": "markdown",
   "metadata": {},
   "source": [
    "<p>We create a small box for sonar sensor. All the parameters ($ { }) will be passed to this file.</p>"
   ]
  },
  {
   "cell_type": "code",
   "execution_count": null,
   "metadata": {},
   "outputs": [],
   "source": [
    "<?xml version=\"1.0\"?>\n",
    "\n",
    "<robot xmlns:xacro=\"http://www.ros.org/wiki/xacro\">\n",
    "  <xacro:macro name=\"sonar_sensor\" params=\"name parent *origin ros_topic update_rate min_range max_range field_of_view ray_count\">\n",
    "    <joint name=\"${name}_joint\" type=\"fixed\">\n",
    "      <xacro:insert_block name=\"origin\" />\n",
    "      <parent link=\"${parent}\"/>\n",
    "      <child link=\"${name}_link\"/>\n",
    "    </joint>\n",
    "\n",
    "    <link name=\"${name}_link\">\n",
    "      <inertial>\n",
    "        <mass value=\"0.001\" />\n",
    "        <origin xyz=\"0 0 0\" rpy=\"0 0 0\" />\n",
    "        <inertia ixx=\"0.000000017\" ixy=\"0\" ixz=\"0\" iyy=\"0.000000017\" iyz=\"0\" izz=\"0.000000017\" />\n",
    "      </inertial>\n",
    "      <visual>\n",
    "        <origin xyz=\"0 0 0\" rpy=\"0 0 0\" />\n",
    "        <geometry>\n",
    "          <box size=\"0.01 0.01 0.01\" /> \n",
    "        </geometry>\n",
    "      </visual>\n",
    "      <collision>\n",
    "        <origin xyz=\"0 0 0\" rpy=\"0 0 0\" />\n",
    "        <geometry>\n",
    "          <box size=\"0.01 0.01 0.01\" />\n",
    "        </geometry>\n",
    "      </collision>\n",
    "    </link>\n",
    "\n",
    "    <gazebo reference=\"${name}_link\">\n",
    "      <sensor type=\"ray\" name=\"${name}\">\n",
    "        <always_on>true</always_on>\n",
    "        <update_rate>${update_rate}</update_rate>\n",
    "        <pose>0 0 0 0 0 0</pose>\n",
    "        <visualize>false</visualize>\n",
    "        <ray>\n",
    "          <scan>\n",
    "            <horizontal>\n",
    "              <samples>${ray_count}</samples>\n",
    "              <resolution>1</resolution>\n",
    "              <min_angle>-${field_of_view/2}</min_angle>\n",
    "              <max_angle> ${field_of_view/2}</max_angle>\n",
    "            </horizontal>\n",
    "            <vertical>\n",
    "              <samples>${ray_count}</samples>\n",
    "              <resolution>1</resolution>\n",
    "              <min_angle>-${field_of_view/2}</min_angle>\n",
    "              <max_angle> ${field_of_view/2}</max_angle>\n",
    "            </vertical>\n",
    "          </scan>\n",
    "          <range>\n",
    "            <min>${min_range}</min>\n",
    "            <max>${max_range}</max>\n",
    "            <resolution>0.01</resolution>\n",
    "          </range>\n",
    "        </ray>\n",
    "\n",
    "        <plugin name=\"gazebo_ros_${name}_controller\" filename=\"libhector_gazebo_ros_sonar.so\">\n",
    "          <gaussianNoise>0.005</gaussianNoise>\n",
    "          <topicName>${ros_topic}</topicName>\n",
    "          <frameId>${name}_link</frameId>\n",
    "        </plugin>\n",
    "      </sensor>\n",
    "    </gazebo>\n",
    "  </xacro:macro>\n",
    "</robot>"
   ]
  },
  {
   "cell_type": "markdown",
   "metadata": {},
   "source": [
    "<p>Plugin tag refers to the plugins of Gazebo used to generate sensory feedback from the environment. We will use hector gazebo plugins for simulating sonar sensor. If you dont have, you can install using the command</p>"
   ]
  },
  {
   "cell_type": "code",
   "execution_count": null,
   "metadata": {},
   "outputs": [],
   "source": [
    "sudo apt-get install ros-kinetic-hector-gazebo-plugins"
   ]
  },
  {
   "cell_type": "markdown",
   "metadata": {},
   "source": [
    "<p>This macro is added to robot xacro which is diff_wheeled_robot.xacro</p>"
   ]
  },
  {
   "cell_type": "code",
   "execution_count": null,
   "metadata": {},
   "outputs": [],
   "source": [
    "  <xacro:include filename=\"$(find diff_wheeled_robot_description)/urdf/sonar_model.xacro\"/>"
   ]
  },
  {
   "cell_type": "code",
   "execution_count": null,
   "metadata": {},
   "outputs": [],
   "source": [
    "  <!-- SENSORS -->\n",
    "  <sonar_sensor parent=\"base_link\" name=\"differential_wheeled_robot\" ros_topic=\"/distance\" update_rate=\"10\" min_range=\"0.2\" max_range=\"1\" field_of_view=\"25\" ray_count=\"2\" >\n",
    "    <origin xyz=\"0.05 0 0.01\" rpy=\"0 0 0\" />\n",
    "  </sonar_sensor>"
   ]
  },
  {
   "cell_type": "markdown",
   "metadata": {},
   "source": [
    "<p>Now let's launch our robot to visualize the sensor</p>"
   ]
  },
  {
   "cell_type": "code",
   "execution_count": null,
   "metadata": {},
   "outputs": [],
   "source": [
    "roslaunch diff_wheeled_robot_gazebo diff_wheeled_gazebo.launch"
   ]
  },
  {
   "cell_type": "markdown",
   "metadata": {},
   "source": [
    "<h2>Autonomous Operation of Simulated Differential Wheeled Robot</h2>\n",
    "\n",
    "<p>Now we have a differential wheeled robot we can control and we also have sensory feedback from sensor. Let's make our robot operate autonomously. We will write a script in python which will subscribe to the sensor data and decide if it should move or not. The robot will keep moving forward until it detects an object infront.</p>\n"
   ]
  },
  {
   "cell_type": "code",
   "execution_count": null,
   "metadata": {},
   "outputs": [],
   "source": [
    "#!/usr/bin/env python\n",
    "import rospy\n",
    "from geometry_msgs.msg import Twist\n",
    "from sensor_msgs.msg import Range\n",
    "\n",
    "distance=0\n",
    "vel_msg = Twist()\n",
    "vel_msg.linear.x = 0\n",
    "vel_msg.linear.y = 0\n",
    "vel_msg.linear.z = 0\n",
    "vel_msg.angular.x = 0\n",
    "vel_msg.angular.y = 0\n",
    "vel_msg.angular.z = 0\n",
    "\n",
    "def callback(data):\n",
    "    distance=data.range\n",
    "    rospy.loginfo(rospy.get_caller_id() + \"I heard %f\", data.range)\n",
    "    if(distance>0.8):\n",
    "       \tvel_msg.linear.x = 0.1\n",
    "    else:\n",
    "       \tvel_msg.linear.x = 0\n",
    "\n",
    "    #Publish the velocity\n",
    "    velocity_publisher.publish(vel_msg)\n",
    "        \n",
    "if __name__ == '__main__':\n",
    "\n",
    "    # Starts a new node\n",
    "    rospy.init_node('object_detection', anonymous=True)\n",
    "    rospy.Subscriber(\"distance\", Range, callback)\n",
    "    velocity_publisher = rospy.Publisher('/cmd_vel', Twist, queue_size=10)\n",
    "    \n",
    "    rospy.spin()\n"
   ]
  },
  {
   "cell_type": "markdown",
   "metadata": {},
   "source": [
    "<p> Here we wrote a simple publisher and subscriber application in python. Basically, we are subscribing to the \"distance\" topic which is being published by the sonar sensor generating proximity feedback. Once we get the range data, simple if else condition decides if the robot should move or not. These velocity commands are then being published to \"cmd_vel\" topic.</p>"
   ]
  },
  {
   "cell_type": "markdown",
   "metadata": {},
   "source": [
    "<p>Let's try our first autonomous robot. Go ahead and launch the gazebo file and your python node.</p>"
   ]
  },
  {
   "cell_type": "code",
   "execution_count": null,
   "metadata": {},
   "outputs": [],
   "source": [
    "roslaunch diff_wheeled_robot_gazebo diff_wheeled_gazebo.launch"
   ]
  },
  {
   "cell_type": "code",
   "execution_count": null,
   "metadata": {},
   "outputs": [],
   "source": [
    "rosrun diff_wheeled_robot_gazebo object_detection.py"
   ]
  },
  {
   "cell_type": "markdown",
   "metadata": {},
   "source": [
    "<h2>Appendix</h2>"
   ]
  },
  {
   "cell_type": "markdown",
   "metadata": {},
   "source": [
    "<p>The xmlns:xacro=\"http://www.ros.org/wiki/xacro\" in diff_wheeld_robot.xacro specifies that the file will use xacro which we will use to add range sensor. If you want to use xacro you have to put this. With xacro, you can define parameters. This make the file clearer. They are usually put at the beginning of the file (within the robot tag, of course). We will not use xacro for now, but you can find more details about xacro <a href:\"http://wiki.ros.org/urdf/Tutorials/Using%20Xacro%20to%20Clean%20Up%20a%20URDF%20File\">here</a>.</p>\n",
    "\n",
    "<p>Physical properties for the robot are defined, mainly the dimensions of the chassis, the caster wheel, the wheels and the range sensor:</p>"
   ]
  },
  {
   "cell_type": "code",
   "execution_count": null,
   "metadata": {},
   "outputs": [],
   "source": [
    "\n",
    "  \n",
    "<!-- PROPERTY LIST -->\n",
    "  <!--All units in m-kg-s-radians unit system -->\n",
    "  <property name=\"M_PI\" value=\"3.1415926535897931\" />\n",
    "  <property name=\"M_PI_2\" value=\"1.570796327\" />\n",
    "  <property name=\"DEG_TO_RAD\" value=\"0.017453293\" />\n",
    "\n",
    "  <!-- Main body radius and height -->\n",
    "  <!-- Main Body Cylinder base   -->\n",
    "  <property name=\"base_height\" value=\"0.02\" /> \n",
    "  <property name=\"base_radius\" value=\"0.15\" /> \n",
    "  <property name=\"base_mass\" value=\"5\" /> <!-- in kg-->\n",
    "\n",
    "\n",
    "\n",
    "  <!-- caster wheel radius and height -->\n",
    "  <!-- caster wheel mass -->\n",
    "  <property name=\"caster_f_height\" value=\"0.04\" /> \n",
    "  <property name=\"caster_f_radius\" value=\"0.025\" /> \n",
    "  <property name=\"caster_f_mass\" value=\"0.5\" /> <!-- in kg-->\n",
    "\n",
    "\n",
    "\n",
    "  <!-- caster wheel radius and height -->\n",
    "  <!-- caster wheel mass -->\n",
    "  <property name=\"caster_b_height\" value=\"0.04\" /> \n",
    "  <property name=\"caster_b_radius\" value=\"0.025\" /> \n",
    "  <property name=\"caster_b_mass\" value=\"0.5\" /> <!-- in kg-->\n"
   ]
  },
  {
   "cell_type": "markdown",
   "metadata": {},
   "source": [
    "<p>Every file must contain the robot tag and everything we put in them should be in this tag.</p>\n",
    "\n",
    "<p>Now a circular base for the robot is defined. Insert this within the robot tag of diff_wheeled_robot_description.xacro:</p>"
   ]
  },
  {
   "cell_type": "code",
   "execution_count": null,
   "metadata": {},
   "outputs": [],
   "source": [
    "<!-- BASE-LINK -->\n",
    "  <!--Actual body/chassis of the robot-->\n",
    "  <link name=\"base_link\">\n",
    "    <inertial>\n",
    "      <mass value=\"${base_mass}\" />\n",
    "      <origin xyz=\"0 0 0\" />\n",
    "      <!--The 3x3 rotational inertia matrix. -->\n",
    "        <cylinder_inertia  m=\"${base_mass}\" r=\"${base_radius}\" h=\"${base_height}\" />\n",
    "\n",
    "    </inertial>    "
   ]
  },
  {
   "cell_type": "markdown",
   "metadata": {},
   "source": [
    "<ul>\n",
    "    \n",
    "<li>inertial tag (optional): The inertial properties of the link.</li>\n",
    "<li>origin tag (optional: defaults to identity if not specified): This is the pose of the inertial reference frame, relative to the link reference frame. The origin of the inertial reference frame needs to be at the center of gravity. The axes of the inertial reference frame do not need to be aligned with the principal axes of the inertia.</li>\n",
    "\n",
    "<li>xyz tag (optional: defaults to zero vector): Represents the x,y,z offset.</li>\n",
    "\n",
    "<li>rpy (optional: defaults to identity if not specified): Represents the fixed axis roll, pitch and yaw angles in radians.</li>\n",
    "<li>mass tag: The mass of the link is represented by the value attribute of this element.</li>\n",
    "<li>inertia tag: The 3x3 rotational inertia matrix, represented in the inertia frame. Because the rotational inertia matrix is symmetric, only 6 above-diagonal elements of this matrix are specified here, using the attributes ixx, ixy, ixz, iyy, iyz, izz,</li>\n",
    "</ul>"
   ]
  },
  {
   "cell_type": "code",
   "execution_count": null,
   "metadata": {},
   "outputs": [],
   "source": [
    "    <visual>\n",
    "      <origin xyz=\"0 0 0\" rpy=\"0 0 0\" />\n",
    "      <geometry>\n",
    "\n",
    "\n",
    "          <cylinder length=\"${base_height}\" radius=\"${base_radius}\" />\n",
    "\n",
    "\n",
    "      </geometry>\n",
    "    </visual>  \n",
    "    <collision>\n",
    "      <origin xyz=\"0 0 0\" rpy=\"0 0 0 \" />\n",
    "      <geometry>\n",
    "\n",
    "          <cylinder length=\"${base_height}\" radius=\"${base_radius}\" />\n",
    "\n",
    "      </geometry>\n",
    "    </collision>     \n",
    "  </link>\n",
    "  <gazebo reference=\"base_link\">\n",
    "    <turnGravityOff>false</turnGravityOff>\n",
    "  </gazebo>"
   ]
  },
  {
   "cell_type": "markdown",
   "metadata": {},
   "source": [
    "<ul>\n",
    "\n",
    "<li>visual tag (optional): The visual properties of the link. This element specifies the shape of the object (box, cylinder, etc.) for visualization purposes. Note: multiple instances of visual tags can exist for the same link. The union of the geometry they define forms the visual representation of the link.</li>\n",
    "\n",
    "<li>name tag (optional): Specifies a name for a part of a link's geometry. This is useful to be able to refer to specific bits of the geometry of a link.</li>\n",
    "<li>origin tag (optional: defaults to identity if not specified): The reference frame of the visual element with respect to the reference frame of the link.</li>\n",
    "<li>xyz tag (optional: defaults to zero vector): Represents the x,y,z offset.</li>\n",
    "\n",
    "<li>rpy tag (optional: defaults to identity if not specified): Represents the fixed axis roll, pitch and yaw angles in radians.</li>\n",
    "<li>geometry tag (required): The shape of the visual object. This can be one of the following:\n",
    "    <ul>\n",
    "        <li>box: size attribute contains the three side lengths of the box. The origin of the box is in its center.</li>\n",
    "        <li>cylinder: Specify the radius and length. The origin of the cylinder is in its center. cylinder_coordinates.png</li>\n",
    "        <li>sphere: Specify the radius. The origin of the sphere is in its center.</li>\n",
    "    </ul>\n",
    "\n",
    "\n",
    "<li>collision tag(optional): The collision properties of a link. Note that this can be different from the visual properties of a link, for example, simpler collision models are often used to reduce computation time. Note: multiple instances of collision tags can exist for the same link. The union of the geometry they define forms the collision representation of the link.</li>\n",
    "\n",
    "<li>origin tag (optional: defaults to identity if not specified): The reference frame of the collision element, relative to the reference frame of the link.</li>\n",
    "\n",
    "<li>gazebo tag: Define the properties you want Gazebo physics engine to use.As they don’t need to be that complicated for collision detection you could use a simple model for the collision. The material element in the visual tag refer to a color that must be defined </li>\n",
    "</ul>"
   ]
  },
  {
   "cell_type": "markdown",
   "metadata": {},
   "source": [
    "<p>We define a cylinder with Length x radius x meters and mass chassisMasskg.</p>\n",
    "\n",
    "<p>As you can see, we have three tags for this one box, where one is used to the collision detection engine, one to the visual rendering engine and the last to the physic engine. Most of the time they are the same, except when you have complicated and beautiful visual meshes.</p>\n",
    "\n"
   ]
  },
  {
   "cell_type": "markdown",
   "metadata": {},
   "source": [
    "<p>Once again, we add more than we needed. We will use the others later. The inertia tag is a convention of the inertial tag in a link.</p>\n",
    "\n",
    "<p>The physic engine does not accept a base_link with inertia. It is then useful to add a simple link without inertia and make a joint between it and the chassis. Add this before the base_link in the diff_wheeled_robot.xacro file:</p>"
   ]
  },
  {
   "cell_type": "code",
   "execution_count": null,
   "metadata": {},
   "outputs": [],
   "source": [
    "<!-- BASE-FOOTPRINT -->\n",
    "  <!-- base_footprint is a fictitious link(frame) that is on the ground right below base_link origin -->\n",
    "  <link name=\"base_footprint\">\n",
    "    <inertial>\n",
    "      <mass value=\"0.0001\" />\n",
    "      <origin xyz=\"0 0 0\" />\n",
    "      <inertia ixx=\"0.0001\" ixy=\"0.0\" ixz=\"0.0\"\n",
    "          iyy=\"0.0001\" iyz=\"0.0\" \n",
    "          izz=\"0.0001\" />\n",
    "    </inertial>\n",
    "    <visual>\n",
    "        <origin xyz=\"0 0 0\" rpy=\"0 0 0\" />\n",
    "        <geometry>\n",
    "            <box size=\"0.001 0.001 0.001\" />\n",
    "        </geometry>\n",
    "    </visual>\n",
    "  </link>\n",
    "\n",
    "  <gazebo reference=\"base_footprint\">\n",
    "    <turnGravityOff>false</turnGravityOff>\n",
    "  </gazebo>\n",
    "\n",
    "  <joint name=\"base_footprint_joint\" type=\"fixed\">\n",
    "    <origin xyz=\"0 0 ${wheel_radius - base_z_origin_to_wheel_origin}\" rpy=\"0 0 0\" />\n",
    "    <parent link=\"base_footprint\"/>\n",
    "    <child link=\"base_link\" />\n",
    "  </joint>\n",
    "  "
   ]
  },
  {
   "cell_type": "markdown",
   "metadata": {},
   "source": [
    "<p>As a next step we add a caster wheels to the robot. This is the simplest wheel as we have no axis and no friction. We can simply approximate the caster wheels with a ball. Add this after the chassis link in the main urdf file:</p>"
   ]
  },
  {
   "cell_type": "code",
   "execution_count": null,
   "metadata": {},
   "outputs": [],
   "source": [
    "<!--Caster front  -->\n",
    "\n",
    "    <link name=\"caster_front_link\">\n",
    "\n",
    "    <visual>\n",
    "      <origin xyz=\"0 0.02 0\" rpy=\"${M_PI/2} 0 0\" />\n",
    "      <geometry>\n",
    "\t<sphere radius=\"${caster_f_radius}\" />\n",
    "      </geometry>\n",
    "\n",
    "    </visual>  \n",
    "\n",
    "\n",
    "\n",
    "      <collision>\n",
    "        <geometry>\n",
    "\n",
    "\t<sphere radius=\"${caster_f_radius}\" />\n",
    "\n",
    "        </geometry>\n",
    "      <origin xyz=\"0 0.02 0\" rpy=\"${M_PI/2} 0 0\" />\n",
    "      </collision>      \n",
    "      <inertial>\n",
    "        <mass value=\"${caster_f_mass}\" />\n",
    "        <origin xyz=\"0 0 0\" />\n",
    "        <inertia ixx=\"0.001\" ixy=\"0.0\" ixz=\"0.0\"\n",
    "                 iyy=\"0.001\" iyz=\"0.0\" \n",
    "                 izz=\"0.001\" />\n",
    "      </inertial>\n",
    "    </link>\n",
    "\n",
    "\n",
    "\n",
    " <joint name=\"caster_front_joint\" type=\"fixed\">\n",
    "      <parent link=\"base_link\"/>\n",
    "      <child link=\"caster_front_link\"/>\n",
    "      <origin xyz=\"0.115 0.0 0.007\" rpy=\"${-M_PI/2} 0 0\"/>\n",
    "    </joint>\n",
    "\n",
    "\n",
    "  <gazebo reference=\"caster_front_link\">\n",
    "    <turnGravityOff>false</turnGravityOff>\n",
    "  </gazebo>\n",
    "    \n",
    "\n",
    "\n",
    "<!--Caster back  -->\n",
    "\n",
    "    <link name=\"caster_back_link\">\n",
    "\n",
    "    <visual>\n",
    "      <origin xyz=\"0.02 0.02 0 \" rpy=\"${M_PI/2} 0 0\" /> \n",
    "\n",
    "      <geometry>\n",
    "\n",
    "\n",
    "\t<sphere radius=\"${caster_b_radius}\" />\n",
    "\n",
    "\n",
    "      </geometry>\n",
    "\n",
    "    </visual>  \n",
    "\n",
    "      <collision>\n",
    "        <geometry>\n",
    "\t\t<sphere radius=\"${caster_b_radius}\" />\n",
    "        </geometry>\n",
    "      <origin xyz=\"0 0.02 0 \" rpy=\"${M_PI/2} 0 0\" /> \n",
    "      </collision>      \n",
    "      <inertial>\n",
    "        <mass value=\"${caster_b_mass}\" />\n",
    "        <origin xyz=\"0 0 0\" />        \n",
    "        <inertia ixx=\"0.001\" ixy=\"0.0\" ixz=\"0.0\"\n",
    "                 iyy=\"0.001\" iyz=\"0.0\" \n",
    "                 izz=\"0.001\" />\n",
    "      </inertial>\n",
    "    </link>\n",
    "\n",
    "    <joint name=\"caster_back_joint\" type=\"fixed\">\n",
    "      <parent link=\"base_link\"/>\n",
    "      <child link=\"caster_back_link\"/>\n",
    "      <origin xyz=\"-0.135 0.0 0.009\" rpy=\"${-M_PI/2} 0 0\"/>\n",
    "    </joint>\n",
    "\n",
    "\n",
    "  <gazebo reference=\"caster_back_link\">\n",
    "    <turnGravityOff>false</turnGravityOff>\n",
    "  </gazebo>\n"
   ]
  },
  {
   "cell_type": "markdown",
   "metadata": {},
   "source": [
    "<p>Last but not least, we want to add some wheels to the robot.Now you can add the wheels to the main file:</p>"
   ]
  },
  {
   "cell_type": "code",
   "execution_count": null,
   "metadata": {},
   "outputs": [],
   "source": [
    "<!-- Wheel Definitions -->\n",
    "<!--right_wheel-->\n",
    "    <link name=\"front_right_wheel\">\n",
    "      <visual>\n",
    "        <origin xyz=\"0 0 0\" rpy=\"${1*M_PI/2} 0  0 \" /> \n",
    "        <geometry>\n",
    "          <cylinder length=\"${wheel_height}\" radius=\"${wheel_radius}\" />\n",
    "        </geometry>\n",
    "\n",
    "      </visual>\n",
    "      <collision>\n",
    "        <origin xyz=\"0 0 0\" rpy=\"${1*M_PI/2} 0 0 \" />\n",
    "        <geometry>\n",
    "          <cylinder length=\"${wheel_height}\" radius=\"${wheel_radius}\" />\n",
    "        </geometry>\n",
    "      </collision>\n",
    "      <inertial>\n",
    "        <mass value=\"${wheel_mass}\" />\n",
    "        <origin xyz=\"0 0 0\" />\n",
    "        <inertia ixx=\"0.001\" ixy=\"0.0\" ixz=\"0.0\"\n",
    "                 iyy=\"0.001\" iyz=\"0.0\" \n",
    "                 izz=\"0.001\" />\n",
    "      </inertial>\n",
    "    </link>\n",
    "\n",
    "    <joint name=\"front_right_wheel_joint\" type=\"continuous\">\n",
    "      <parent link=\"base_link\"/>\n",
    "      <child link=\"front_right_wheel\"/>\n",
    "      <origin xyz=\"${0 * base_x_origin_to_wheel_origin} ${0.5 * base_y_origin_to_wheel_origin} ${base_z_origin_to_wheel_origin}\" rpy=\"0 0 0\" /> \n",
    "      <axis xyz=\"0 1 0\" rpy=\"0  0\" />\n",
    "      <limit effort=\"100\" velocity=\"100\"/>\n",
    "      <joint_properties damping=\"0.0\" friction=\"0.0\"/>\n",
    "    </joint>\n",
    "\n",
    " <!-- Transmission is important to link the joints and the controller -->\n",
    "    <transmission name=\"front_right_wheel_joint_trans\">\n",
    "      <type>transmission_interface/SimpleTransmission</type>\n",
    "      <joint name=\"front_right_wheel_joint\" />\n",
    "      <actuator name=\"front_right_wheel_joint_motor\">\n",
    "        <hardwareInterface>EffortJointInterface</hardwareInterface>\n",
    "        <mechanicalReduction>1</mechanicalReduction>\n",
    "      </actuator>\n",
    "    </transmission>\n",
    "    \n",
    "   <gazebo reference=\"front_right_wheel\">\n",
    "      <mu1 value=\"1.0\"/>\n",
    "      <mu2 value=\"1.0\"/>\n",
    "      <kp  value=\"10000000.0\" />\n",
    "      <kd  value=\"1.0\" />\n",
    "      <fdir1 value=\"1 0 0\"/>\n",
    "\n",
    "      <turnGravityOff>false</turnGravityOff>\n",
    "    </gazebo>\n",
    "\n",
    "<!--left_wheel-->\n",
    "    <link name=\"front_left_wheel\">\n",
    "      <visual>\n",
    "        <origin xyz=\"0 0 0\" rpy=\"${1*M_PI/2} 0  0 \" /> \n",
    "        <geometry>\n",
    "          <cylinder length=\"${wheel_height}\" radius=\"${wheel_radius}\" />\n",
    "        </geometry>\n",
    "\n",
    "      </visual>\n",
    "      <collision>\n",
    "        <origin xyz=\"0 0 0\" rpy=\"${1*M_PI/2} 0 0 \" />\n",
    "        <geometry>\n",
    "          <cylinder length=\"${wheel_height}\" radius=\"${wheel_radius}\" />\n",
    "        </geometry>\n",
    "      </collision>\n",
    "      <inertial>\n",
    "        <mass value=\"${wheel_mass}\" />\n",
    "        <origin xyz=\"0 0 0\" />\n",
    "        <inertia ixx=\"0.001\" ixy=\"0.0\" ixz=\"0.0\"\n",
    "                 iyy=\"0.001\" iyz=\"0.0\" \n",
    "                 izz=\"0.001\" />\n",
    "      </inertial>\n",
    "    </link>\n",
    "\n",
    "    <joint name=\"front_left_wheel_joint\" type=\"continuous\">\n",
    "      <parent link=\"base_link\"/>\n",
    "      <child link=\"front_left_wheel\"/>\n",
    "      <origin xyz=\"${0 * base_x_origin_to_wheel_origin} ${-0.5 * base_y_origin_to_wheel_origin} ${base_z_origin_to_wheel_origin}\" rpy=\"0 0 0\" /> \n",
    "      <axis xyz=\"0 1 0\" rpy=\"0  0\" />\n",
    "      <limit effort=\"100\" velocity=\"100\"/>\n",
    "      <joint_properties damping=\"0.0\" friction=\"0.0\"/>\n",
    "    </joint>\n",
    " <!-- Transmission is important to link the joints and the controller -->\n",
    "    <transmission name=\"front_left_wheel_joint_trans\">\n",
    "      <type>transmission_interface/SimpleTransmission</type>\n",
    "      <joint name=\"front_left_wheel_joint\" />\n",
    "      <actuator name=\"front_left_wheel_joint_motor\">\n",
    "        <hardwareInterface>EffortJointInterface</hardwareInterface>\n",
    "        <mechanicalReduction>1</mechanicalReduction>\n",
    "      </actuator>\n",
    "    </transmission>\n",
    "   \n",
    "    <gazebo reference=\"front_left_wheel\">\n",
    "      <mu1 value=\"1.0\"/>\n",
    "      <mu2 value=\"1.0\"/>\n",
    "      <kp  value=\"10000000.0\" />\n",
    "      <kd  value=\"1.0\" />\n",
    "      <fdir1 value=\"1 0 0\"/>\n",
    "\n",
    "      <turnGravityOff>false</turnGravityOff>\n",
    "    </gazebo>\n",
    "</robot>"
   ]
  }
 ],
 "metadata": {
  "kernelspec": {
   "display_name": "Python 2",
   "language": "python",
   "name": "python2"
  },
  "language_info": {
   "name": ""
  }
 },
 "nbformat": 4,
 "nbformat_minor": 2
}
