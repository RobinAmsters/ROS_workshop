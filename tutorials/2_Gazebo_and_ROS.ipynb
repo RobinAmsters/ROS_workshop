{
 "cells": [
  {
   "cell_type": "markdown",
   "metadata": {
    "toc": true
   },
   "source": [
    "<h1>Table of Contents<span class=\"tocSkip\"></span></h1>\n",
    "<div class=\"toc\"><ul class=\"toc-item\"><li><span><a href=\"#What-is-Gazebo\" data-toc-modified-id=\"What-is-Gazebo-1\"><span class=\"toc-item-num\">1&nbsp;&nbsp;</span>What is Gazebo</a></span></li><li><span><a href=\"#Graphical-User-Interface\" data-toc-modified-id=\"Graphical-User-Interface-2\"><span class=\"toc-item-num\">2&nbsp;&nbsp;</span>Graphical User Interface</a></span><ul class=\"toc-item\"><li><span><a href=\"#The-scene\" data-toc-modified-id=\"The-scene-2.1\"><span class=\"toc-item-num\">2.1&nbsp;&nbsp;</span>The scene</a></span></li><li><span><a href=\"#The-panels\" data-toc-modified-id=\"The-panels-2.2\"><span class=\"toc-item-num\">2.2&nbsp;&nbsp;</span>The panels</a></span><ul class=\"toc-item\"><li><span><a href=\"#Left-panel\" data-toc-modified-id=\"Left-panel-2.2.1\"><span class=\"toc-item-num\">2.2.1&nbsp;&nbsp;</span>Left panel</a></span></li><li><span><a href=\"#Right-panel-(hidden-by-default)\" data-toc-modified-id=\"Right-panel-(hidden-by-default)-2.2.2\"><span class=\"toc-item-num\">2.2.2&nbsp;&nbsp;</span>Right panel (hidden by default)</a></span></li></ul></li><li><span><a href=\"#The-toolbars\" data-toc-modified-id=\"The-toolbars-2.3\"><span class=\"toc-item-num\">2.3&nbsp;&nbsp;</span>The toolbars</a></span><ul class=\"toc-item\"><li><span><a href=\"#Upper-toolbars\" data-toc-modified-id=\"Upper-toolbars-2.3.1\"><span class=\"toc-item-num\">2.3.1&nbsp;&nbsp;</span>Upper toolbars</a></span></li><li><span><a href=\"#Bottom-toolbars\" data-toc-modified-id=\"Bottom-toolbars-2.3.2\"><span class=\"toc-item-num\">2.3.2&nbsp;&nbsp;</span>Bottom toolbars</a></span></li></ul></li><li><span><a href=\"#The-menu\" data-toc-modified-id=\"The-menu-2.4\"><span class=\"toc-item-num\">2.4&nbsp;&nbsp;</span>The menu</a></span></li></ul></li><li><span><a href=\"#Mouse-controls\" data-toc-modified-id=\"Mouse-controls-3\"><span class=\"toc-item-num\">3&nbsp;&nbsp;</span>Mouse controls</a></span></li><li><span><a href=\"#Linking-Gazebo-and-ROS\" data-toc-modified-id=\"Linking-Gazebo-and-ROS-4\"><span class=\"toc-item-num\">4&nbsp;&nbsp;</span>Linking Gazebo and ROS</a></span></li><li><span><a href=\"#Transfer-frames\" data-toc-modified-id=\"Transfer-frames-5\"><span class=\"toc-item-num\">5&nbsp;&nbsp;</span>Transfer frames</a></span></li><li><span><a href=\"#Unified-Robot-Description-Format-(URDF)\" data-toc-modified-id=\"Unified-Robot-Description-Format-(URDF)-6\"><span class=\"toc-item-num\">6&nbsp;&nbsp;</span>Unified Robot Description Format (URDF)</a></span><ul class=\"toc-item\"><li><span><a href=\"#URDF-tags\" data-toc-modified-id=\"URDF-tags-6.1\"><span class=\"toc-item-num\">6.1&nbsp;&nbsp;</span>URDF tags</a></span></li><li><span><a href=\"#Creating-your-Gazebo-launch-file\" data-toc-modified-id=\"Creating-your-Gazebo-launch-file-6.2\"><span class=\"toc-item-num\">6.2&nbsp;&nbsp;</span>Creating your Gazebo launch file</a></span></li><li><span><a href=\"#Creating-your-own-robot-model\" data-toc-modified-id=\"Creating-your-own-robot-model-6.3\"><span class=\"toc-item-num\">6.3&nbsp;&nbsp;</span>Creating your own robot model</a></span></li></ul></li><li><span><a href=\"#Simulating-a-differential-drive-mobile-robot-in-Gazebo-and-ROS\" data-toc-modified-id=\"Simulating-a-differential-drive-mobile-robot-in-Gazebo-and-ROS-7\"><span class=\"toc-item-num\">7&nbsp;&nbsp;</span>Simulating a differential drive mobile robot in Gazebo and ROS</a></span><ul class=\"toc-item\"><li><span><a href=\"#Connecting-your-robot-to-ROS\" data-toc-modified-id=\"Connecting-your-robot-to-ROS-7.1\"><span class=\"toc-item-num\">7.1&nbsp;&nbsp;</span>Connecting your robot to ROS</a></span></li><li><span><a href=\"#Adding-a-Sensor\" data-toc-modified-id=\"Adding-a-Sensor-7.2\"><span class=\"toc-item-num\">7.2&nbsp;&nbsp;</span>Adding a Sensor</a></span></li><li><span><a href=\"#Adding-a-control-program\" data-toc-modified-id=\"Adding-a-control-program-7.3\"><span class=\"toc-item-num\">7.3&nbsp;&nbsp;</span>Adding a control program</a></span></li></ul></li><li><span><a href=\"#Appendix\" data-toc-modified-id=\"Appendix-8\"><span class=\"toc-item-num\">8&nbsp;&nbsp;</span>Appendix</a></span><ul class=\"toc-item\"><li><span><a href=\"#Differential-drive-robot-xacro\" data-toc-modified-id=\"Differential-drive-robot-xacro-8.1\"><span class=\"toc-item-num\">8.1&nbsp;&nbsp;</span>Differential drive robot xacro</a></span></li><li><span><a href=\"#Control-program\" data-toc-modified-id=\"Control-program-8.2\"><span class=\"toc-item-num\">8.2&nbsp;&nbsp;</span>Control program</a></span></li></ul></li></ul></div>"
   ]
  },
  {
   "cell_type": "markdown",
   "metadata": {},
   "source": [
    "<h1><strong><u>Gazebo and ROS</strong></u></h1>\n",
    "\n",
    "<h2>What is Gazebo</h2>\n",
    "\n",
    "<p>Gazebo is a 3D dynamic simulator with the ability to accurately and efficiently simulate populations of robots in complex indoor and outdoor environments. While similar to game engines, Gazebo offers physics simulation at a much higher degree of fidelity, a suite of sensors, and interfaces for both users and programs.</p>\n",
    "\n",
    "<p>Typical uses of Gazebo include:</p>\n",
    "\n",
    "<ul>\n",
    "    <li>testing robotics algorithms</li>\n",
    "    <li>designing robots</li>\n",
    "    \n",
    "</ul>\n",
    "    \n",
    "<p>A few key features of Gazebo include:</p>\n",
    "\n",
    "<ul>\n",
    "    <li>multiple physics engines such as ODE(Open Dynamics Engine), Bullet, Simbody and Dar</li>\n",
    "    <li>a rich library of robot models and environments, with the option to define your own</li>\n",
    "    <li>a wide variety of possible sensors</li>\n",
    "    <li>convenient programmatic and graphical interfaces</li>\n",
    "</ul>\n",
    "\n",
    "<img src=\"http://www.pirobot.org/wordpress/wp-content/uploads/2014/09/gazebo_kinect_challenge.png\" alt=\"\">\n",
    "<figcaption style=\"text-align:center\">Mobile Robot in a Gazebo environment</figcaption>\n",
    "\n",
    "<h2>Graphical User Interface</h2>\n",
    "\n",
    "<p>We will now go over the basics of the Gazebo user interface, such as the function of the buttons and how to navigate the scene. Gazebo can also be opened by pressing the windows key, searching Gazebo and selecting the program. Alternatively, Gazebo can also launched by executing <code>gazebo</code> in a terminal. When first launching Gazebo, this is what you should see:</p>\n",
    "\n",
    "<p><img src='https://bitbucket.org/osrf/gazebo_tutorials/raw/default/guided_b/files/ftu3-boot-screen.png' width='800px'/></p>\n",
    "\n",
    "<p>Note that the Gazebo interface consists of multiple sections, which will be explained below. </p>\n",
    "\n",
    "<h3>The scene</h3>\n",
    "\n",
    "<p>The scene is the main part of the simulator. This is where the simulated objects are placed and interact with the rest of the environment.</p>\n",
    "\n",
    "<p><img src='https://bitbucket.org/osrf/gazebo_tutorials/raw/default/guided_b/files/ftu3-scene.png' width='800px'/></p>\n",
    "\n",
    "<h3>The panels</h3>\n",
    "\n",
    "<p>Both the left and right side panels can be displayed, hidden or resized by dragging\n",
    "the bar that separates them from the scene.</p>\n",
    "\n",
    "<p><img src='https://bitbucket.org/osrf/gazebo_tutorials/raw/default/guided_b/files/ftu3-panels.png' width='800px'/></p>\n",
    "\n",
    "<h4>Left panel</h4>\n",
    "\n",
    "<p>The left panel appears by default when you launch Gazebo. There are three tabs\n",
    "in this panel:</p>\n",
    "\n",
    "<ul>\n",
    "<li><p><strong>WORLD</strong>: The World tab displays the models that are currently in the\n",
    "scene, and allows you to view and modify model parameters, like their\n",
    "pose. You can also change the camera view angle by expanding the\n",
    "&quot;GUI&quot; option and tweaking the camera pose. </p></li>\n",
    "<li><p><strong>INSERT</strong>: The Insert tab is where you add new objects (models) to the\n",
    "simulation. To see the model list, you may need to click the arrow to expand the \n",
    "folder. Click (and release) on the model you want to insert, and click\n",
    "again in the scene to add it. </p></li>\n",
    "<li><p><strong>LAYERS</strong>: The Layers tab organizes and displays the different\n",
    "visualization groups that are available in the simulation, if any. A layer\n",
    "may contain one or more models. Toggling a layer on or off will display\n",
    "or hide the models in that layer. This is an optional feature, so this tab will be empty in\n",
    "  most cases. To learn more about Layers, check out the \n",
    "  <a href=\"http://gazebosim.org/tutorials?tut=visual_layers&amp;cat=build_robot\">Visibility Layers</a> \n",
    "  tutorial. </p></li>\n",
    "</ul>\n",
    "\n",
    "<h4>Right panel (hidden by default)</h4>\n",
    "\n",
    "<p>The right panel is hidden by default. Click and drag the bar to open it. The right panel can \n",
    "be used to interact with the mobile parts of a selected model (the joints). If there are no \n",
    "models selected in the scene, then this panel does not display any information.</p>\n",
    "\n",
    "<h3>The toolbars</h3>\n",
    "\n",
    "<p>The Gazebo interface has two toolbars. One is located just above the scene, and\n",
    "the other is just below.</p>\n",
    "\n",
    "<h4>Upper toolbars</h4>\n",
    "\n",
    "<p>This is the main toolbar and it includes some of the most-used options for interacting with\n",
    "the simulator, such as buttons to: select, move, rotate, and scale objects;\n",
    "create simple shapes (e.g. cube, sphere, cylinder); and copy/paste. Go ahead and play \n",
    "around with each button to see how it behaves.</p>\n",
    "\n",
    "<p><img src='https://bitbucket.org/osrf/gazebo_tutorials/raw/default/guided_b/files/ftu3-top-toolbar.png' width='1200px'/></p>\n",
    "\n",
    "<p>Select mode: Navigate in the scene</p>\n",
    "\n",
    "<p>Translate mode: Select models you want to move</p>\n",
    "\n",
    "<p>Rotate mode: Select models you want to rotate </p>\n",
    "\n",
    "<p>Scale mode: Select models you want to scale</p>\n",
    "\n",
    "<p>Undo/Redo: Undo/redo actions in the scene</p>\n",
    "\n",
    "<p>Simple shapes: Insert simple shapes into the scene</p>\n",
    "\n",
    "<p>Lights: Add lights to the scene</p>\n",
    "\n",
    "<p>Copy/paste: Copy/paste models in the scene</p>\n",
    "\n",
    "<p>Align: Align models to one another</p>\n",
    "\n",
    "<p>Snap: Snap one model to another</p>\n",
    "\n",
    "<p>Change view: View the scene from various angles</p>\n",
    "\n",
    "<h4>Bottom toolbars</h4>\n",
    "\n",
    "<p>The Bottom toolbars displays information about the simulation, like the simulation time and its relation to real time. A simulation can be slower or faster than real time, depending on how much computation is required to run it. &quot;Simulation time&quot; refers to how quickly time is passing in the simulator when a simulation is running. </p>\n",
    "\n",
    "<p>&quot;Real time&quot; refers to the actual time that is passing in real life as the\n",
    "simulator runs. The ratio between the simulation time and real time is known as the &quot;real time factor;&qout; (RTF). The RTF is a measure of how fast or slow your simulation is running compared to real time.</p>\n",
    "\n",
    "<p>The state of the world in Gazebo is calculated once per iteration. You can\n",
    "see the number of iterations on the right side of the bottom toolbar. Each\n",
    "iteration advances simulation by a fixed number of seconds, called the step\n",
    "size. By default, the step size is 1 ms. You can press\n",
    "the pause button to pause the simulation and step through it one step at\n",
    "a time using the step button.</p>\n",
    "\n",
    "<p><img src='https://bitbucket.org/osrf/gazebo_tutorials/raw/default/guided_b/files/ftu3-bottom-toolbar.png' width='1200px'/></p>\n",
    "\n",
    "<h3>The menu</h3>\n",
    "\n",
    "<p>Like most applications, Gazebo has an application menu up top. Some of the menu\n",
    "options are duplicated in the toolbars or as right-click context menu options\n",
    "in the scene. Check out the various menus to familiarize yourself. </p>\n",
    "<img src='https://bitbucket.org/osrf/gazebo_tutorials/raw/default/guided_b/files/ftu3-menu-options.png' width='1200px'/>\n",
    "\n",
    "<p>NOTE: Some Linux desktops hide application menus. If you don&#39;t see the\n",
    "menus, move your cursor to the top of the application window, and the menus\n",
    "should appear. </p>\n",
    "\n",
    "<p><img src='https://bitbucket.org/osrf/gazebo_tutorials/raw/default/guided_b/files/ftu3-gazebo-menu.png' width='1200px'/></p>\n",
    "\n",
    "<h2>Mouse controls</h2>\n",
    "\n",
    "<p>The mouse is very useful when navigating in the scene. We highly recommend\n",
    "using a mouse with a scroll wheel.  Below are the basic mouse operations for\n",
    "navigating in the scene and changing the view angle.</p>\n",
    "\n",
    "<p>Right-clicking on models will open a context menu with various options.\n",
    "Right-click on a model now to see what&#39;s available. </p>\n",
    "\n",
    "<p><img src='https://bitbucket.org/osrf/gazebo_tutorials/raw/default/guided_b/files/ftu3-mouse-controls.png' width='800px'/></p>\n",
    "\n",
    "<h2>Linking Gazebo and ROS</h2>\n",
    "\n",
    "<p>To achieve cooperation between with stand-alone Gazebo and ROS, a set of ROS packages named <code>gazebo_ros_pkgs</code> provide wrappers around the stand-alone Gazebo core. They enable the necessary interfaces to simulate a robot in Gazebo using ROS messages and services. </p> \n",
    "\n",
    "\n",
    "<img src=\"https://bitbucket.org/osrf/gazebo_tutorials/raw/default/ros_overview/figs/775px-Gazebo_ros_api.png\">\n",
    "<figcaption style=\"text-align:center\">Overview of Gazebo ROS packages</figcaption>\n",
    "\n",
    "<h2>Transfer frames</h2>\n",
    "\n",
    "<p>Before we can start simulating robots, we first need to introduce the concept of 'transfer frames'. A robot typically has several coordinate frames, which can for example be attached to its sensors. Data returned from these sensors is expressed in a local coordinate that moves with the sensor. In order to compare or combine data from multiple sensors, this data needs to be expressed in a central static coordinate frame. This frame is often called the 'base frame' and is usually attached to the center of the robot at ground level. Keeping track of coordinate frames can be quite tedious, therefore the '<code>tf</code>' package was introduced in ROS. <code>tf</code> maintains the relationship between coordinate frames in a tree structure buffered in time, and lets the user transform points, vectors, etc between any two coordinate frames at any desired point in time. This allows you to ask questions like:</p>\n",
    "<ul>\n",
    "<li>Where was the head frame relative to the world frame, 5 seconds ago?</li>\n",
    "<li>What is the pose of the object in my gripper relative to my base?</li>\n",
    "<li>What is the current pose of the base frame in the map frame?</li>\n",
    "</ul>\n",
    "\n",
    "This tutorial will not go into much further detail about  <code>tf</code>. Additional information about <code>tf</code> can be found on the <a href=\"http://wiki.ros.org/tf/Tutorials\">tutorials page</a>\n",
    "\n",
    "\n",
    "<h2>Unified Robot Description Format (URDF)</h2>\n",
    "<p>The Unified Robot Description Format (URDF) is an XML file format used in ROS to the all elements of a robot. To use a URDF file in Gazebo, some additional simulation-specific tags must be added. This tutorial will outline the steps necessary to successfully use your URDF-based robot in Gazebo. Note that a URDF file can used in Gazebo for simulation as well as in rviz for visualization purposes.</p>\n",
    "\n",
    "<h3>URDF tags</h3>\n",
    "<p>The main tags we will use in writing our URDF are as follows:</p>\n",
    "<ul>\n",
    "<li><strong><a href=\"http://wiki.ros.org/urdf/XML/link\">link tag:</a></strong> Describes the kinematic and dynamic properties of a link.</li>\n",
    "<li><strong><a href=\"http://wiki.ros.org/urdf/XML/Transmission\">transmission tag:</a></strong> Transmissions link actuators to joints and represents their mechanical coupling</li>\n",
    "<li><strong><a href=\"http://wiki.ros.org/urdf/XML/joint\">joint tag:</a></strong> Describes the kinematic and dynamic properties of a joint.</li>\n",
    "<li><strong><a href=\"http://wiki.ros.org/urdf/XML/Gazebo\">gazebo tag:</a></strong> Describes simulation properties, such as damping, friction, etc</li>\n",
    "<li><strong><a href=\"http://wiki.ros.org/urdf/XML/sensor\">sensor tag:</a></strong> Describes a sensor, such as a camera, ray sensor, etc</li>\n",
    "</ul>\n",
    "\n",
    "<p>\n",
    "Each tag can have a number of subtags, you can find a complete list below for reference. Later on we will use these tags in a practical example.\n",
    "</p>\n",
    "\n",
    "<ul>\n",
    "<li>inertial tag (optional): The inertial properties of the link.</li>\n",
    "<ul>\n",
    "\n",
    "<li>origin tag (optional: defaults to identity if not specified): This is the pose of the inertial reference frame, relative to the link reference frame. The origin of the inertial reference frame needs to be at the center of gravity. The axes of the inertial reference frame do not need to be aligned with the principal axes of the inertia.</li>\n",
    "\n",
    "<li>xyz tag (optional: defaults to zero vector): Represents the x,y,z offset.</li>\n",
    "\n",
    "<li>rpy (optional: defaults to identity if not specified): Represents the fixed axis roll, pitch and yaw angles in radians.</li>\n",
    "\n",
    "<li>mass tag: The mass of the link is represented by the value attribute of this element.</li>\n",
    "\n",
    "<li>inertia tag: The 3x3 rotational inertia matrix, represented in the inertia frame. Because the rotational inertia matrix is symmetric, only 6 above-diagonal elements of this matrix are specified here, using the attributes ixx, ixy, ixz, iyy, iyz, izz,</li>\n",
    "</ul>\n",
    "</ul>\n",
    "\n",
    "<ul>\n",
    "<li>Visual tag (optional): The visual properties of the link. This element specifies the shape of the object (box, cylinder, etc.) for visualization purposes. Note: multiple instances of visual tags can exist for the same link. The union of the geometry they define forms the visual representation of the link.</li>\n",
    "<ul>\n",
    "<li>name tag (optional): Specifies a name for a part of a link's geometry. This is useful to be able to refer to specific bits of the geometry of a link.</li>\n",
    "<li>origin tag (optional: defaults to identity if not specified): The reference frame of the visual element with respect to the reference frame of the link.</li>\n",
    "<li>xyz tag (optional: defaults to zero vector): Represents the x,y,z offset.</li>\n",
    "\n",
    "<li>rpy tag (optional: defaults to identity if not specified): Represents the fixed axis roll, pitch and yaw angles in radians.</li>\n",
    "<li>geometry tag (required): The shape of the visual object. This can be one of the following:\n",
    "    <ul>\n",
    "        <li>box: size attribute contains the three side lengths of the box. The origin of the box is in its center.</li>\n",
    "        <li>cylinder: Specify the radius and length. The origin of the cylinder is in its center. cylinder_coordinates.png</li>\n",
    "        <li>sphere: Specify the radius. The origin of the sphere is in its center.</li>\n",
    "    </ul>\n",
    "</ul>\n",
    "</ul>\n",
    "\n",
    "<ul>\n",
    "<li>Collision tag(optional): The collision properties of a link. Note that this can be different from the visual properties of a link, for example, simpler collision models are often used to reduce computation time. Note: multiple instances of collision tags can exist for the same link. The union of the geometry they define forms the collision representation of the link.</li>\n",
    "<ul>\n",
    "<li>origin tag (optional: defaults to identity if not specified): The reference frame of the collision element, relative to the reference frame of the link.</li>\n",
    "</ul>\n",
    "</ul>\n",
    "\n",
    "<ul>\n",
    "<li>Joint tag: </li>\n",
    "<ul>\n",
    "<li> origin tag (optional: defaults to identity if not specified): This is the transform from the parent link to the child link. The joint is located at the origin of the child link, as shown in the figure above.</li> <ul>\n",
    "\n",
    "<li>xyz (optional: defaults to zero vector): Represents the x,y,z offset.</li>\n",
    "<li>rpy (optional: defaults 'to zero vector 'if not specified): Represents the rotation around fixed axis: first roll around x, then pitch around y and finally yaw around z. All angles are specified in radians.</li></ul>\n",
    "\n",
    "<li>parent tag (required): Parent link name with mandatory attribute:  \n",
    "<ul><li>link:The name of the link that is the parent of this link in the robot tree structure.</li></ul>\n",
    "\n",
    "<li> child tag (required): Child link name with mandatory attribute:\n",
    "    <ul><li>link: The name of the link that is the child link.</li></ul>\n",
    "    </li>\n",
    "</ul>\n",
    "</ul>    \n",
    "</p>\n",
    "\n",
    "<p>We will soon explain how to create a URDF file. But first we need to create the necessary file paths. We need to create our myrobot_description and myrobot_gazebo package in our catkin workspace folder. It is good practice to create a separate package for Robot URDF which allows easy integration with multiple control packages.</p>"
   ]
  },
  {
   "cell_type": "code",
   "execution_count": null,
   "metadata": {
    "collapsed": true
   },
   "outputs": [],
   "source": [
    "!cd catkin_ws/src"
   ]
  },
  {
   "cell_type": "code",
   "execution_count": null,
   "metadata": {
    "collapsed": true
   },
   "outputs": [],
   "source": [
    "!catkin_create_pkg myrobot_description"
   ]
  },
  {
   "cell_type": "code",
   "execution_count": null,
   "metadata": {
    "collapsed": true
   },
   "outputs": [],
   "source": [
    "!catkin_create_pkg myrobot_gazebo"
   ]
  },
  {
   "cell_type": "markdown",
   "metadata": {},
   "source": [
    "<h3>Creating your Gazebo launch file</h3>\n",
    "\n",
    "<p>Let us now create a launch file that we can use later to start our simulation:</p>"
   ]
  },
  {
   "cell_type": "code",
   "execution_count": null,
   "metadata": {
    "collapsed": true
   },
   "outputs": [],
   "source": [
    "!roscd myrobot_gazebo "
   ]
  },
  {
   "cell_type": "code",
   "execution_count": null,
   "metadata": {
    "collapsed": true
   },
   "outputs": [],
   "source": [
    "!mkdir launch "
   ]
  },
  {
   "cell_type": "markdown",
   "metadata": {},
   "source": [
    "<p>Create a new file:</p>"
   ]
  },
  {
   "cell_type": "code",
   "execution_count": 1,
   "metadata": {
    "collapsed": true
   },
   "outputs": [],
   "source": [
    "!gedit myrobot_gazebo.launch"
   ]
  },
  {
   "cell_type": "markdown",
   "metadata": {},
   "source": [
    "We will include an empty world launch file from the gazebo_ros package which will launch gazebo with nothing inside. Copy the following contents into the empty launch file:"
   ]
  },
  {
   "cell_type": "code",
   "execution_count": null,
   "metadata": {
    "collapsed": true
   },
   "outputs": [],
   "source": [
    "<launch>\n",
    "  <include file=\"$(find gazebo_ros)/launch/empty_world.launch\">\n",
    "  </include>\n",
    "</launch>"
   ]
  },
  {
   "cell_type": "markdown",
   "metadata": {},
   "source": [
    "<p>Now open a new terminal and launch the file.</p>"
   ]
  },
  {
   "cell_type": "code",
   "execution_count": null,
   "metadata": {
    "collapsed": true
   },
   "outputs": [],
   "source": [
    "!roslaunch myrobot_gazebo myrobot_gazebo.launch"
   ]
  },
  {
   "cell_type": "markdown",
   "metadata": {},
   "source": [
    "<p>Now you should see the gazebo server and the GUI starting with an empty world that contains a ground plane and a sun (which is not obviously visible without objects).</p>"
   ]
  },
  {
   "cell_type": "markdown",
   "metadata": {},
   "source": [
    "<h3>Creating your own robot model</h3>\n",
    "\n",
    "<p>We can now move on to making our own robot model. The first step is to create a robot description file in the description package.</p>"
   ]
  },
  {
   "cell_type": "code",
   "execution_count": null,
   "metadata": {
    "collapsed": true
   },
   "outputs": [],
   "source": [
    "!roscd myrobot_description"
   ]
  },
  {
   "cell_type": "code",
   "execution_count": null,
   "metadata": {
    "collapsed": true
   },
   "outputs": [],
   "source": [
    "!mkdir urdf"
   ]
  },
  {
   "cell_type": "code",
   "execution_count": null,
   "metadata": {
    "collapsed": true
   },
   "outputs": [],
   "source": [
    "!cd urdf"
   ]
  },
  {
   "cell_type": "code",
   "execution_count": null,
   "metadata": {
    "collapsed": true
   },
   "outputs": [],
   "source": [
    "!gedit myrobot.urdf"
   ]
  },
  {
   "cell_type": "markdown",
   "metadata": {},
   "source": [
    "<p>First, let's add the <code>robot</code> tags. These are always present in a URDF file. The complete description (links, joints, transmission…) has to be within the <code>robot</code>tag. Go ahead and add this to the URDF file:</p>"
   ]
  },
  {
   "cell_type": "code",
   "execution_count": null,
   "metadata": {
    "collapsed": true
   },
   "outputs": [],
   "source": [
    "<?xml version=\"1.0\"?>\n",
    "<robot name=\"mybot\">\n",
    "        <!-- Put here the robot description -->\n",
    "</robot>"
   ]
  },
  {
   "cell_type": "markdown",
   "metadata": {},
   "source": [
    "Next, we will add the chassis of the robot between the <code>robot</code>tags:"
   ]
  },
  {
   "cell_type": "code",
   "execution_count": null,
   "metadata": {
    "collapsed": true
   },
   "outputs": [],
   "source": [
    "  <!-- BASE-LINK -->\n",
    "  <!--Actual body/chassis of the robot-->\n",
    "  <link name=\"base_link\">\n",
    "    \n",
    "    <inertial>\n",
    "      <mass value=\"1\" />\n",
    "      <origin xyz=\"0 0 0\" />\n",
    "         <inertia ixx=\"0.001\" ixy=\"0.0\" ixz=\"0.0\"\n",
    "                 iyy=\"0.001\" iyz=\"0.0\" \n",
    "                 izz=\"0.001\" />\n",
    "    </inertial>    \n",
    "    \n",
    "    <visual>\n",
    "      <origin xyz=\"0 0 0\" rpy=\"0 0 0\" />\n",
    "      <geometry>\n",
    "          <cylinder length=\"0.25\" radius=\"0.1\" />\n",
    "      </geometry>\n",
    "    </visual>  \n",
    "    \n",
    "    <collision>\n",
    "      <origin xyz=\"0 0 0\" rpy=\"0 0 0 \" />\n",
    "      <geometry>\n",
    "          <cylinder length=\"0.25\" radius=\"0.1\" />\n",
    "      </geometry>\n",
    "    </collision>  \n",
    "    \n",
    "  </link>"
   ]
  },
  {
   "cell_type": "markdown",
   "metadata": {},
   "source": [
    "<p>We used a frame called <code>base_link</code> as our base frame. The coordinate frame called <code>base_link</code> is rigidly attached to the robot base. This is a <a href=\"http://www.ros.org/reps/rep-0105.html#base-link\">convention</a> for mobile platforms. We also defined the inertial properties such as the mass and the inertia rotational matrix inside the <code>inertial</code> tag. Next, the visual properties of the robot model are defined, which are used to render the model in Gazebo or rviz. Here, we used a cylinder to represent the robot. Finally, we defined the collision properties inside the collision tags. We used the same cylinder we used for the visualization. It is possible to define different properties inside the <code>visual</code> and the <code>collision</code> tags, however, this is generally not recommended. \n",
    "\n",
    "The physics engine does not accept a base_link with inertia. It is therefore useful to add a simple link without inertia and make a joint between it and the chassis. The listing below should be added below the <code>base_link</code> definition, but still inside the <code>robot</code> tags:</p>"
   ]
  },
  {
   "cell_type": "code",
   "execution_count": null,
   "metadata": {
    "collapsed": true
   },
   "outputs": [],
   "source": [
    "\n",
    "<!-- BASE-FOOTPRINT -->\n",
    "  <!-- base_footprint is a fictitious link(frame) that is on the ground right below base_link origin -->\n",
    "  <link name=\"base_footprint\">\n",
    "    <inertial>\n",
    "      <mass value=\"0.0001\" />\n",
    "      <origin xyz=\"0 0 0\" />\n",
    "      <inertia ixx=\"0.0001\" ixy=\"0.0\" ixz=\"0.0\"\n",
    "          iyy=\"0.0001\" iyz=\"0.0\" \n",
    "          izz=\"0.0001\" />\n",
    "    </inertial>\n",
    "    <visual>\n",
    "        <origin xyz=\"0 0 0\" rpy=\"0 0 0\" />\n",
    "        <geometry>\n",
    "            <box size=\"0.001 0.001 0.001\" />\n",
    "        </geometry>\n",
    "    </visual>\n",
    "  </link>\n",
    "\n",
    "  <joint name=\"base_footprint_joint\" type=\"fixed\">\n",
    "    <origin xyz=\"0 0 0\" rpy=\"0 0 0\" />\n",
    "    <parent link=\"base_footprint\"/>\n",
    "    <child link=\"base_link\" />\n",
    "  </joint>\n",
    "  \n",
    "  "
   ]
  },
  {
   "cell_type": "markdown",
   "metadata": {},
   "source": [
    "Finally, we add an arm element to our robot, represent by another cylinder. The joint should now be given an offset relative to the base link to account for the cylinder length."
   ]
  },
  {
   "cell_type": "code",
   "execution_count": null,
   "metadata": {
    "collapsed": true
   },
   "outputs": [],
   "source": [
    "<!-- ARM-LINK -->\n",
    "  <link name=\"arm\">\n",
    "    <inertial>\n",
    "      <mass value=\"1\" />\n",
    "      <origin xyz=\"0 0 0\" />\n",
    "         <inertia ixx=\"0.001\" ixy=\"0.0\" ixz=\"0.0\"\n",
    "                 iyy=\"0.001\" iyz=\"0.0\" \n",
    "                 izz=\"0.001\" />\n",
    "\n",
    "    </inertial>    \n",
    "    <visual>\n",
    "      <origin xyz=\"0 0 0\" rpy=\"0 0 0\" />\n",
    "      <geometry>\n",
    "         <cylinder length=\"0.25\" radius=\"0.01\" />\n",
    "      </geometry>\n",
    "\n",
    "    </visual>  \n",
    "    <collision>\n",
    "      <origin xyz=\"0 0 0\" rpy=\"0 0 0 \" />\n",
    "      <geometry>\n",
    "          <cylinder length=\"0.15\" radius=\"0.01\" />\n",
    "      </geometry>\n",
    "    </collision>     \n",
    "  </link>  \n",
    "  \n",
    "  <joint name=\"arm_joint\" type=\"fixed\">\n",
    "    <origin xyz=\"0 0 0.25\" rpy=\"0 0 0\" />\n",
    "    <parent link=\"base_link\"/>\n",
    "    <child link=\"arm\" />\n",
    "  </joint>"
   ]
  },
  {
   "cell_type": "markdown",
   "metadata": {},
   "source": [
    "<p>Now that our robot model is finished, we can add it in the launch file we created earlier. Add the lines below to the file: 'myrobot_gazebo.launch'</p>\n"
   ]
  },
  {
   "cell_type": "markdown",
   "metadata": {
    "collapsed": true
   },
   "source": [
    "<!-- urdf xml robot description loaded on the Parameter Server -->\n",
    "  <param name=\"robot_description\" command=\"'$(find myrobot_description)/urdf/myrobot.urdf '\" /> \n",
    "\n",
    "<!-- Run a python script to the send a service call to gazebo_ros to spawn a URDF robot -->\n",
    "  <node name=\"urdf_spawner\" pkg=\"gazebo_ros\" type=\"spawn_model\" respawn=\"false\" output=\"screen\"\targs=\"-urdf -model myrobot -param robot_description\"/> "
   ]
  },
  {
   "cell_type": "markdown",
   "metadata": {},
   "source": [
    "<p>The second tag launches a program from the gazebo_ros package that will load the URDF from the parameter “robot_description” and spawn the model into our Gazebo simulator:</p>"
   ]
  },
  {
   "cell_type": "code",
   "execution_count": null,
   "metadata": {
    "collapsed": true
   },
   "outputs": [],
   "source": [
    "!roslaunch myrobot_gazebo myrobot_gazebo.launch "
   ]
  },
  {
   "cell_type": "markdown",
   "metadata": {},
   "source": [
    "<h2>Simulating a differential drive mobile robot in Gazebo and ROS</h2>\n",
    "<p>In this section you are going to learn:</p>\n",
    "\n",
    "\n",
    "<ul>\n",
    "    <li>How to build a simple differential drive robot simulation in Gazebo</li> \n",
    "    <li>How to add a plugin to the model to allow ROS commands to be sent to the robot</li> \n",
    "    <li>How to move the robot with ROS messages</li>\n",
    "</ul>    \n",
    "\n",
    "<p>A differential wheeled robot is a mobile robot whose movement is created by two separately driven wheels placed on either side of the robot body. It can thus change its direction by varying the relative rate of rotation of its wheels and hence does not require an additional steering motion.</p>\n",
    "<p><img src='http://42bots.com/wp-content/uploads/2014/01/Differential-Steering-Tutorials-42bots2.png' width='600px'/></p>\n"
   ]
  },
  {
   "cell_type": "markdown",
   "metadata": {},
   "source": [
    "<p>We will use a premade robot model already for the simulation. Please see the appendix at the end of the notebook for more details on how to build this robot model.</p>\n",
    "<img src=\"images/diff_drive_robot_URDF.png\">\n",
    "<figcaption style=\"text-align:center\">Differential Drive Robot</figcaption>"
   ]
  },
  {
   "cell_type": "markdown",
   "metadata": {},
   "source": [
    "<h3>Connecting your robot to ROS</h3>\n",
    "\n",
    "<p>In order to add this connection we need to add Gazebo plugins to our model. There are different kinds of plugins:</p>\n",
    "\n",
    "<ul>\n",
    "    <li>World: Dynamic changes to the world, e.g. Physics, like illumination or gravity, inserting models</li>\n",
    "    <li>Model: Manipulation of models (robots), e.g. move the robots</li>\n",
    "    <li>Sensor: Feedback from virtual sensors, e.g. cameras, laser scanners, etc.</li>\n",
    "    <li>System: Plugins that are loaded by the GUI, e.g. saving images</li>\n",
    "    </ul>\n",
    "<p>First of all, a controller plugin is needed to drive our robot with ROS. The transmission tags will be used by this plugin to define how to link the joints to the controllers. To activate the plugin, the following lines are added just before closing robot tag. You can view it in the differential drive robot URDF.</p>\n"
   ]
  },
  {
   "cell_type": "code",
   "execution_count": null,
   "metadata": {
    "collapsed": true
   },
   "outputs": [],
   "source": [
    "<!-- Differential drive controller  -->\n",
    "  <gazebo>\n",
    "    <plugin name=\"differential_drive_controller\" filename=\"libgazebo_ros_diff_drive.so\">\n",
    "\n",
    "      <rosDebugLevel>Debug</rosDebugLevel>\n",
    "      <publishWheelTF>false</publishWheelTF>\n",
    "      <robotNamespace>/</robotNamespace>\n",
    "      <publishTf>1</publishTf>\n",
    "      <publishWheelJointState>false</publishWheelJointState>\n",
    "      <alwaysOn>true</alwaysOn>\n",
    "      <updateRate>100.0</updateRate>\n",
    "      <leftJoint>front_left_wheel_joint</leftJoint>\n",
    "      <rightJoint>front_right_wheel_joint</rightJoint>\n",
    "      <wheelSeparation>${2*base_radius}</wheelSeparation>\n",
    "      <wheelDiameter>${2*wheel_radius}</wheelDiameter>\n",
    "      <broadcastTF>1</broadcastTF>\n",
    "      <wheelTorque>30</wheelTorque>\n",
    "      <wheelAcceleration>1.8</wheelAcceleration>\n",
    "      <commandTopic>cmd_vel</commandTopic>\n",
    "      <odometryFrame>odom</odometryFrame> \n",
    "      <odometryTopic>odom</odometryTopic> \n",
    "      <robotBaseFrame>base_footprint</robotBaseFrame>\n",
    "\n",
    "    </plugin>\n",
    "  </gazebo> "
   ]
  },
  {
   "cell_type": "markdown",
   "metadata": {},
   "source": [
    "<p>This plugin is already present in the robot model, so go ahead and launch the simulation.</p>"
   ]
  },
  {
   "cell_type": "code",
   "execution_count": null,
   "metadata": {
    "collapsed": true
   },
   "outputs": [],
   "source": [
    "roslaunch diff_wheeled_robot_gazebo diff_wheeled_gazebo.launch"
   ]
  },
  {
   "cell_type": "markdown",
   "metadata": {},
   "source": [
    "<p> In a separate terminal, type <code>rostopic list</code>. you should see the topics being published by Gazebo, which includes command topics and feedback from the wheel encoders which is being published on <code>odom</code> topic. Now lets send a movement command to the robot. </p>"
   ]
  },
  {
   "cell_type": "code",
   "execution_count": null,
   "metadata": {
    "collapsed": true
   },
   "outputs": [],
   "source": [
    "rostopic pub -1 /cmd_vel geometry_msgs/Twist \"linear:\n",
    "  x: 0.1\n",
    "  y: 0.0\n",
    "  z: 0.0\n",
    "angular:\n",
    "  x: 0.0\n",
    "  y: 0.0\n",
    "  z: 0.0\" "
   ]
  },
  {
   "cell_type": "markdown",
   "metadata": {},
   "source": [
    "<p>The robot should start moving. Congratulations, you can now control your robot through ROS while simulating in Gazebo ! You can also monitor the robot pose by doing:</p>"
   ]
  },
  {
   "cell_type": "code",
   "execution_count": null,
   "metadata": {
    "collapsed": true
   },
   "outputs": [],
   "source": [
    "!rostopic echo /odom"
   ]
  },
  {
   "cell_type": "markdown",
   "metadata": {},
   "source": [
    "<h3>Adding a Sensor</h3>\n",
    "\n",
    "<p>To enable our robot to detect obstacles, we will use a range sensor, which is included in the URDF file. You can view the contents with:</p>"
   ]
  },
  {
   "cell_type": "code",
   "execution_count": null,
   "metadata": {
    "collapsed": true
   },
   "outputs": [],
   "source": [
    "!roscd diff_wheeled_robot_description/urdf/\n",
    "!cat sonar_model.xacro"
   ]
  },
  {
   "cell_type": "markdown",
   "metadata": {},
   "source": [
    "<p>Like before, we ca, find the link and joint tags in the file, which create a small box for the sonar sensor. The plugin tag refers to the plugins of Gazebo that are used to generate sensory feedback from the environment. In our case, we use hector gazebo plugins for simulating a sonar sensor. </p>"
   ]
  },
  {
   "cell_type": "markdown",
   "metadata": {},
   "source": [
    "<p>This macro is added to robot xacro which is diff_wheeled_robot.xacro</p>"
   ]
  },
  {
   "cell_type": "code",
   "execution_count": null,
   "metadata": {
    "collapsed": true
   },
   "outputs": [],
   "source": [
    "  <xacro:include filename=\"$(find diff_wheeled_robot_description)/urdf/sonar_model.xacro\"/>"
   ]
  },
  {
   "cell_type": "code",
   "execution_count": null,
   "metadata": {
    "collapsed": true
   },
   "outputs": [],
   "source": [
    "  <!-- SENSORS -->\n",
    "  <sonar_sensor parent=\"base_link\" name=\"differential_wheeled_robot\" ros_topic=\"/distance\" update_rate=\"10\" min_range=\"0.2\" max_range=\"1\" field_of_view=\"25\" ray_count=\"2\" >\n",
    "    <origin xyz=\"0.05 0 0.01\" rpy=\"0 0 0\" />\n",
    "  </sonar_sensor>"
   ]
  },
  {
   "cell_type": "markdown",
   "metadata": {},
   "source": [
    "<p>Now let's launch our robot to visualize the sensor</p>"
   ]
  },
  {
   "cell_type": "code",
   "execution_count": null,
   "metadata": {
    "collapsed": true
   },
   "outputs": [],
   "source": [
    "roslaunch diff_wheeled_robot_gazebo diff_wheeled_gazebo.launch"
   ]
  },
  {
   "cell_type": "markdown",
   "metadata": {},
   "source": [
    "<h3>Adding a control program</h3>\n",
    "\n",
    "<p>Now that we have a differential drive robot that we can control and we and receive sensory feedback, let's add some intelligence. In appendix, you can find the complete python code for a ROS control node. It subscribes to the <code>distance</code> topic which is being published by the sonar sensor. Once we get the range data, a simple if statement decides whether the robot should move or not. These velocity commands are then sent to <code>cmd_vel</code> topic. Let's test our control program. Go ahead and launch the differential drive robot simulation file:</p>\n"
   ]
  },
  {
   "cell_type": "code",
   "execution_count": null,
   "metadata": {
    "collapsed": true
   },
   "outputs": [],
   "source": [
    "!roslaunch diff_wheeled_robot_gazebo diff_wheeled_gazebo.launch"
   ]
  },
  {
   "cell_type": "markdown",
   "metadata": {},
   "source": [
    "In a seperate terminal, start the control node:"
   ]
  },
  {
   "cell_type": "code",
   "execution_count": null,
   "metadata": {
    "collapsed": true
   },
   "outputs": [],
   "source": [
    "rosrun diff_wheeled_robot_gazebo object_detection.py"
   ]
  },
  {
   "cell_type": "markdown",
   "metadata": {},
   "source": [
    "<h2>Appendix</h2>"
   ]
  },
  {
   "cell_type": "markdown",
   "metadata": {},
   "source": [
    "<h3>Differential drive robot xacro</h3>\n",
    "<p>The xmlns:xacro=\"http://www.ros.org/wiki/xacro\" in diff_wheeld_robot.xacro specifies that the file will use xacro which we will use to add range sensor. If you want to use xacro you have to put this. With xacro, you can define parameters. This make the file clearer. They are usually put at the beginning of the file (within the robot tag, of course). We will not use xacro for now, but you can find more details about xacro <a href:\"http://wiki.ros.org/urdf/Tutorials/Using%20Xacro%20to%20Clean%20Up%20a%20URDF%20File\">here</a>.</p>\n",
    "\n",
    "<p>Physical properties for the robot are defined, mainly the dimensions of the chassis, the caster wheel, the wheels and the range sensor:</p>"
   ]
  },
  {
   "cell_type": "code",
   "execution_count": null,
   "metadata": {
    "collapsed": true
   },
   "outputs": [],
   "source": [
    "\n",
    "  \n",
    "<!-- PROPERTY LIST -->\n",
    "  <!--All units in m-kg-s-radians unit system -->\n",
    "  <property name=\"M_PI\" value=\"3.1415926535897931\" />\n",
    "  <property name=\"M_PI_2\" value=\"1.570796327\" />\n",
    "  <property name=\"DEG_TO_RAD\" value=\"0.017453293\" />\n",
    "\n",
    "  <!-- Main body radius and height -->\n",
    "  <!-- Main Body Cylinder base   -->\n",
    "  <property name=\"base_height\" value=\"0.02\" /> \n",
    "  <property name=\"base_radius\" value=\"0.15\" /> \n",
    "  <property name=\"base_mass\" value=\"5\" /> <!-- in kg-->\n",
    "\n",
    "\n",
    "\n",
    "  <!-- caster wheel radius and height -->\n",
    "  <!-- caster wheel mass -->\n",
    "  <property name=\"caster_f_height\" value=\"0.04\" /> \n",
    "  <property name=\"caster_f_radius\" value=\"0.025\" /> \n",
    "  <property name=\"caster_f_mass\" value=\"0.5\" /> <!-- in kg-->\n",
    "\n",
    "\n",
    "\n",
    "  <!-- caster wheel radius and height -->\n",
    "  <!-- caster wheel mass -->\n",
    "  <property name=\"caster_b_height\" value=\"0.04\" /> \n",
    "  <property name=\"caster_b_radius\" value=\"0.025\" /> \n",
    "  <property name=\"caster_b_mass\" value=\"0.5\" /> <!-- in kg-->\n"
   ]
  },
  {
   "cell_type": "markdown",
   "metadata": {},
   "source": [
    "<p>Every file must contain the robot tag and everything we put in them should be in this tag.</p>\n",
    "\n",
    "<p>Now a circular base for the robot is defined. Insert this within the robot tag of diff_wheeled_robot_description.xacro:</p>"
   ]
  },
  {
   "cell_type": "code",
   "execution_count": null,
   "metadata": {
    "collapsed": true
   },
   "outputs": [],
   "source": [
    "<!-- BASE-LINK -->\n",
    "  <!--Actual body/chassis of the robot-->\n",
    "  <link name=\"base_link\">\n",
    "    <inertial>\n",
    "      <mass value=\"${base_mass}\" />\n",
    "      <origin xyz=\"0 0 0\" />\n",
    "      <!--The 3x3 rotational inertia matrix. -->\n",
    "        <cylinder_inertia  m=\"${base_mass}\" r=\"${base_radius}\" h=\"${base_height}\" />\n",
    "\n",
    "    </inertial>    "
   ]
  },
  {
   "cell_type": "markdown",
   "metadata": {},
   "source": [
    "<ul>\n",
    "    \n",
    "<li>inertial tag (optional): The inertial properties of the link.</li>\n",
    "<li>origin tag (optional: defaults to identity if not specified): This is the pose of the inertial reference frame, relative to the link reference frame. The origin of the inertial reference frame needs to be at the center of gravity. The axes of the inertial reference frame do not need to be aligned with the principal axes of the inertia.</li>\n",
    "\n",
    "<li>xyz tag (optional: defaults to zero vector): Represents the x,y,z offset.</li>\n",
    "\n",
    "<li>rpy (optional: defaults to identity if not specified): Represents the fixed axis roll, pitch and yaw angles in radians.</li>\n",
    "<li>mass tag: The mass of the link is represented by the value attribute of this element.</li>\n",
    "<li>inertia tag: The 3x3 rotational inertia matrix, represented in the inertia frame. Because the rotational inertia matrix is symmetric, only 6 above-diagonal elements of this matrix are specified here, using the attributes ixx, ixy, ixz, iyy, iyz, izz,</li>\n",
    "</ul>"
   ]
  },
  {
   "cell_type": "code",
   "execution_count": null,
   "metadata": {
    "collapsed": true
   },
   "outputs": [],
   "source": [
    "    <visual>\n",
    "      <origin xyz=\"0 0 0\" rpy=\"0 0 0\" />\n",
    "      <geometry>\n",
    "          <cylinder length=\"${base_height}\" radius=\"${base_radius}\" />\n",
    "      </geometry>\n",
    "    </visual>  \n",
    "    \n",
    "    <collision>\n",
    "      <origin xyz=\"0 0 0\" rpy=\"0 0 0 \" />\n",
    "      <geometry>\n",
    "          <cylinder length=\"${base_height}\" radius=\"${base_radius}\" />\n",
    "      </geometry>\n",
    "    </collision>   \n",
    "    \n",
    "  </link>\n",
    "  <gazebo reference=\"base_link\">\n",
    "    <turnGravityOff>false</turnGravityOff>\n",
    "  </gazebo>"
   ]
  },
  {
   "cell_type": "markdown",
   "metadata": {},
   "source": [
    "<ul>\n",
    "\n",
    "<li>visual tag (optional): The visual properties of the link. This element specifies the shape of the object (box, cylinder, etc.) for visualization purposes. Note: multiple instances of visual tags can exist for the same link. The union of the geometry they define forms the visual representation of the link.</li>\n",
    "\n",
    "<li>name tag (optional): Specifies a name for a part of a link's geometry. This is useful to be able to refer to specific bits of the geometry of a link.</li>\n",
    "<li>origin tag (optional: defaults to identity if not specified): The reference frame of the visual element with respect to the reference frame of the link.</li>\n",
    "<li>xyz tag (optional: defaults to zero vector): Represents the x,y,z offset.</li>\n",
    "\n",
    "<li>rpy tag (optional: defaults to identity if not specified): Represents the fixed axis roll, pitch and yaw angles in radians.</li>\n",
    "<li>geometry tag (required): The shape of the visual object. This can be one of the following:\n",
    "    <ul>\n",
    "        <li>box: size attribute contains the three side lengths of the box. The origin of the box is in its center.</li>\n",
    "        <li>cylinder: Specify the radius and length. The origin of the cylinder is in its center. cylinder_coordinates.png</li>\n",
    "        <li>sphere: Specify the radius. The origin of the sphere is in its center.</li>\n",
    "    </ul>\n",
    "\n",
    "\n",
    "<li>collision tag(optional): The collision properties of a link. Note that this can be different from the visual properties of a link, for example, simpler collision models are often used to reduce computation time. Note: multiple instances of collision tags can exist for the same link. The union of the geometry they define forms the collision representation of the link.</li>\n",
    "\n",
    "<li>origin tag (optional: defaults to identity if not specified): The reference frame of the collision element, relative to the reference frame of the link.</li>\n",
    "\n",
    "<li>gazebo tag: Define the properties you want Gazebo physics engine to use.As they don’t need to be that complicated for collision detection you could use a simple model for the collision. The material element in the visual tag refer to a color that must be defined </li>\n",
    "</ul>"
   ]
  },
  {
   "cell_type": "markdown",
   "metadata": {},
   "source": [
    "<p>We define a cylinder with Length x radius x meters and mass chassisMasskg.</p>\n",
    "\n",
    "<p>As you can see, we have three tags for this one box, where one is used to the collision detection engine, one to the visual rendering engine and the last to the physic engine. Most of the time they are the same, except when you have complicated and beautiful visual meshes.</p>\n",
    "\n"
   ]
  },
  {
   "cell_type": "markdown",
   "metadata": {},
   "source": [
    "<p>Once again, we add more than we needed. We will use the others later. The inertia tag is a convention of the inertial tag in a link.</p>\n",
    "\n",
    "<p>The physic engine does not accept a base_link with inertia. It is then useful to add a simple link without inertia and make a joint between it and the chassis. Add this before the base_link in the diff_wheeled_robot.xacro file:</p>"
   ]
  },
  {
   "cell_type": "code",
   "execution_count": null,
   "metadata": {
    "collapsed": true
   },
   "outputs": [],
   "source": [
    "<!-- BASE-FOOTPRINT -->\n",
    "  <!-- base_footprint is a fictitious link(frame) that is on the ground right below base_link origin -->\n",
    "  <link name=\"base_footprint\">\n",
    "    <inertial>\n",
    "      <mass value=\"0.0001\" />\n",
    "      <origin xyz=\"0 0 0\" />\n",
    "      <inertia ixx=\"0.0001\" ixy=\"0.0\" ixz=\"0.0\"\n",
    "          iyy=\"0.0001\" iyz=\"0.0\" \n",
    "          izz=\"0.0001\" />\n",
    "    </inertial>\n",
    "    <visual>\n",
    "        <origin xyz=\"0 0 0\" rpy=\"0 0 0\" />\n",
    "        <geometry>\n",
    "            <box size=\"0.001 0.001 0.001\" />\n",
    "        </geometry>\n",
    "    </visual>\n",
    "  </link>\n",
    "\n",
    "  <gazebo reference=\"base_footprint\">\n",
    "    <turnGravityOff>false</turnGravityOff>\n",
    "  </gazebo>\n",
    "\n",
    "  <joint name=\"base_footprint_joint\" type=\"fixed\">\n",
    "    <origin xyz=\"0 0 ${wheel_radius - base_z_origin_to_wheel_origin}\" rpy=\"0 0 0\" />\n",
    "    <parent link=\"base_footprint\"/>\n",
    "    <child link=\"base_link\" />\n",
    "  </joint>\n",
    "  "
   ]
  },
  {
   "cell_type": "markdown",
   "metadata": {},
   "source": [
    "<p>As a next step we add a caster wheels to the robot. This is the simplest wheel as we have no axis and no friction. We can simply approximate the caster wheels with a ball. Add this after the chassis link in the main urdf file:</p>"
   ]
  },
  {
   "cell_type": "code",
   "execution_count": null,
   "metadata": {
    "collapsed": true
   },
   "outputs": [],
   "source": [
    "<!--Caster front  -->\n",
    "\n",
    "    <link name=\"caster_front_link\">\n",
    "\n",
    "    <visual>\n",
    "      <origin xyz=\"0 0.02 0\" rpy=\"${M_PI/2} 0 0\" />\n",
    "      <geometry>\n",
    "\t<sphere radius=\"${caster_f_radius}\" />\n",
    "      </geometry>\n",
    "\n",
    "    </visual>  \n",
    "\n",
    "\n",
    "\n",
    "      <collision>\n",
    "        <geometry>\n",
    "\n",
    "\t<sphere radius=\"${caster_f_radius}\" />\n",
    "\n",
    "        </geometry>\n",
    "      <origin xyz=\"0 0.02 0\" rpy=\"${M_PI/2} 0 0\" />\n",
    "      </collision>      \n",
    "      <inertial>\n",
    "        <mass value=\"${caster_f_mass}\" />\n",
    "        <origin xyz=\"0 0 0\" />\n",
    "        <inertia ixx=\"0.001\" ixy=\"0.0\" ixz=\"0.0\"\n",
    "                 iyy=\"0.001\" iyz=\"0.0\" \n",
    "                 izz=\"0.001\" />\n",
    "      </inertial>\n",
    "    </link>\n",
    "\n",
    "\n",
    "\n",
    " <joint name=\"caster_front_joint\" type=\"fixed\">\n",
    "      <parent link=\"base_link\"/>\n",
    "      <child link=\"caster_front_link\"/>\n",
    "      <origin xyz=\"0.115 0.0 0.007\" rpy=\"${-M_PI/2} 0 0\"/>\n",
    "    </joint>\n",
    "\n",
    "\n",
    "  <gazebo reference=\"caster_front_link\">\n",
    "    <turnGravityOff>false</turnGravityOff>\n",
    "  </gazebo>\n",
    "    \n",
    "\n",
    "\n",
    "<!--Caster back  -->\n",
    "\n",
    "    <link name=\"caster_back_link\">\n",
    "\n",
    "    <visual>\n",
    "      <origin xyz=\"0.02 0.02 0 \" rpy=\"${M_PI/2} 0 0\" /> \n",
    "\n",
    "      <geometry>\n",
    "\n",
    "\n",
    "\t<sphere radius=\"${caster_b_radius}\" />\n",
    "\n",
    "\n",
    "      </geometry>\n",
    "\n",
    "    </visual>  \n",
    "\n",
    "      <collision>\n",
    "        <geometry>\n",
    "\t\t<sphere radius=\"${caster_b_radius}\" />\n",
    "        </geometry>\n",
    "      <origin xyz=\"0 0.02 0 \" rpy=\"${M_PI/2} 0 0\" /> \n",
    "      </collision>      \n",
    "      <inertial>\n",
    "        <mass value=\"${caster_b_mass}\" />\n",
    "        <origin xyz=\"0 0 0\" />        \n",
    "        <inertia ixx=\"0.001\" ixy=\"0.0\" ixz=\"0.0\"\n",
    "                 iyy=\"0.001\" iyz=\"0.0\" \n",
    "                 izz=\"0.001\" />\n",
    "      </inertial>\n",
    "    </link>\n",
    "\n",
    "    <joint name=\"caster_back_joint\" type=\"fixed\">\n",
    "      <parent link=\"base_link\"/>\n",
    "      <child link=\"caster_back_link\"/>\n",
    "      <origin xyz=\"-0.135 0.0 0.009\" rpy=\"${-M_PI/2} 0 0\"/>\n",
    "    </joint>\n",
    "\n",
    "\n",
    "  <gazebo reference=\"caster_back_link\">\n",
    "    <turnGravityOff>false</turnGravityOff>\n",
    "  </gazebo>\n"
   ]
  },
  {
   "cell_type": "markdown",
   "metadata": {},
   "source": [
    "<p>Last but not least, we want to add some wheels to the robot.Now you can add the wheels to the main file:</p>"
   ]
  },
  {
   "cell_type": "code",
   "execution_count": null,
   "metadata": {
    "collapsed": true
   },
   "outputs": [],
   "source": [
    "<!-- Wheel Definitions -->\n",
    "<!--right_wheel-->\n",
    "    <link name=\"front_right_wheel\">\n",
    "      <visual>\n",
    "        <origin xyz=\"0 0 0\" rpy=\"${1*M_PI/2} 0  0 \" /> \n",
    "        <geometry>\n",
    "          <cylinder length=\"${wheel_height}\" radius=\"${wheel_radius}\" />\n",
    "        </geometry>\n",
    "\n",
    "      </visual>\n",
    "      <collision>\n",
    "        <origin xyz=\"0 0 0\" rpy=\"${1*M_PI/2} 0 0 \" />\n",
    "        <geometry>\n",
    "          <cylinder length=\"${wheel_height}\" radius=\"${wheel_radius}\" />\n",
    "        </geometry>\n",
    "      </collision>\n",
    "      <inertial>\n",
    "        <mass value=\"${wheel_mass}\" />\n",
    "        <origin xyz=\"0 0 0\" />\n",
    "        <inertia ixx=\"0.001\" ixy=\"0.0\" ixz=\"0.0\"\n",
    "                 iyy=\"0.001\" iyz=\"0.0\" \n",
    "                 izz=\"0.001\" />\n",
    "      </inertial>\n",
    "    </link>\n",
    "\n",
    "    <joint name=\"front_right_wheel_joint\" type=\"continuous\">\n",
    "      <parent link=\"base_link\"/>\n",
    "      <child link=\"front_right_wheel\"/>\n",
    "      <origin xyz=\"${0 * base_x_origin_to_wheel_origin} ${0.5 * base_y_origin_to_wheel_origin} ${base_z_origin_to_wheel_origin}\" rpy=\"0 0 0\" /> \n",
    "      <axis xyz=\"0 1 0\" rpy=\"0  0\" />\n",
    "      <limit effort=\"100\" velocity=\"100\"/>\n",
    "      <joint_properties damping=\"0.0\" friction=\"0.0\"/>\n",
    "    </joint>\n",
    "\n",
    " <!-- Transmission is important to link the joints and the controller -->\n",
    "    <transmission name=\"front_right_wheel_joint_trans\">\n",
    "      <type>transmission_interface/SimpleTransmission</type>\n",
    "      <joint name=\"front_right_wheel_joint\" />\n",
    "      <actuator name=\"front_right_wheel_joint_motor\">\n",
    "        <hardwareInterface>EffortJointInterface</hardwareInterface>\n",
    "        <mechanicalReduction>1</mechanicalReduction>\n",
    "      </actuator>\n",
    "    </transmission>\n",
    "    \n",
    "   <gazebo reference=\"front_right_wheel\">\n",
    "      <mu1 value=\"1.0\"/>\n",
    "      <mu2 value=\"1.0\"/>\n",
    "      <kp  value=\"10000000.0\" />\n",
    "      <kd  value=\"1.0\" />\n",
    "      <fdir1 value=\"1 0 0\"/>\n",
    "\n",
    "      <turnGravityOff>false</turnGravityOff>\n",
    "    </gazebo>\n",
    "\n",
    "<!--left_wheel-->\n",
    "    <link name=\"front_left_wheel\">\n",
    "      <visual>\n",
    "        <origin xyz=\"0 0 0\" rpy=\"${1*M_PI/2} 0  0 \" /> \n",
    "        <geometry>\n",
    "          <cylinder length=\"${wheel_height}\" radius=\"${wheel_radius}\" />\n",
    "        </geometry>\n",
    "\n",
    "      </visual>\n",
    "      <collision>\n",
    "        <origin xyz=\"0 0 0\" rpy=\"${1*M_PI/2} 0 0 \" />\n",
    "        <geometry>\n",
    "          <cylinder length=\"${wheel_height}\" radius=\"${wheel_radius}\" />\n",
    "        </geometry>\n",
    "      </collision>\n",
    "      <inertial>\n",
    "        <mass value=\"${wheel_mass}\" />\n",
    "        <origin xyz=\"0 0 0\" />\n",
    "        <inertia ixx=\"0.001\" ixy=\"0.0\" ixz=\"0.0\"\n",
    "                 iyy=\"0.001\" iyz=\"0.0\" \n",
    "                 izz=\"0.001\" />\n",
    "      </inertial>\n",
    "    </link>\n",
    "\n",
    "    <joint name=\"front_left_wheel_joint\" type=\"continuous\">\n",
    "      <parent link=\"base_link\"/>\n",
    "      <child link=\"front_left_wheel\"/>\n",
    "      <origin xyz=\"${0 * base_x_origin_to_wheel_origin} ${-0.5 * base_y_origin_to_wheel_origin} ${base_z_origin_to_wheel_origin}\" rpy=\"0 0 0\" /> \n",
    "      <axis xyz=\"0 1 0\" rpy=\"0  0\" />\n",
    "      <limit effort=\"100\" velocity=\"100\"/>\n",
    "      <joint_properties damping=\"0.0\" friction=\"0.0\"/>\n",
    "    </joint>\n",
    " <!-- Transmission is important to link the joints and the controller -->\n",
    "    <transmission name=\"front_left_wheel_joint_trans\">\n",
    "      <type>transmission_interface/SimpleTransmission</type>\n",
    "      <joint name=\"front_left_wheel_joint\" />\n",
    "      <actuator name=\"front_left_wheel_joint_motor\">\n",
    "        <hardwareInterface>EffortJointInterface</hardwareInterface>\n",
    "        <mechanicalReduction>1</mechanicalReduction>\n",
    "      </actuator>\n",
    "    </transmission>\n",
    "   \n",
    "    <gazebo reference=\"front_left_wheel\">\n",
    "      <mu1 value=\"1.0\"/>\n",
    "      <mu2 value=\"1.0\"/>\n",
    "      <kp  value=\"10000000.0\" />\n",
    "      <kd  value=\"1.0\" />\n",
    "      <fdir1 value=\"1 0 0\"/>\n",
    "\n",
    "      <turnGravityOff>false</turnGravityOff>\n",
    "    </gazebo>\n",
    "</robot>"
   ]
  },
  {
   "cell_type": "markdown",
   "metadata": {
    "collapsed": true
   },
   "source": [
    "<h3>Control program</h3>"
   ]
  },
  {
   "cell_type": "code",
   "execution_count": null,
   "metadata": {
    "collapsed": true
   },
   "outputs": [],
   "source": [
    "#!/usr/bin/env python\n",
    "import rospy\n",
    "from geometry_msgs.msg import Twist\n",
    "from sensor_msgs.msg import Range\n",
    "\n",
    "distance=0\n",
    "vel_msg = Twist()\n",
    "vel_msg.linear.x = 0\n",
    "vel_msg.linear.y = 0\n",
    "vel_msg.linear.z = 0\n",
    "vel_msg.angular.x = 0\n",
    "vel_msg.angular.y = 0\n",
    "vel_msg.angular.z = 0\n",
    "\n",
    "def callback(data):\n",
    "    distance=data.range\n",
    "    rospy.loginfo(rospy.get_caller_id() + \"I heard %f\", data.range)\n",
    "    if(distance>0.8):\n",
    "       \tvel_msg.linear.x = 0.1\n",
    "    else:\n",
    "       \tvel_msg.linear.x = 0\n",
    "\n",
    "    #Publish the velocity\n",
    "    velocity_publisher.publish(vel_msg)\n",
    "        \n",
    "if __name__ == '__main__':\n",
    "\n",
    "    # Starts a new node\n",
    "    rospy.init_node('object_detection', anonymous=True)\n",
    "    rospy.Subscriber(\"distance\", Range, callback)\n",
    "    velocity_publisher = rospy.Publisher('/cmd_vel', Twist, queue_size=10)\n",
    "    \n",
    "    rospy.spin()"
   ]
  }
 ],
 "metadata": {
  "kernelspec": {
   "display_name": "Python 2",
   "language": "python",
   "name": "python2"
  },
  "language_info": {
   "codemirror_mode": {
    "name": "ipython",
    "version": 2
   },
   "file_extension": ".py",
   "mimetype": "text/x-python",
   "name": "python",
   "nbconvert_exporter": "python",
   "pygments_lexer": "ipython2",
   "version": "2.7.13"
  },
  "toc": {
   "nav_menu": {},
   "number_sections": true,
   "sideBar": true,
   "skip_h1_title": true,
   "title_cell": "Table of Contents",
   "title_sidebar": "Contents",
   "toc_cell": true,
   "toc_position": {
    "height": "calc(100% - 180px)",
    "left": "10px",
    "top": "150px",
    "width": "371px"
   },
   "toc_section_display": true,
   "toc_window_display": true
  }
 },
 "nbformat": 4,
 "nbformat_minor": 2
}
